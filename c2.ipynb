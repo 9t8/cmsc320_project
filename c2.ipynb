{
 "cells": [
  {
   "cell_type": "markdown",
   "id": "e2c8fb04",
   "metadata": {},
   "source": [
    "# CMSC320: Checkpoint 2\n",
    "Tyshon Brown, David Li, Zile Liu, and Samuel Opoku-Agyemang\n"
   ]
  },
  {
   "cell_type": "markdown",
   "id": "ddf59035",
   "metadata": {},
   "source": [
    "## Data Pre-Processing"
   ]
  },
  {
   "cell_type": "markdown",
   "id": "a0314882",
   "metadata": {},
   "source": [
    "### Imports"
   ]
  },
  {
   "cell_type": "code",
   "execution_count": 60,
   "id": "1e35aa1e",
   "metadata": {},
   "outputs": [],
   "source": [
    "import pandas as pd\n",
    "import numpy as np\n",
    "\n",
    "import json\n",
    "\n",
    "from census import Census\n",
    "#from us import states\n",
    "\n",
    "from IPython.display import display\n",
    "import matplotlib.pyplot as plt\n",
    "import seaborn as sns\n",
    "sns.set_theme()\n",
    "\n",
    "# sam's API key: 23c580dcbb047d99e93502f60681fc6430f2fc9a\n",
    "c = Census(\"23c580dcbb047d99e93502f60681fc6430f2fc9a\", year = 2020)\n"
   ]
  },
  {
   "cell_type": "markdown",
   "id": "ff2f80d6",
   "metadata": {},
   "source": [
    "### Population"
   ]
  },
  {
   "cell_type": "code",
   "execution_count": 61,
   "id": "b9074edb",
   "metadata": {},
   "outputs": [
    {
     "data": {
      "application/vnd.microsoft.datawrangler.viewer.v0+json": {
       "columns": [
        {
         "name": "index",
         "rawType": "int64",
         "type": "integer"
        },
        {
         "name": "Name",
         "rawType": "object",
         "type": "string"
        },
        {
         "name": "Population",
         "rawType": "int64",
         "type": "integer"
        }
       ],
       "ref": "a393852f-71d4-4b68-9945-c591874f3efc",
       "rows": [
        [
         "0",
         "Pennsylvania",
         "12794885"
        ],
        [
         "1",
         "California",
         "39346023"
        ],
        [
         "2",
         "West Virginia",
         "1807426"
        ],
        [
         "3",
         "Utah",
         "3151239"
        ],
        [
         "4",
         "New York",
         "19514849"
        ]
       ],
       "shape": {
        "columns": 2,
        "rows": 5
       }
      },
      "text/html": [
       "<div>\n",
       "<style scoped>\n",
       "    .dataframe tbody tr th:only-of-type {\n",
       "        vertical-align: middle;\n",
       "    }\n",
       "\n",
       "    .dataframe tbody tr th {\n",
       "        vertical-align: top;\n",
       "    }\n",
       "\n",
       "    .dataframe thead th {\n",
       "        text-align: right;\n",
       "    }\n",
       "</style>\n",
       "<table border=\"1\" class=\"dataframe\">\n",
       "  <thead>\n",
       "    <tr style=\"text-align: right;\">\n",
       "      <th></th>\n",
       "      <th>Name</th>\n",
       "      <th>Population</th>\n",
       "    </tr>\n",
       "  </thead>\n",
       "  <tbody>\n",
       "    <tr>\n",
       "      <th>0</th>\n",
       "      <td>Pennsylvania</td>\n",
       "      <td>12794885</td>\n",
       "    </tr>\n",
       "    <tr>\n",
       "      <th>1</th>\n",
       "      <td>California</td>\n",
       "      <td>39346023</td>\n",
       "    </tr>\n",
       "    <tr>\n",
       "      <th>2</th>\n",
       "      <td>West Virginia</td>\n",
       "      <td>1807426</td>\n",
       "    </tr>\n",
       "    <tr>\n",
       "      <th>3</th>\n",
       "      <td>Utah</td>\n",
       "      <td>3151239</td>\n",
       "    </tr>\n",
       "    <tr>\n",
       "      <th>4</th>\n",
       "      <td>New York</td>\n",
       "      <td>19514849</td>\n",
       "    </tr>\n",
       "  </tbody>\n",
       "</table>\n",
       "</div>"
      ],
      "text/plain": [
       "            Name  Population\n",
       "0   Pennsylvania    12794885\n",
       "1     California    39346023\n",
       "2  West Virginia     1807426\n",
       "3           Utah     3151239\n",
       "4       New York    19514849"
      ]
     },
     "execution_count": 61,
     "metadata": {},
     "output_type": "execute_result"
    }
   ],
   "source": [
    "population_data = c.acs5.state(('NAME', 'B01003_001E'), Census.ALL)\n",
    "population = pd.DataFrame(population_data)\n",
    "population.rename(columns={'NAME': 'Name', 'B01003_001E': 'Population'}, inplace=True)\n",
    "population['Population'] = population['Population'].astype(int)\n",
    "\n",
    "population = population.drop('state', axis=1)\n",
    "population.head()"
   ]
  },
  {
   "cell_type": "markdown",
   "id": "e68852f6",
   "metadata": {},
   "source": [
    "### Population Density"
   ]
  },
  {
   "cell_type": "code",
   "execution_count": 62,
   "id": "0924985c",
   "metadata": {},
   "outputs": [
    {
     "data": {
      "application/vnd.microsoft.datawrangler.viewer.v0+json": {
       "columns": [
        {
         "name": "index",
         "rawType": "int64",
         "type": "integer"
        },
        {
         "name": "Name",
         "rawType": "object",
         "type": "string"
        },
        {
         "name": "Resident Population Density",
         "rawType": "object",
         "type": "string"
        }
       ],
       "ref": "3790b3fb-bdcb-4058-a162-5fc4abc19005",
       "rows": [
        [
         "0",
         "Alabama",
         "99.2"
        ],
        [
         "1",
         "Alaska",
         "1.3"
        ],
        [
         "2",
         "Arizona",
         "62.9"
        ],
        [
         "3",
         "Arkansas",
         "57.9"
        ],
        [
         "4",
         "California",
         "253.7"
        ]
       ],
       "shape": {
        "columns": 2,
        "rows": 5
       }
      },
      "text/html": [
       "<div>\n",
       "<style scoped>\n",
       "    .dataframe tbody tr th:only-of-type {\n",
       "        vertical-align: middle;\n",
       "    }\n",
       "\n",
       "    .dataframe tbody tr th {\n",
       "        vertical-align: top;\n",
       "    }\n",
       "\n",
       "    .dataframe thead th {\n",
       "        text-align: right;\n",
       "    }\n",
       "</style>\n",
       "<table border=\"1\" class=\"dataframe\">\n",
       "  <thead>\n",
       "    <tr style=\"text-align: right;\">\n",
       "      <th></th>\n",
       "      <th>Name</th>\n",
       "      <th>Resident Population Density</th>\n",
       "    </tr>\n",
       "  </thead>\n",
       "  <tbody>\n",
       "    <tr>\n",
       "      <th>0</th>\n",
       "      <td>Alabama</td>\n",
       "      <td>99.2</td>\n",
       "    </tr>\n",
       "    <tr>\n",
       "      <th>1</th>\n",
       "      <td>Alaska</td>\n",
       "      <td>1.3</td>\n",
       "    </tr>\n",
       "    <tr>\n",
       "      <th>2</th>\n",
       "      <td>Arizona</td>\n",
       "      <td>62.9</td>\n",
       "    </tr>\n",
       "    <tr>\n",
       "      <th>3</th>\n",
       "      <td>Arkansas</td>\n",
       "      <td>57.9</td>\n",
       "    </tr>\n",
       "    <tr>\n",
       "      <th>4</th>\n",
       "      <td>California</td>\n",
       "      <td>253.7</td>\n",
       "    </tr>\n",
       "  </tbody>\n",
       "</table>\n",
       "</div>"
      ],
      "text/plain": [
       "         Name Resident Population Density\n",
       "0     Alabama                        99.2\n",
       "1      Alaska                         1.3\n",
       "2     Arizona                        62.9\n",
       "3    Arkansas                        57.9\n",
       "4  California                       253.7"
      ]
     },
     "execution_count": 62,
     "metadata": {},
     "output_type": "execute_result"
    }
   ],
   "source": [
    "# https://www.census.gov/data/tables/time-series/dec/density-data-text.html\n",
    "# renamed from \"apportionment.csv\"\n",
    "pop_density = pd.read_csv(\"population_density.csv\")\n",
    "pop_density = pop_density[['Name', 'Geography Type', 'Year', 'Resident Population Density']]\n",
    "pop_density = pop_density[(pop_density['Year'] == 2020) & (pop_density['Geography Type'] == \"State\")]\n",
    "pop_density = pop_density[['Name', 'Resident Population Density']].reset_index(drop = True)\n",
    "\n",
    "# 52 datapoints because DC and Puerto Rico count as states\n",
    "pop_density.head()"
   ]
  },
  {
   "cell_type": "markdown",
   "id": "9cc557ef",
   "metadata": {},
   "source": [
    "### Median Age"
   ]
  },
  {
   "cell_type": "code",
   "execution_count": 63,
   "id": "1dc1c644",
   "metadata": {},
   "outputs": [
    {
     "data": {
      "application/vnd.microsoft.datawrangler.viewer.v0+json": {
       "columns": [
        {
         "name": "index",
         "rawType": "int64",
         "type": "integer"
        },
        {
         "name": "Name",
         "rawType": "object",
         "type": "string"
        },
        {
         "name": "Median Age",
         "rawType": "float64",
         "type": "float"
        }
       ],
       "ref": "91b0da74-35c9-4cac-9f30-299fce224145",
       "rows": [
        [
         "0",
         "Alabama",
         "39.2"
        ],
        [
         "1",
         "Alaska",
         "34.6"
        ],
        [
         "2",
         "Arizona",
         "37.9"
        ],
        [
         "3",
         "Arkansas",
         "38.3"
        ],
        [
         "4",
         "California",
         "36.7"
        ]
       ],
       "shape": {
        "columns": 2,
        "rows": 5
       }
      },
      "text/html": [
       "<div>\n",
       "<style scoped>\n",
       "    .dataframe tbody tr th:only-of-type {\n",
       "        vertical-align: middle;\n",
       "    }\n",
       "\n",
       "    .dataframe tbody tr th {\n",
       "        vertical-align: top;\n",
       "    }\n",
       "\n",
       "    .dataframe thead th {\n",
       "        text-align: right;\n",
       "    }\n",
       "</style>\n",
       "<table border=\"1\" class=\"dataframe\">\n",
       "  <thead>\n",
       "    <tr style=\"text-align: right;\">\n",
       "      <th></th>\n",
       "      <th>Name</th>\n",
       "      <th>Median Age</th>\n",
       "    </tr>\n",
       "  </thead>\n",
       "  <tbody>\n",
       "    <tr>\n",
       "      <th>0</th>\n",
       "      <td>Alabama</td>\n",
       "      <td>39.2</td>\n",
       "    </tr>\n",
       "    <tr>\n",
       "      <th>1</th>\n",
       "      <td>Alaska</td>\n",
       "      <td>34.6</td>\n",
       "    </tr>\n",
       "    <tr>\n",
       "      <th>2</th>\n",
       "      <td>Arizona</td>\n",
       "      <td>37.9</td>\n",
       "    </tr>\n",
       "    <tr>\n",
       "      <th>3</th>\n",
       "      <td>Arkansas</td>\n",
       "      <td>38.3</td>\n",
       "    </tr>\n",
       "    <tr>\n",
       "      <th>4</th>\n",
       "      <td>California</td>\n",
       "      <td>36.7</td>\n",
       "    </tr>\n",
       "  </tbody>\n",
       "</table>\n",
       "</div>"
      ],
      "text/plain": [
       "         Name  Median Age\n",
       "0     Alabama        39.2\n",
       "1      Alaska        34.6\n",
       "2     Arizona        37.9\n",
       "3    Arkansas        38.3\n",
       "4  California        36.7"
      ]
     },
     "execution_count": 63,
     "metadata": {},
     "output_type": "execute_result"
    }
   ],
   "source": [
    "median_age_dictionary = c.acs5.state(('NAME', 'B01002_001E'), Census.ALL)\n",
    "median_age = pd.DataFrame.from_dict(median_age_dictionary).rename(columns = {'NAME' : 'Name', 'B01002_001E' : 'Median Age'})\n",
    "median_age = median_age[['Name', 'Median Age']].sort_values(by = ['Name']).reset_index(drop = True)\n",
    "median_age.head()\n"
   ]
  },
  {
   "cell_type": "markdown",
   "id": "24799ec7",
   "metadata": {},
   "source": [
    "### Median Income"
   ]
  },
  {
   "cell_type": "code",
   "execution_count": 64,
   "id": "6576cafe",
   "metadata": {},
   "outputs": [
    {
     "data": {
      "application/vnd.microsoft.datawrangler.viewer.v0+json": {
       "columns": [
        {
         "name": "index",
         "rawType": "int64",
         "type": "integer"
        },
        {
         "name": "Name",
         "rawType": "object",
         "type": "string"
        },
        {
         "name": "Median Household Income",
         "rawType": "float64",
         "type": "float"
        }
       ],
       "ref": "b2720b45-b15a-4472-ab9c-dadea721ce8d",
       "rows": [
        [
         "0",
         "Alabama",
         "52035.0"
        ],
        [
         "1",
         "Alaska",
         "77790.0"
        ],
        [
         "2",
         "Arizona",
         "61529.0"
        ],
        [
         "3",
         "Arkansas",
         "49475.0"
        ],
        [
         "4",
         "California",
         "78672.0"
        ]
       ],
       "shape": {
        "columns": 2,
        "rows": 5
       }
      },
      "text/html": [
       "<div>\n",
       "<style scoped>\n",
       "    .dataframe tbody tr th:only-of-type {\n",
       "        vertical-align: middle;\n",
       "    }\n",
       "\n",
       "    .dataframe tbody tr th {\n",
       "        vertical-align: top;\n",
       "    }\n",
       "\n",
       "    .dataframe thead th {\n",
       "        text-align: right;\n",
       "    }\n",
       "</style>\n",
       "<table border=\"1\" class=\"dataframe\">\n",
       "  <thead>\n",
       "    <tr style=\"text-align: right;\">\n",
       "      <th></th>\n",
       "      <th>Name</th>\n",
       "      <th>Median Household Income</th>\n",
       "    </tr>\n",
       "  </thead>\n",
       "  <tbody>\n",
       "    <tr>\n",
       "      <th>0</th>\n",
       "      <td>Alabama</td>\n",
       "      <td>52035.0</td>\n",
       "    </tr>\n",
       "    <tr>\n",
       "      <th>1</th>\n",
       "      <td>Alaska</td>\n",
       "      <td>77790.0</td>\n",
       "    </tr>\n",
       "    <tr>\n",
       "      <th>2</th>\n",
       "      <td>Arizona</td>\n",
       "      <td>61529.0</td>\n",
       "    </tr>\n",
       "    <tr>\n",
       "      <th>3</th>\n",
       "      <td>Arkansas</td>\n",
       "      <td>49475.0</td>\n",
       "    </tr>\n",
       "    <tr>\n",
       "      <th>4</th>\n",
       "      <td>California</td>\n",
       "      <td>78672.0</td>\n",
       "    </tr>\n",
       "  </tbody>\n",
       "</table>\n",
       "</div>"
      ],
      "text/plain": [
       "         Name  Median Household Income\n",
       "0     Alabama                  52035.0\n",
       "1      Alaska                  77790.0\n",
       "2     Arizona                  61529.0\n",
       "3    Arkansas                  49475.0\n",
       "4  California                  78672.0"
      ]
     },
     "execution_count": 64,
     "metadata": {},
     "output_type": "execute_result"
    }
   ],
   "source": [
    "median_income_dictionary = c.acs5.state(('NAME', 'B19013_001E'), Census.ALL)\n",
    "median_income = pd.DataFrame.from_dict(median_income_dictionary).rename(columns = {'NAME' : 'Name', 'B19013_001E' : 'Median Household Income'})\n",
    "median_income = median_income[['Name', 'Median Household Income']].sort_values(by = ['Name']).reset_index(drop = True)\n",
    "median_income.head()"
   ]
  },
  {
   "cell_type": "markdown",
   "id": "de21971b",
   "metadata": {},
   "source": [
    "### Popular Vote"
   ]
  },
  {
   "cell_type": "code",
   "execution_count": 65,
   "id": "bf2b0c65",
   "metadata": {},
   "outputs": [
    {
     "data": {
      "application/vnd.microsoft.datawrangler.viewer.v0+json": {
       "columns": [
        {
         "name": "index",
         "rawType": "int64",
         "type": "integer"
        },
        {
         "name": "Name",
         "rawType": "object",
         "type": "string"
        },
        {
         "name": "Biden Votes",
         "rawType": "int64",
         "type": "integer"
        },
        {
         "name": "Trump Votes",
         "rawType": "int64",
         "type": "integer"
        },
        {
         "name": "Total Votes",
         "rawType": "int64",
         "type": "integer"
        }
       ],
       "ref": "97c379ad-fe00-42f9-a9aa-309712d835fa",
       "rows": [
        [
         "0",
         "Alabama",
         "849624",
         "1441170",
         "2323282"
        ],
        [
         "1",
         "Alaska",
         "153778",
         "189951",
         "359530"
        ],
        [
         "2",
         "Arizona",
         "1672143",
         "1661686",
         "3387326"
        ],
        [
         "3",
         "Arkansas",
         "423932",
         "760647",
         "1219069"
        ],
        [
         "4",
         "California",
         "11110639",
         "6006518",
         "17501380"
        ]
       ],
       "shape": {
        "columns": 4,
        "rows": 5
       }
      },
      "text/html": [
       "<div>\n",
       "<style scoped>\n",
       "    .dataframe tbody tr th:only-of-type {\n",
       "        vertical-align: middle;\n",
       "    }\n",
       "\n",
       "    .dataframe tbody tr th {\n",
       "        vertical-align: top;\n",
       "    }\n",
       "\n",
       "    .dataframe thead th {\n",
       "        text-align: right;\n",
       "    }\n",
       "</style>\n",
       "<table border=\"1\" class=\"dataframe\">\n",
       "  <thead>\n",
       "    <tr style=\"text-align: right;\">\n",
       "      <th></th>\n",
       "      <th>Name</th>\n",
       "      <th>Biden Votes</th>\n",
       "      <th>Trump Votes</th>\n",
       "      <th>Total Votes</th>\n",
       "    </tr>\n",
       "  </thead>\n",
       "  <tbody>\n",
       "    <tr>\n",
       "      <th>0</th>\n",
       "      <td>Alabama</td>\n",
       "      <td>849624</td>\n",
       "      <td>1441170</td>\n",
       "      <td>2323282</td>\n",
       "    </tr>\n",
       "    <tr>\n",
       "      <th>1</th>\n",
       "      <td>Alaska</td>\n",
       "      <td>153778</td>\n",
       "      <td>189951</td>\n",
       "      <td>359530</td>\n",
       "    </tr>\n",
       "    <tr>\n",
       "      <th>2</th>\n",
       "      <td>Arizona</td>\n",
       "      <td>1672143</td>\n",
       "      <td>1661686</td>\n",
       "      <td>3387326</td>\n",
       "    </tr>\n",
       "    <tr>\n",
       "      <th>3</th>\n",
       "      <td>Arkansas</td>\n",
       "      <td>423932</td>\n",
       "      <td>760647</td>\n",
       "      <td>1219069</td>\n",
       "    </tr>\n",
       "    <tr>\n",
       "      <th>4</th>\n",
       "      <td>California</td>\n",
       "      <td>11110639</td>\n",
       "      <td>6006518</td>\n",
       "      <td>17501380</td>\n",
       "    </tr>\n",
       "  </tbody>\n",
       "</table>\n",
       "</div>"
      ],
      "text/plain": [
       "         Name  Biden Votes  Trump Votes  Total Votes\n",
       "0     Alabama       849624      1441170      2323282\n",
       "1      Alaska       153778       189951       359530\n",
       "2     Arizona      1672143      1661686      3387326\n",
       "3    Arkansas       423932       760647      1219069\n",
       "4  California     11110639      6006518     17501380"
      ]
     },
     "execution_count": 65,
     "metadata": {},
     "output_type": "execute_result"
    }
   ],
   "source": [
    "# https://www.fec.gov/introduction-campaign-finance/election-results-and-voting-information/federal-elections-2020/\n",
    "popular_vote = pd.read_csv(\"federalelections2020.csv\")\n",
    "popular_vote.head()"
   ]
  },
  {
   "cell_type": "markdown",
   "id": "87433796",
   "metadata": {},
   "source": [
    "## Funding"
   ]
  },
  {
   "cell_type": "code",
   "execution_count": null,
   "id": "b5056907",
   "metadata": {},
   "outputs": [
    {
     "data": {
      "application/vnd.microsoft.datawrangler.viewer.v0+json": {
       "columns": [
        {
         "name": "index",
         "rawType": "int64",
         "type": "integer"
        },
        {
         "name": "Candidate",
         "rawType": "object",
         "type": "string"
        },
        {
         "name": "Total IEs For",
         "rawType": "int64",
         "type": "integer"
        },
        {
         "name": "Total IEs Against",
         "rawType": "int64",
         "type": "integer"
        }
       ],
       "ref": "8aa99f2b-06c2-4a66-b9e3-6cbdb9fe6da6",
       "rows": [
        [
         "0",
         "Biden, Joseph R Jr",
         "383204094",
         "299388312"
        ],
        [
         "1",
         "Trump, Donald J.",
         "53500635",
         "308135887"
        ],
        [
         "2",
         "Warren, Elizabeth ",
         "14996979",
         "18965"
        ],
        [
         "3",
         "Buttigieg, Pete",
         "3668912",
         "30862"
        ],
        [
         "4",
         "Klobuchar, Amy J.",
         "2711204",
         "101"
        ],
        [
         "5",
         "Patrick, Deval",
         "2367169",
         "0"
        ],
        [
         "6",
         "Inslee, Jay R",
         "1780488",
         "0"
        ],
        [
         "7",
         "Sanders, Bernard",
         "1417958",
         "6221201"
        ],
        [
         "8",
         "Booker, Cory A.",
         "954411",
         "1172"
        ],
        [
         "9",
         "Yang, Andrew",
         "719077",
         "296"
        ],
        [
         "10",
         "de Blasio, Bill",
         "500000",
         "76608"
        ],
        [
         "11",
         "Weld, William Floyd (Bill)",
         "83908",
         "877"
        ],
        [
         "12",
         "Harris, Kamala D.",
         "37840",
         "2316"
        ],
        [
         "13",
         "Bullock, Steve",
         "13923",
         "148497"
        ],
        [
         "14",
         "O’Rourke, Robert Beto",
         "9582",
         "34820"
        ],
        [
         "15",
         "Jorgensen, Jo",
         "7766",
         "0"
        ],
        [
         "16",
         "Gabbard, Tulsi",
         "1466",
         "877"
        ],
        [
         "17",
         "Steyer, Tom",
         "941",
         "0"
        ],
        [
         "18",
         "Bloomberg, Michael R.",
         "311",
         "314"
        ],
        [
         "19",
         "Hawkins, Howie",
         "200",
         "0"
        ],
        [
         "20",
         "Bennet, Michael F.",
         "176",
         "0"
        ],
        [
         "21",
         "Castro, Julián",
         "169",
         "0"
        ],
        [
         "22",
         "West, Kanye",
         "25",
         "0"
        ],
        [
         "23",
         "Sanford, Marshall",
         "0",
         "0"
        ],
        [
         "24",
         "Walsh, Joe",
         "0",
         "0"
        ],
        [
         "25",
         "Moulton, Seth",
         "0",
         "0"
        ],
        [
         "26",
         "Messam, Wayne Martin",
         "0",
         "0"
        ],
        [
         "27",
         "Delaney, John K.",
         "0",
         "903"
        ],
        [
         "28",
         "Gillibrand, Kirsten ",
         "0",
         "903"
        ],
        [
         "29",
         "Gravel, Maurice Robert",
         "0",
         "0"
        ],
        [
         "30",
         "Hickenlooper, John W.",
         "0",
         "0"
        ],
        [
         "31",
         "Swalwell, Eric Michael",
         "0",
         "0"
        ],
        [
         "32",
         "Sestak, Joseph A. Jr.",
         "0",
         "0"
        ],
        [
         "33",
         "Ojeda, Richard Neece II",
         "0",
         "0"
        ],
        [
         "34",
         "Ryan, Timothy J.",
         "0",
         "0"
        ],
        [
         "35",
         "Charles, Mark R.",
         "0",
         "0"
        ],
        [
         "36",
         "Williamson, Marianne ",
         "0",
         "0"
        ],
        [
         "37",
         "Pierce, Brock",
         "0",
         "0"
        ],
        [
         "38",
         "Kokesh, Adam",
         "0",
         "0"
        ]
       ],
       "shape": {
        "columns": 3,
        "rows": 39
       }
      },
      "text/html": [
       "<div>\n",
       "<style scoped>\n",
       "    .dataframe tbody tr th:only-of-type {\n",
       "        vertical-align: middle;\n",
       "    }\n",
       "\n",
       "    .dataframe tbody tr th {\n",
       "        vertical-align: top;\n",
       "    }\n",
       "\n",
       "    .dataframe thead th {\n",
       "        text-align: right;\n",
       "    }\n",
       "</style>\n",
       "<table border=\"1\" class=\"dataframe\">\n",
       "  <thead>\n",
       "    <tr style=\"text-align: right;\">\n",
       "      <th></th>\n",
       "      <th>Candidate</th>\n",
       "      <th>Total IEs For</th>\n",
       "      <th>Total IEs Against</th>\n",
       "    </tr>\n",
       "  </thead>\n",
       "  <tbody>\n",
       "    <tr>\n",
       "      <th>0</th>\n",
       "      <td>Biden, Joseph R Jr</td>\n",
       "      <td>383204094</td>\n",
       "      <td>299388312</td>\n",
       "    </tr>\n",
       "    <tr>\n",
       "      <th>1</th>\n",
       "      <td>Trump, Donald J.</td>\n",
       "      <td>53500635</td>\n",
       "      <td>308135887</td>\n",
       "    </tr>\n",
       "    <tr>\n",
       "      <th>2</th>\n",
       "      <td>Warren, Elizabeth</td>\n",
       "      <td>14996979</td>\n",
       "      <td>18965</td>\n",
       "    </tr>\n",
       "    <tr>\n",
       "      <th>3</th>\n",
       "      <td>Buttigieg, Pete</td>\n",
       "      <td>3668912</td>\n",
       "      <td>30862</td>\n",
       "    </tr>\n",
       "    <tr>\n",
       "      <th>4</th>\n",
       "      <td>Klobuchar, Amy J.</td>\n",
       "      <td>2711204</td>\n",
       "      <td>101</td>\n",
       "    </tr>\n",
       "    <tr>\n",
       "      <th>5</th>\n",
       "      <td>Patrick, Deval</td>\n",
       "      <td>2367169</td>\n",
       "      <td>0</td>\n",
       "    </tr>\n",
       "    <tr>\n",
       "      <th>6</th>\n",
       "      <td>Inslee, Jay R</td>\n",
       "      <td>1780488</td>\n",
       "      <td>0</td>\n",
       "    </tr>\n",
       "    <tr>\n",
       "      <th>7</th>\n",
       "      <td>Sanders, Bernard</td>\n",
       "      <td>1417958</td>\n",
       "      <td>6221201</td>\n",
       "    </tr>\n",
       "    <tr>\n",
       "      <th>8</th>\n",
       "      <td>Booker, Cory A.</td>\n",
       "      <td>954411</td>\n",
       "      <td>1172</td>\n",
       "    </tr>\n",
       "    <tr>\n",
       "      <th>9</th>\n",
       "      <td>Yang, Andrew</td>\n",
       "      <td>719077</td>\n",
       "      <td>296</td>\n",
       "    </tr>\n",
       "    <tr>\n",
       "      <th>10</th>\n",
       "      <td>de Blasio, Bill</td>\n",
       "      <td>500000</td>\n",
       "      <td>76608</td>\n",
       "    </tr>\n",
       "    <tr>\n",
       "      <th>11</th>\n",
       "      <td>Weld, William Floyd (Bill)</td>\n",
       "      <td>83908</td>\n",
       "      <td>877</td>\n",
       "    </tr>\n",
       "    <tr>\n",
       "      <th>12</th>\n",
       "      <td>Harris, Kamala D.</td>\n",
       "      <td>37840</td>\n",
       "      <td>2316</td>\n",
       "    </tr>\n",
       "    <tr>\n",
       "      <th>13</th>\n",
       "      <td>Bullock, Steve</td>\n",
       "      <td>13923</td>\n",
       "      <td>148497</td>\n",
       "    </tr>\n",
       "    <tr>\n",
       "      <th>14</th>\n",
       "      <td>O’Rourke, Robert Beto</td>\n",
       "      <td>9582</td>\n",
       "      <td>34820</td>\n",
       "    </tr>\n",
       "    <tr>\n",
       "      <th>15</th>\n",
       "      <td>Jorgensen, Jo</td>\n",
       "      <td>7766</td>\n",
       "      <td>0</td>\n",
       "    </tr>\n",
       "    <tr>\n",
       "      <th>16</th>\n",
       "      <td>Gabbard, Tulsi</td>\n",
       "      <td>1466</td>\n",
       "      <td>877</td>\n",
       "    </tr>\n",
       "    <tr>\n",
       "      <th>17</th>\n",
       "      <td>Steyer, Tom</td>\n",
       "      <td>941</td>\n",
       "      <td>0</td>\n",
       "    </tr>\n",
       "    <tr>\n",
       "      <th>18</th>\n",
       "      <td>Bloomberg, Michael R.</td>\n",
       "      <td>311</td>\n",
       "      <td>314</td>\n",
       "    </tr>\n",
       "    <tr>\n",
       "      <th>19</th>\n",
       "      <td>Hawkins, Howie</td>\n",
       "      <td>200</td>\n",
       "      <td>0</td>\n",
       "    </tr>\n",
       "    <tr>\n",
       "      <th>20</th>\n",
       "      <td>Bennet, Michael F.</td>\n",
       "      <td>176</td>\n",
       "      <td>0</td>\n",
       "    </tr>\n",
       "    <tr>\n",
       "      <th>21</th>\n",
       "      <td>Castro, Julián</td>\n",
       "      <td>169</td>\n",
       "      <td>0</td>\n",
       "    </tr>\n",
       "    <tr>\n",
       "      <th>22</th>\n",
       "      <td>West, Kanye</td>\n",
       "      <td>25</td>\n",
       "      <td>0</td>\n",
       "    </tr>\n",
       "    <tr>\n",
       "      <th>23</th>\n",
       "      <td>Sanford, Marshall</td>\n",
       "      <td>0</td>\n",
       "      <td>0</td>\n",
       "    </tr>\n",
       "    <tr>\n",
       "      <th>24</th>\n",
       "      <td>Walsh, Joe</td>\n",
       "      <td>0</td>\n",
       "      <td>0</td>\n",
       "    </tr>\n",
       "    <tr>\n",
       "      <th>25</th>\n",
       "      <td>Moulton, Seth</td>\n",
       "      <td>0</td>\n",
       "      <td>0</td>\n",
       "    </tr>\n",
       "    <tr>\n",
       "      <th>26</th>\n",
       "      <td>Messam, Wayne Martin</td>\n",
       "      <td>0</td>\n",
       "      <td>0</td>\n",
       "    </tr>\n",
       "    <tr>\n",
       "      <th>27</th>\n",
       "      <td>Delaney, John K.</td>\n",
       "      <td>0</td>\n",
       "      <td>903</td>\n",
       "    </tr>\n",
       "    <tr>\n",
       "      <th>28</th>\n",
       "      <td>Gillibrand, Kirsten</td>\n",
       "      <td>0</td>\n",
       "      <td>903</td>\n",
       "    </tr>\n",
       "    <tr>\n",
       "      <th>29</th>\n",
       "      <td>Gravel, Maurice Robert</td>\n",
       "      <td>0</td>\n",
       "      <td>0</td>\n",
       "    </tr>\n",
       "    <tr>\n",
       "      <th>30</th>\n",
       "      <td>Hickenlooper, John W.</td>\n",
       "      <td>0</td>\n",
       "      <td>0</td>\n",
       "    </tr>\n",
       "    <tr>\n",
       "      <th>31</th>\n",
       "      <td>Swalwell, Eric Michael</td>\n",
       "      <td>0</td>\n",
       "      <td>0</td>\n",
       "    </tr>\n",
       "    <tr>\n",
       "      <th>32</th>\n",
       "      <td>Sestak, Joseph A. Jr.</td>\n",
       "      <td>0</td>\n",
       "      <td>0</td>\n",
       "    </tr>\n",
       "    <tr>\n",
       "      <th>33</th>\n",
       "      <td>Ojeda, Richard Neece II</td>\n",
       "      <td>0</td>\n",
       "      <td>0</td>\n",
       "    </tr>\n",
       "    <tr>\n",
       "      <th>34</th>\n",
       "      <td>Ryan, Timothy J.</td>\n",
       "      <td>0</td>\n",
       "      <td>0</td>\n",
       "    </tr>\n",
       "    <tr>\n",
       "      <th>35</th>\n",
       "      <td>Charles, Mark R.</td>\n",
       "      <td>0</td>\n",
       "      <td>0</td>\n",
       "    </tr>\n",
       "    <tr>\n",
       "      <th>36</th>\n",
       "      <td>Williamson, Marianne</td>\n",
       "      <td>0</td>\n",
       "      <td>0</td>\n",
       "    </tr>\n",
       "    <tr>\n",
       "      <th>37</th>\n",
       "      <td>Pierce, Brock</td>\n",
       "      <td>0</td>\n",
       "      <td>0</td>\n",
       "    </tr>\n",
       "    <tr>\n",
       "      <th>38</th>\n",
       "      <td>Kokesh, Adam</td>\n",
       "      <td>0</td>\n",
       "      <td>0</td>\n",
       "    </tr>\n",
       "  </tbody>\n",
       "</table>\n",
       "</div>"
      ],
      "text/plain": [
       "                     Candidate  Total IEs For  Total IEs Against\n",
       "0           Biden, Joseph R Jr      383204094          299388312\n",
       "1             Trump, Donald J.       53500635          308135887\n",
       "2           Warren, Elizabeth        14996979              18965\n",
       "3              Buttigieg, Pete        3668912              30862\n",
       "4            Klobuchar, Amy J.        2711204                101\n",
       "5               Patrick, Deval        2367169                  0\n",
       "6                Inslee, Jay R        1780488                  0\n",
       "7             Sanders, Bernard        1417958            6221201\n",
       "8              Booker, Cory A.         954411               1172\n",
       "9                 Yang, Andrew         719077                296\n",
       "10             de Blasio, Bill         500000              76608\n",
       "11  Weld, William Floyd (Bill)          83908                877\n",
       "12           Harris, Kamala D.          37840               2316\n",
       "13              Bullock, Steve          13923             148497\n",
       "14       O’Rourke, Robert Beto           9582              34820\n",
       "15               Jorgensen, Jo           7766                  0\n",
       "16              Gabbard, Tulsi           1466                877\n",
       "17                 Steyer, Tom            941                  0\n",
       "18       Bloomberg, Michael R.            311                314\n",
       "19              Hawkins, Howie            200                  0\n",
       "20          Bennet, Michael F.            176                  0\n",
       "21              Castro, Julián            169                  0\n",
       "22                 West, Kanye             25                  0\n",
       "23           Sanford, Marshall              0                  0\n",
       "24                  Walsh, Joe              0                  0\n",
       "25               Moulton, Seth              0                  0\n",
       "26        Messam, Wayne Martin              0                  0\n",
       "27            Delaney, John K.              0                903\n",
       "28        Gillibrand, Kirsten               0                903\n",
       "29      Gravel, Maurice Robert              0                  0\n",
       "30       Hickenlooper, John W.              0                  0\n",
       "31      Swalwell, Eric Michael              0                  0\n",
       "32       Sestak, Joseph A. Jr.              0                  0\n",
       "33     Ojeda, Richard Neece II              0                  0\n",
       "34            Ryan, Timothy J.              0                  0\n",
       "35            Charles, Mark R.              0                  0\n",
       "36       Williamson, Marianne               0                  0\n",
       "37               Pierce, Brock              0                  0\n",
       "38                Kokesh, Adam              0                  0"
      ]
     },
     "execution_count": 66,
     "metadata": {},
     "output_type": "execute_result"
    }
   ],
   "source": [
    "## Source: https://www.fec.gov/resources/campaign-finance-statistics/2020/tables/ie/IE2_2020_24m.pdf\n",
    "independent_expenditure = pd.read_csv(\"candidates_funding.csv\")\n",
    "independent_expenditure = independent_expenditure.sort_values(by = ['Total IEs For'], ascending=False)\n",
    "independent_expenditure.index = range(0, len(independent_expenditure) )\n",
    "independent_expenditure.head()\n",
    "\n"
   ]
  },
  {
   "cell_type": "code",
   "execution_count": null,
   "id": "e523b20c",
   "metadata": {},
   "outputs": [
    {
     "data": {
      "application/vnd.microsoft.datawrangler.viewer.v0+json": {
       "columns": [
        {
         "name": "index",
         "rawType": "int64",
         "type": "integer"
        },
        {
         "name": "Name",
         "rawType": "object",
         "type": "string"
        },
        {
         "name": "Total Contributions",
         "rawType": "int64",
         "type": "integer"
        },
        {
         "name": "Percent to Democrats",
         "rawType": "float64",
         "type": "float"
        },
        {
         "name": "Percent to Republicans",
         "rawType": "float64",
         "type": "float"
        },
        {
         "name": "Contributions to Democrats",
         "rawType": "float64",
         "type": "float"
        },
        {
         "name": "Contributions to Republicans",
         "rawType": "float64",
         "type": "float"
        }
       ],
       "ref": "5aee7a02-154a-4fd8-aa37-69e56ae2a50a",
       "rows": [
        [
         "0",
         "California",
         "1666572970",
         "0.6931",
         "0.2842",
         "1155101725.507",
         "473640038.074"
        ],
        [
         "1",
         "New York",
         "978988661",
         "0.7462000000000001",
         "0.2318",
         "730521338.8382001",
         "226929571.6198"
        ],
        [
         "2",
         "District of Columbia",
         "810155426",
         "0.6701",
         "0.3148",
         "542885150.9626",
         "255036928.10480002"
        ],
        [
         "3",
         "Texas",
         "687622660",
         "0.3488",
         "0.6315",
         "239842783.808",
         "434233709.78999996"
        ],
        [
         "4",
         "Florida",
         "646468276",
         "0.36920000000000003",
         "0.6108",
         "238676087.49920002",
         "394862822.98080003"
        ],
        [
         "5",
         "Illinois",
         "465554870",
         "0.6578",
         "0.3308",
         "306241993.486",
         "154005550.996"
        ],
        [
         "6",
         "Virginia",
         "428059006",
         "0.5293",
         "0.4483",
         "226571631.87579998",
         "191898852.38979998"
        ],
        [
         "7",
         "Massachusetts",
         "345536126",
         "0.8376",
         "0.1402",
         "289421059.1376",
         "48444164.8652"
        ],
        [
         "8",
         "Nevada",
         "325134020",
         "0.31010000000000004",
         "0.6731999999999999",
         "100824059.60200001",
         "218880222.26399997"
        ],
        [
         "9",
         "Washington",
         "273199705",
         "0.7454000000000001",
         "0.22940000000000002",
         "203643060.10700002",
         "62672012.32700001"
        ],
        [
         "10",
         "Pennsylvania",
         "264503864",
         "0.6004999999999999",
         "0.38079999999999997",
         "158834570.332",
         "100723071.41119999"
        ],
        [
         "11",
         "Georgia",
         "253971132",
         "0.3897",
         "0.5953",
         "98972550.14039999",
         "151189014.87960002"
        ],
        [
         "12",
         "Michigan",
         "200056424",
         "0.4943",
         "0.48960000000000004",
         "98887890.3832",
         "97947625.1904"
        ],
        [
         "13",
         "Colorado",
         "195833872",
         "0.6269",
         "0.35729999999999995",
         "122768254.3568",
         "69971442.46559998"
        ],
        [
         "14",
         "Maryland",
         "194348241",
         "0.7634000000000001",
         "0.2147",
         "148365447.17940003",
         "41726567.3427"
        ],
        [
         "15",
         "New Jersey",
         "192427041",
         "0.6517000000000001",
         "0.3331",
         "125404702.61970001",
         "64097447.3571"
        ],
        [
         "16",
         "Ohio",
         "174272712",
         "0.4314",
         "0.5478999999999999",
         "75181247.9568",
         "95484018.90479998"
        ],
        [
         "17",
         "North Carolina",
         "173873629",
         "0.49829999999999997",
         "0.48590000000000005",
         "86641229.3307",
         "84485196.33110002"
        ],
        [
         "18",
         "Arizona",
         "159077926",
         "0.46299999999999997",
         "0.5228",
         "73653079.73799999",
         "83165939.71280001"
        ],
        [
         "19",
         "Connecticut",
         "141826947",
         "0.7071999999999999",
         "0.2731",
         "100300016.91839999",
         "38732939.2257"
        ],
        [
         "20",
         "Minnesota",
         "126481508",
         "0.6252",
         "0.3604",
         "79076238.8016",
         "45583935.4832"
        ],
        [
         "21",
         "Tennessee",
         "118267439",
         "0.35479999999999995",
         "0.6302",
         "41961287.3572",
         "74532140.0578"
        ],
        [
         "22",
         "Oregon",
         "109539440",
         "0.7311",
         "0.2452",
         "80084284.58399999",
         "26859070.688"
        ],
        [
         "23",
         "Delaware",
         "99238727",
         "0.7202",
         "0.2701",
         "71471731.1854",
         "26804380.1627"
        ],
        [
         "24",
         "Indiana",
         "98964402",
         "0.4378",
         "0.5415",
         "43326615.1956",
         "53589223.683"
        ],
        [
         "25",
         "Wisconsin",
         "95300079",
         "0.49340000000000006",
         "0.4894",
         "47021058.9786",
         "46639858.6626"
        ],
        [
         "26",
         "Missouri",
         "94917494",
         "0.4168",
         "0.5670000000000001",
         "39561611.4992",
         "53818219.098000005"
        ],
        [
         "27",
         "Wyoming",
         "94810801",
         "0.3518",
         "0.628",
         "33354439.7918",
         "59541183.028"
        ],
        [
         "28",
         "South Carolina",
         "76619560",
         "0.4325",
         "0.5550999999999999",
         "33137959.7",
         "42531517.756"
        ],
        [
         "29",
         "Alabama",
         "72363094",
         "0.26489999999999997",
         "0.7117",
         "19168983.600599997",
         "51500813.9998"
        ],
        [
         "30",
         "Arkansas",
         "69611659",
         "0.32939999999999997",
         "0.6527",
         "22930080.4746",
         "45435529.829299994"
        ],
        [
         "31",
         "Louisiana",
         "67806980",
         "0.249",
         "0.7167",
         "16883938.02",
         "48597262.566"
        ],
        [
         "32",
         "Kansas",
         "64957517",
         "0.40159999999999996",
         "0.5793",
         "26086938.827199996",
         "37629889.5981"
        ],
        [
         "33",
         "Oklahoma",
         "61373271",
         "0.32049999999999995",
         "0.6522",
         "19670133.355499998",
         "40027647.3462"
        ],
        [
         "34",
         "New Mexico",
         "55933378",
         "0.6209",
         "0.3652",
         "34729034.4002",
         "20426869.645600002"
        ],
        [
         "35",
         "Kentucky",
         "52219332",
         "0.4436",
         "0.5394",
         "23164495.6752",
         "28167107.6808"
        ],
        [
         "36",
         "Iowa",
         "50438238",
         "0.4986",
         "0.4843",
         "25148505.4668",
         "24427238.6634"
        ],
        [
         "37",
         "Utah",
         "43165740",
         "0.462",
         "0.5168",
         "19942571.880000003",
         "22308054.432"
        ],
        [
         "38",
         "Nebraska",
         "42514840",
         "0.3603",
         "0.6206",
         "15318096.852",
         "26384709.704"
        ],
        [
         "39",
         "New Hampshire",
         "36214629",
         "0.7076",
         "0.2772",
         "25625471.4804",
         "10038695.1588"
        ],
        [
         "40",
         "Maine",
         "33692139",
         "0.7656999999999999",
         "0.2208",
         "25798070.832299996",
         "7439224.2912"
        ],
        [
         "41",
         "Idaho",
         "31881987",
         "0.3978",
         "0.5866",
         "12682654.4286",
         "18701973.5742"
        ],
        [
         "42",
         "Montana",
         "30773870",
         "0.47130000000000005",
         "0.5153",
         "14503724.931000002",
         "15857775.211"
        ],
        [
         "43",
         "Mississippi",
         "25358043",
         "0.2254",
         "0.7568",
         "5715702.8922",
         "19190966.9424"
        ],
        [
         "44",
         "Hawaii",
         "23199684",
         "0.6674",
         "0.3136",
         "15483469.1016",
         "7275420.9024"
        ],
        [
         "45",
         "Rhode Island",
         "21289970",
         "0.7809",
         "0.1942",
         "16625337.573",
         "4134512.174"
        ],
        [
         "46",
         "Alaska",
         "20386661",
         "0.3553",
         "0.4526",
         "7243380.6533",
         "9227002.7686"
        ],
        [
         "47",
         "Vermont",
         "18716706",
         "0.8601000000000001",
         "0.1157",
         "16098238.8306",
         "2165522.8841999997"
        ],
        [
         "48",
         "North Dakota",
         "14157432",
         "0.2541",
         "0.727",
         "3597403.4712",
         "10292453.064"
        ],
        [
         "49",
         "South Dakota",
         "13987738",
         "0.28550000000000003",
         "0.6878",
         "3993499.1990000005",
         "9620766.1964"
        ]
       ],
       "shape": {
        "columns": 6,
        "rows": 51
       }
      },
      "text/html": [
       "<div>\n",
       "<style scoped>\n",
       "    .dataframe tbody tr th:only-of-type {\n",
       "        vertical-align: middle;\n",
       "    }\n",
       "\n",
       "    .dataframe tbody tr th {\n",
       "        vertical-align: top;\n",
       "    }\n",
       "\n",
       "    .dataframe thead th {\n",
       "        text-align: right;\n",
       "    }\n",
       "</style>\n",
       "<table border=\"1\" class=\"dataframe\">\n",
       "  <thead>\n",
       "    <tr style=\"text-align: right;\">\n",
       "      <th></th>\n",
       "      <th>Name</th>\n",
       "      <th>Total Contributions</th>\n",
       "      <th>Percent to Democrats</th>\n",
       "      <th>Percent to Republicans</th>\n",
       "      <th>Contributions to Democrats</th>\n",
       "      <th>Contributions to Republicans</th>\n",
       "    </tr>\n",
       "  </thead>\n",
       "  <tbody>\n",
       "    <tr>\n",
       "      <th>0</th>\n",
       "      <td>California</td>\n",
       "      <td>1666572970</td>\n",
       "      <td>0.6931</td>\n",
       "      <td>0.2842</td>\n",
       "      <td>1.155102e+09</td>\n",
       "      <td>4.736400e+08</td>\n",
       "    </tr>\n",
       "    <tr>\n",
       "      <th>1</th>\n",
       "      <td>New York</td>\n",
       "      <td>978988661</td>\n",
       "      <td>0.7462</td>\n",
       "      <td>0.2318</td>\n",
       "      <td>7.305213e+08</td>\n",
       "      <td>2.269296e+08</td>\n",
       "    </tr>\n",
       "    <tr>\n",
       "      <th>2</th>\n",
       "      <td>District of Columbia</td>\n",
       "      <td>810155426</td>\n",
       "      <td>0.6701</td>\n",
       "      <td>0.3148</td>\n",
       "      <td>5.428852e+08</td>\n",
       "      <td>2.550369e+08</td>\n",
       "    </tr>\n",
       "    <tr>\n",
       "      <th>3</th>\n",
       "      <td>Texas</td>\n",
       "      <td>687622660</td>\n",
       "      <td>0.3488</td>\n",
       "      <td>0.6315</td>\n",
       "      <td>2.398428e+08</td>\n",
       "      <td>4.342337e+08</td>\n",
       "    </tr>\n",
       "    <tr>\n",
       "      <th>4</th>\n",
       "      <td>Florida</td>\n",
       "      <td>646468276</td>\n",
       "      <td>0.3692</td>\n",
       "      <td>0.6108</td>\n",
       "      <td>2.386761e+08</td>\n",
       "      <td>3.948628e+08</td>\n",
       "    </tr>\n",
       "    <tr>\n",
       "      <th>5</th>\n",
       "      <td>Illinois</td>\n",
       "      <td>465554870</td>\n",
       "      <td>0.6578</td>\n",
       "      <td>0.3308</td>\n",
       "      <td>3.062420e+08</td>\n",
       "      <td>1.540056e+08</td>\n",
       "    </tr>\n",
       "    <tr>\n",
       "      <th>6</th>\n",
       "      <td>Virginia</td>\n",
       "      <td>428059006</td>\n",
       "      <td>0.5293</td>\n",
       "      <td>0.4483</td>\n",
       "      <td>2.265716e+08</td>\n",
       "      <td>1.918989e+08</td>\n",
       "    </tr>\n",
       "    <tr>\n",
       "      <th>7</th>\n",
       "      <td>Massachusetts</td>\n",
       "      <td>345536126</td>\n",
       "      <td>0.8376</td>\n",
       "      <td>0.1402</td>\n",
       "      <td>2.894211e+08</td>\n",
       "      <td>4.844416e+07</td>\n",
       "    </tr>\n",
       "    <tr>\n",
       "      <th>8</th>\n",
       "      <td>Nevada</td>\n",
       "      <td>325134020</td>\n",
       "      <td>0.3101</td>\n",
       "      <td>0.6732</td>\n",
       "      <td>1.008241e+08</td>\n",
       "      <td>2.188802e+08</td>\n",
       "    </tr>\n",
       "    <tr>\n",
       "      <th>9</th>\n",
       "      <td>Washington</td>\n",
       "      <td>273199705</td>\n",
       "      <td>0.7454</td>\n",
       "      <td>0.2294</td>\n",
       "      <td>2.036431e+08</td>\n",
       "      <td>6.267201e+07</td>\n",
       "    </tr>\n",
       "    <tr>\n",
       "      <th>10</th>\n",
       "      <td>Pennsylvania</td>\n",
       "      <td>264503864</td>\n",
       "      <td>0.6005</td>\n",
       "      <td>0.3808</td>\n",
       "      <td>1.588346e+08</td>\n",
       "      <td>1.007231e+08</td>\n",
       "    </tr>\n",
       "    <tr>\n",
       "      <th>11</th>\n",
       "      <td>Georgia</td>\n",
       "      <td>253971132</td>\n",
       "      <td>0.3897</td>\n",
       "      <td>0.5953</td>\n",
       "      <td>9.897255e+07</td>\n",
       "      <td>1.511890e+08</td>\n",
       "    </tr>\n",
       "    <tr>\n",
       "      <th>12</th>\n",
       "      <td>Michigan</td>\n",
       "      <td>200056424</td>\n",
       "      <td>0.4943</td>\n",
       "      <td>0.4896</td>\n",
       "      <td>9.888789e+07</td>\n",
       "      <td>9.794763e+07</td>\n",
       "    </tr>\n",
       "    <tr>\n",
       "      <th>13</th>\n",
       "      <td>Colorado</td>\n",
       "      <td>195833872</td>\n",
       "      <td>0.6269</td>\n",
       "      <td>0.3573</td>\n",
       "      <td>1.227683e+08</td>\n",
       "      <td>6.997144e+07</td>\n",
       "    </tr>\n",
       "    <tr>\n",
       "      <th>14</th>\n",
       "      <td>Maryland</td>\n",
       "      <td>194348241</td>\n",
       "      <td>0.7634</td>\n",
       "      <td>0.2147</td>\n",
       "      <td>1.483654e+08</td>\n",
       "      <td>4.172657e+07</td>\n",
       "    </tr>\n",
       "    <tr>\n",
       "      <th>15</th>\n",
       "      <td>New Jersey</td>\n",
       "      <td>192427041</td>\n",
       "      <td>0.6517</td>\n",
       "      <td>0.3331</td>\n",
       "      <td>1.254047e+08</td>\n",
       "      <td>6.409745e+07</td>\n",
       "    </tr>\n",
       "    <tr>\n",
       "      <th>16</th>\n",
       "      <td>Ohio</td>\n",
       "      <td>174272712</td>\n",
       "      <td>0.4314</td>\n",
       "      <td>0.5479</td>\n",
       "      <td>7.518125e+07</td>\n",
       "      <td>9.548402e+07</td>\n",
       "    </tr>\n",
       "    <tr>\n",
       "      <th>17</th>\n",
       "      <td>North Carolina</td>\n",
       "      <td>173873629</td>\n",
       "      <td>0.4983</td>\n",
       "      <td>0.4859</td>\n",
       "      <td>8.664123e+07</td>\n",
       "      <td>8.448520e+07</td>\n",
       "    </tr>\n",
       "    <tr>\n",
       "      <th>18</th>\n",
       "      <td>Arizona</td>\n",
       "      <td>159077926</td>\n",
       "      <td>0.4630</td>\n",
       "      <td>0.5228</td>\n",
       "      <td>7.365308e+07</td>\n",
       "      <td>8.316594e+07</td>\n",
       "    </tr>\n",
       "    <tr>\n",
       "      <th>19</th>\n",
       "      <td>Connecticut</td>\n",
       "      <td>141826947</td>\n",
       "      <td>0.7072</td>\n",
       "      <td>0.2731</td>\n",
       "      <td>1.003000e+08</td>\n",
       "      <td>3.873294e+07</td>\n",
       "    </tr>\n",
       "    <tr>\n",
       "      <th>20</th>\n",
       "      <td>Minnesota</td>\n",
       "      <td>126481508</td>\n",
       "      <td>0.6252</td>\n",
       "      <td>0.3604</td>\n",
       "      <td>7.907624e+07</td>\n",
       "      <td>4.558394e+07</td>\n",
       "    </tr>\n",
       "    <tr>\n",
       "      <th>21</th>\n",
       "      <td>Tennessee</td>\n",
       "      <td>118267439</td>\n",
       "      <td>0.3548</td>\n",
       "      <td>0.6302</td>\n",
       "      <td>4.196129e+07</td>\n",
       "      <td>7.453214e+07</td>\n",
       "    </tr>\n",
       "    <tr>\n",
       "      <th>22</th>\n",
       "      <td>Oregon</td>\n",
       "      <td>109539440</td>\n",
       "      <td>0.7311</td>\n",
       "      <td>0.2452</td>\n",
       "      <td>8.008428e+07</td>\n",
       "      <td>2.685907e+07</td>\n",
       "    </tr>\n",
       "    <tr>\n",
       "      <th>23</th>\n",
       "      <td>Delaware</td>\n",
       "      <td>99238727</td>\n",
       "      <td>0.7202</td>\n",
       "      <td>0.2701</td>\n",
       "      <td>7.147173e+07</td>\n",
       "      <td>2.680438e+07</td>\n",
       "    </tr>\n",
       "    <tr>\n",
       "      <th>24</th>\n",
       "      <td>Indiana</td>\n",
       "      <td>98964402</td>\n",
       "      <td>0.4378</td>\n",
       "      <td>0.5415</td>\n",
       "      <td>4.332662e+07</td>\n",
       "      <td>5.358922e+07</td>\n",
       "    </tr>\n",
       "    <tr>\n",
       "      <th>25</th>\n",
       "      <td>Wisconsin</td>\n",
       "      <td>95300079</td>\n",
       "      <td>0.4934</td>\n",
       "      <td>0.4894</td>\n",
       "      <td>4.702106e+07</td>\n",
       "      <td>4.663986e+07</td>\n",
       "    </tr>\n",
       "    <tr>\n",
       "      <th>26</th>\n",
       "      <td>Missouri</td>\n",
       "      <td>94917494</td>\n",
       "      <td>0.4168</td>\n",
       "      <td>0.5670</td>\n",
       "      <td>3.956161e+07</td>\n",
       "      <td>5.381822e+07</td>\n",
       "    </tr>\n",
       "    <tr>\n",
       "      <th>27</th>\n",
       "      <td>Wyoming</td>\n",
       "      <td>94810801</td>\n",
       "      <td>0.3518</td>\n",
       "      <td>0.6280</td>\n",
       "      <td>3.335444e+07</td>\n",
       "      <td>5.954118e+07</td>\n",
       "    </tr>\n",
       "    <tr>\n",
       "      <th>28</th>\n",
       "      <td>South Carolina</td>\n",
       "      <td>76619560</td>\n",
       "      <td>0.4325</td>\n",
       "      <td>0.5551</td>\n",
       "      <td>3.313796e+07</td>\n",
       "      <td>4.253152e+07</td>\n",
       "    </tr>\n",
       "    <tr>\n",
       "      <th>29</th>\n",
       "      <td>Alabama</td>\n",
       "      <td>72363094</td>\n",
       "      <td>0.2649</td>\n",
       "      <td>0.7117</td>\n",
       "      <td>1.916898e+07</td>\n",
       "      <td>5.150081e+07</td>\n",
       "    </tr>\n",
       "    <tr>\n",
       "      <th>30</th>\n",
       "      <td>Arkansas</td>\n",
       "      <td>69611659</td>\n",
       "      <td>0.3294</td>\n",
       "      <td>0.6527</td>\n",
       "      <td>2.293008e+07</td>\n",
       "      <td>4.543553e+07</td>\n",
       "    </tr>\n",
       "    <tr>\n",
       "      <th>31</th>\n",
       "      <td>Louisiana</td>\n",
       "      <td>67806980</td>\n",
       "      <td>0.2490</td>\n",
       "      <td>0.7167</td>\n",
       "      <td>1.688394e+07</td>\n",
       "      <td>4.859726e+07</td>\n",
       "    </tr>\n",
       "    <tr>\n",
       "      <th>32</th>\n",
       "      <td>Kansas</td>\n",
       "      <td>64957517</td>\n",
       "      <td>0.4016</td>\n",
       "      <td>0.5793</td>\n",
       "      <td>2.608694e+07</td>\n",
       "      <td>3.762989e+07</td>\n",
       "    </tr>\n",
       "    <tr>\n",
       "      <th>33</th>\n",
       "      <td>Oklahoma</td>\n",
       "      <td>61373271</td>\n",
       "      <td>0.3205</td>\n",
       "      <td>0.6522</td>\n",
       "      <td>1.967013e+07</td>\n",
       "      <td>4.002765e+07</td>\n",
       "    </tr>\n",
       "    <tr>\n",
       "      <th>34</th>\n",
       "      <td>New Mexico</td>\n",
       "      <td>55933378</td>\n",
       "      <td>0.6209</td>\n",
       "      <td>0.3652</td>\n",
       "      <td>3.472903e+07</td>\n",
       "      <td>2.042687e+07</td>\n",
       "    </tr>\n",
       "    <tr>\n",
       "      <th>35</th>\n",
       "      <td>Kentucky</td>\n",
       "      <td>52219332</td>\n",
       "      <td>0.4436</td>\n",
       "      <td>0.5394</td>\n",
       "      <td>2.316450e+07</td>\n",
       "      <td>2.816711e+07</td>\n",
       "    </tr>\n",
       "    <tr>\n",
       "      <th>36</th>\n",
       "      <td>Iowa</td>\n",
       "      <td>50438238</td>\n",
       "      <td>0.4986</td>\n",
       "      <td>0.4843</td>\n",
       "      <td>2.514851e+07</td>\n",
       "      <td>2.442724e+07</td>\n",
       "    </tr>\n",
       "    <tr>\n",
       "      <th>37</th>\n",
       "      <td>Utah</td>\n",
       "      <td>43165740</td>\n",
       "      <td>0.4620</td>\n",
       "      <td>0.5168</td>\n",
       "      <td>1.994257e+07</td>\n",
       "      <td>2.230805e+07</td>\n",
       "    </tr>\n",
       "    <tr>\n",
       "      <th>38</th>\n",
       "      <td>Nebraska</td>\n",
       "      <td>42514840</td>\n",
       "      <td>0.3603</td>\n",
       "      <td>0.6206</td>\n",
       "      <td>1.531810e+07</td>\n",
       "      <td>2.638471e+07</td>\n",
       "    </tr>\n",
       "    <tr>\n",
       "      <th>39</th>\n",
       "      <td>New Hampshire</td>\n",
       "      <td>36214629</td>\n",
       "      <td>0.7076</td>\n",
       "      <td>0.2772</td>\n",
       "      <td>2.562547e+07</td>\n",
       "      <td>1.003870e+07</td>\n",
       "    </tr>\n",
       "    <tr>\n",
       "      <th>40</th>\n",
       "      <td>Maine</td>\n",
       "      <td>33692139</td>\n",
       "      <td>0.7657</td>\n",
       "      <td>0.2208</td>\n",
       "      <td>2.579807e+07</td>\n",
       "      <td>7.439224e+06</td>\n",
       "    </tr>\n",
       "    <tr>\n",
       "      <th>41</th>\n",
       "      <td>Idaho</td>\n",
       "      <td>31881987</td>\n",
       "      <td>0.3978</td>\n",
       "      <td>0.5866</td>\n",
       "      <td>1.268265e+07</td>\n",
       "      <td>1.870197e+07</td>\n",
       "    </tr>\n",
       "    <tr>\n",
       "      <th>42</th>\n",
       "      <td>Montana</td>\n",
       "      <td>30773870</td>\n",
       "      <td>0.4713</td>\n",
       "      <td>0.5153</td>\n",
       "      <td>1.450372e+07</td>\n",
       "      <td>1.585778e+07</td>\n",
       "    </tr>\n",
       "    <tr>\n",
       "      <th>43</th>\n",
       "      <td>Mississippi</td>\n",
       "      <td>25358043</td>\n",
       "      <td>0.2254</td>\n",
       "      <td>0.7568</td>\n",
       "      <td>5.715703e+06</td>\n",
       "      <td>1.919097e+07</td>\n",
       "    </tr>\n",
       "    <tr>\n",
       "      <th>44</th>\n",
       "      <td>Hawaii</td>\n",
       "      <td>23199684</td>\n",
       "      <td>0.6674</td>\n",
       "      <td>0.3136</td>\n",
       "      <td>1.548347e+07</td>\n",
       "      <td>7.275421e+06</td>\n",
       "    </tr>\n",
       "    <tr>\n",
       "      <th>45</th>\n",
       "      <td>Rhode Island</td>\n",
       "      <td>21289970</td>\n",
       "      <td>0.7809</td>\n",
       "      <td>0.1942</td>\n",
       "      <td>1.662534e+07</td>\n",
       "      <td>4.134512e+06</td>\n",
       "    </tr>\n",
       "    <tr>\n",
       "      <th>46</th>\n",
       "      <td>Alaska</td>\n",
       "      <td>20386661</td>\n",
       "      <td>0.3553</td>\n",
       "      <td>0.4526</td>\n",
       "      <td>7.243381e+06</td>\n",
       "      <td>9.227003e+06</td>\n",
       "    </tr>\n",
       "    <tr>\n",
       "      <th>47</th>\n",
       "      <td>Vermont</td>\n",
       "      <td>18716706</td>\n",
       "      <td>0.8601</td>\n",
       "      <td>0.1157</td>\n",
       "      <td>1.609824e+07</td>\n",
       "      <td>2.165523e+06</td>\n",
       "    </tr>\n",
       "    <tr>\n",
       "      <th>48</th>\n",
       "      <td>North Dakota</td>\n",
       "      <td>14157432</td>\n",
       "      <td>0.2541</td>\n",
       "      <td>0.7270</td>\n",
       "      <td>3.597403e+06</td>\n",
       "      <td>1.029245e+07</td>\n",
       "    </tr>\n",
       "    <tr>\n",
       "      <th>49</th>\n",
       "      <td>South Dakota</td>\n",
       "      <td>13987738</td>\n",
       "      <td>0.2855</td>\n",
       "      <td>0.6878</td>\n",
       "      <td>3.993499e+06</td>\n",
       "      <td>9.620766e+06</td>\n",
       "    </tr>\n",
       "    <tr>\n",
       "      <th>50</th>\n",
       "      <td>West Virginia</td>\n",
       "      <td>13886313</td>\n",
       "      <td>0.4159</td>\n",
       "      <td>0.5682</td>\n",
       "      <td>5.775318e+06</td>\n",
       "      <td>7.890203e+06</td>\n",
       "    </tr>\n",
       "  </tbody>\n",
       "</table>\n",
       "</div>"
      ],
      "text/plain": [
       "                    Name  Total Contributions  Percent to Democrats  \\\n",
       "0             California           1666572970                0.6931   \n",
       "1               New York            978988661                0.7462   \n",
       "2   District of Columbia            810155426                0.6701   \n",
       "3                  Texas            687622660                0.3488   \n",
       "4                Florida            646468276                0.3692   \n",
       "5               Illinois            465554870                0.6578   \n",
       "6               Virginia            428059006                0.5293   \n",
       "7          Massachusetts            345536126                0.8376   \n",
       "8                 Nevada            325134020                0.3101   \n",
       "9             Washington            273199705                0.7454   \n",
       "10          Pennsylvania            264503864                0.6005   \n",
       "11               Georgia            253971132                0.3897   \n",
       "12              Michigan            200056424                0.4943   \n",
       "13              Colorado            195833872                0.6269   \n",
       "14              Maryland            194348241                0.7634   \n",
       "15            New Jersey            192427041                0.6517   \n",
       "16                  Ohio            174272712                0.4314   \n",
       "17        North Carolina            173873629                0.4983   \n",
       "18               Arizona            159077926                0.4630   \n",
       "19           Connecticut            141826947                0.7072   \n",
       "20             Minnesota            126481508                0.6252   \n",
       "21             Tennessee            118267439                0.3548   \n",
       "22                Oregon            109539440                0.7311   \n",
       "23              Delaware             99238727                0.7202   \n",
       "24               Indiana             98964402                0.4378   \n",
       "25             Wisconsin             95300079                0.4934   \n",
       "26              Missouri             94917494                0.4168   \n",
       "27               Wyoming             94810801                0.3518   \n",
       "28        South Carolina             76619560                0.4325   \n",
       "29               Alabama             72363094                0.2649   \n",
       "30              Arkansas             69611659                0.3294   \n",
       "31             Louisiana             67806980                0.2490   \n",
       "32                Kansas             64957517                0.4016   \n",
       "33              Oklahoma             61373271                0.3205   \n",
       "34            New Mexico             55933378                0.6209   \n",
       "35              Kentucky             52219332                0.4436   \n",
       "36                  Iowa             50438238                0.4986   \n",
       "37                  Utah             43165740                0.4620   \n",
       "38              Nebraska             42514840                0.3603   \n",
       "39         New Hampshire             36214629                0.7076   \n",
       "40                 Maine             33692139                0.7657   \n",
       "41                 Idaho             31881987                0.3978   \n",
       "42               Montana             30773870                0.4713   \n",
       "43           Mississippi             25358043                0.2254   \n",
       "44                Hawaii             23199684                0.6674   \n",
       "45          Rhode Island             21289970                0.7809   \n",
       "46                Alaska             20386661                0.3553   \n",
       "47               Vermont             18716706                0.8601   \n",
       "48          North Dakota             14157432                0.2541   \n",
       "49          South Dakota             13987738                0.2855   \n",
       "50         West Virginia             13886313                0.4159   \n",
       "\n",
       "    Percent to Republicans  Contributions to Democrats  \\\n",
       "0                   0.2842                1.155102e+09   \n",
       "1                   0.2318                7.305213e+08   \n",
       "2                   0.3148                5.428852e+08   \n",
       "3                   0.6315                2.398428e+08   \n",
       "4                   0.6108                2.386761e+08   \n",
       "5                   0.3308                3.062420e+08   \n",
       "6                   0.4483                2.265716e+08   \n",
       "7                   0.1402                2.894211e+08   \n",
       "8                   0.6732                1.008241e+08   \n",
       "9                   0.2294                2.036431e+08   \n",
       "10                  0.3808                1.588346e+08   \n",
       "11                  0.5953                9.897255e+07   \n",
       "12                  0.4896                9.888789e+07   \n",
       "13                  0.3573                1.227683e+08   \n",
       "14                  0.2147                1.483654e+08   \n",
       "15                  0.3331                1.254047e+08   \n",
       "16                  0.5479                7.518125e+07   \n",
       "17                  0.4859                8.664123e+07   \n",
       "18                  0.5228                7.365308e+07   \n",
       "19                  0.2731                1.003000e+08   \n",
       "20                  0.3604                7.907624e+07   \n",
       "21                  0.6302                4.196129e+07   \n",
       "22                  0.2452                8.008428e+07   \n",
       "23                  0.2701                7.147173e+07   \n",
       "24                  0.5415                4.332662e+07   \n",
       "25                  0.4894                4.702106e+07   \n",
       "26                  0.5670                3.956161e+07   \n",
       "27                  0.6280                3.335444e+07   \n",
       "28                  0.5551                3.313796e+07   \n",
       "29                  0.7117                1.916898e+07   \n",
       "30                  0.6527                2.293008e+07   \n",
       "31                  0.7167                1.688394e+07   \n",
       "32                  0.5793                2.608694e+07   \n",
       "33                  0.6522                1.967013e+07   \n",
       "34                  0.3652                3.472903e+07   \n",
       "35                  0.5394                2.316450e+07   \n",
       "36                  0.4843                2.514851e+07   \n",
       "37                  0.5168                1.994257e+07   \n",
       "38                  0.6206                1.531810e+07   \n",
       "39                  0.2772                2.562547e+07   \n",
       "40                  0.2208                2.579807e+07   \n",
       "41                  0.5866                1.268265e+07   \n",
       "42                  0.5153                1.450372e+07   \n",
       "43                  0.7568                5.715703e+06   \n",
       "44                  0.3136                1.548347e+07   \n",
       "45                  0.1942                1.662534e+07   \n",
       "46                  0.4526                7.243381e+06   \n",
       "47                  0.1157                1.609824e+07   \n",
       "48                  0.7270                3.597403e+06   \n",
       "49                  0.6878                3.993499e+06   \n",
       "50                  0.5682                5.775318e+06   \n",
       "\n",
       "    Contributions to Republicans  \n",
       "0                   4.736400e+08  \n",
       "1                   2.269296e+08  \n",
       "2                   2.550369e+08  \n",
       "3                   4.342337e+08  \n",
       "4                   3.948628e+08  \n",
       "5                   1.540056e+08  \n",
       "6                   1.918989e+08  \n",
       "7                   4.844416e+07  \n",
       "8                   2.188802e+08  \n",
       "9                   6.267201e+07  \n",
       "10                  1.007231e+08  \n",
       "11                  1.511890e+08  \n",
       "12                  9.794763e+07  \n",
       "13                  6.997144e+07  \n",
       "14                  4.172657e+07  \n",
       "15                  6.409745e+07  \n",
       "16                  9.548402e+07  \n",
       "17                  8.448520e+07  \n",
       "18                  8.316594e+07  \n",
       "19                  3.873294e+07  \n",
       "20                  4.558394e+07  \n",
       "21                  7.453214e+07  \n",
       "22                  2.685907e+07  \n",
       "23                  2.680438e+07  \n",
       "24                  5.358922e+07  \n",
       "25                  4.663986e+07  \n",
       "26                  5.381822e+07  \n",
       "27                  5.954118e+07  \n",
       "28                  4.253152e+07  \n",
       "29                  5.150081e+07  \n",
       "30                  4.543553e+07  \n",
       "31                  4.859726e+07  \n",
       "32                  3.762989e+07  \n",
       "33                  4.002765e+07  \n",
       "34                  2.042687e+07  \n",
       "35                  2.816711e+07  \n",
       "36                  2.442724e+07  \n",
       "37                  2.230805e+07  \n",
       "38                  2.638471e+07  \n",
       "39                  1.003870e+07  \n",
       "40                  7.439224e+06  \n",
       "41                  1.870197e+07  \n",
       "42                  1.585778e+07  \n",
       "43                  1.919097e+07  \n",
       "44                  7.275421e+06  \n",
       "45                  4.134512e+06  \n",
       "46                  9.227003e+06  \n",
       "47                  2.165523e+06  \n",
       "48                  1.029245e+07  \n",
       "49                  9.620766e+06  \n",
       "50                  7.890203e+06  "
      ]
     },
     "execution_count": 67,
     "metadata": {},
     "output_type": "execute_result"
    }
   ],
   "source": [
    "state_contributions = pd.read_csv(\"state_spending.csv\")\n",
    "state_contributions = state_contributions.rename(columns = {\"State (or District)\" : \"Name\"}).drop(columns = ['Rank'])\n",
    "state_contributions[\"Total Contributions\"] = state_contributions['Total Contributions'].str.replace(\"$\", \"\").astype(int)\n",
    "state_contributions[\"Percent to Democrats\"] = state_contributions['Percent to Democrats'].str.replace(\"%\", \"\").astype(float) / 100\n",
    "state_contributions[\"Percent to Republicans\"] = state_contributions['Percent to Republicans'].str.replace(\"%\", \"\").astype(float) / 100\n",
    "state_contributions['Contributions to Democrats'] = state_contributions['Total Contributions'] * state_contributions[\"Percent to Democrats\"]\n",
    "state_contributions['Contributions to Republicans'] = state_contributions[\"Total Contributions\"] * state_contributions[\"Percent to Republicans\"]\n",
    "state_contributions.head()"
   ]
  },
  {
   "cell_type": "markdown",
   "id": "0716baf5",
   "metadata": {},
   "source": [
    "## Hypothesis Testing\n",
    "\n",
    "*Likely just going to focus on either the 2020 presidential election because the FEC data for Trump's 2024 campaign is unclean, scattered, and not even on the main page as it was in previous elections.*\n",
    "\n",
    "Electoral college and popular vote numbers by state: https://www.fec.gov/resources/cms-content/documents/2024presgeresults.pdf\n",
    "\n",
    "**ideas**\n",
    "- how does median age correlate with funding/spending\n",
    "- how does population density correlate spending / voter turnout\n",
    "- how does median income correlate with chosen candidate"
   ]
  },
  {
   "cell_type": "markdown",
   "id": "e2f168c5",
   "metadata": {},
   "source": [
    "### Median Age and Party-Based Spending\n",
    "*How does median age correlate with funds raised?* \\\n",
    "*Did Republican candidates receive a disproportion amount of funding from states with a higher median age?*\n",
    "\n",
    "Statistical Methods Used:\n",
    "- ANOVA One-Way\n",
    "- Tukey's Honest Significant Difference (Post-Hoc)"
   ]
  },
  {
   "cell_type": "code",
   "execution_count": 75,
   "id": "992fd049",
   "metadata": {},
   "outputs": [
    {
     "name": "stdout",
     "output_type": "stream",
     "text": [
      "ANOVA statistic:5.3387, ANOVA p_value: 0.0081\n"
     ]
    },
    {
     "data": {
      "text/html": [
       "<table class=\"simpletable\">\n",
       "<caption>Multiple Comparison of Means - Tukey HSD, FWER=0.05</caption>\n",
       "<tr>\n",
       "  <th>group1</th> <th>group2</th> <th>meandiff</th>  <th>p-adj</th>  <th>lower</th>   <th>upper</th> <th>reject</th>\n",
       "</tr>\n",
       "<tr>\n",
       "  <td>Higher</td>  <td>Lower</td>  <td>0.1779</td>  <td>0.0063</td> <td>0.0445</td>  <td>0.3112</td>  <td>True</td> \n",
       "</tr>\n",
       "<tr>\n",
       "  <td>Higher</td> <td>Medium</td>  <td>0.1137</td>  <td>0.1085</td> <td>-0.0196</td> <td>0.2471</td>  <td>False</td>\n",
       "</tr>\n",
       "<tr>\n",
       "   <td>Lower</td> <td>Medium</td>  <td>-0.0641</td> <td>0.4806</td> <td>-0.1975</td> <td>0.0692</td>  <td>False</td>\n",
       "</tr>\n",
       "</table>"
      ],
      "text/latex": [
       "\\begin{center}\n",
       "\\begin{tabular}{ccccccc}\n",
       "\\toprule\n",
       "\\textbf{group1} & \\textbf{group2} & \\textbf{meandiff} & \\textbf{p-adj} & \\textbf{lower} & \\textbf{upper} & \\textbf{reject}  \\\\\n",
       "\\midrule\n",
       "     Higher     &      Lower      &       0.1779      &     0.0063     &     0.0445     &     0.3112     &       True       \\\\\n",
       "     Higher     &      Medium     &       0.1137      &     0.1085     &    -0.0196     &     0.2471     &      False       \\\\\n",
       "     Lower      &      Medium     &      -0.0641      &     0.4806     &    -0.1975     &     0.0692     &      False       \\\\\n",
       "\\bottomrule\n",
       "\\end{tabular}\n",
       "%\\caption{Multiple Comparison of Means - Tukey HSD, FWER=0.05}\n",
       "\\end{center}"
      ],
      "text/plain": [
       "<class 'statsmodels.iolib.table.SimpleTable'>"
      ]
     },
     "execution_count": 75,
     "metadata": {},
     "output_type": "execute_result"
    }
   ],
   "source": [
    "from scipy.stats import f_oneway\n",
    "\n",
    "joint_df = pd.merge(left = median_age, right = state_contributions, how = \"inner\")\n",
    "joint_df = pd.merge(left = joint_df, right = population, how = \"inner\")\n",
    "joint_df.insert(2, \"Age Group\", pd.qcut(joint_df['Median Age'], q = 3, labels = ['Lower', \"Medium\", 'Higher']))\n",
    "\n",
    "\n",
    "lower = joint_df[joint_df['Age Group'] == 'Lower']['Percent to Republicans']\n",
    "medium = joint_df[joint_df['Age Group'] == 'Medium']['Percent to Republicans']\n",
    "higher = joint_df[joint_df['Age Group'] == 'Higher']['Percent to Republicans']\n",
    "\n",
    "statistic, p_value = f_oneway(lower, medium, higher)\n",
    "print(f\"ANOVA statistic:{statistic:.4f}, ANOVA p_value: {p_value:.4f}\")\n",
    "# singificant, so we proceed with a post-hoc Tukey's Honest Significant Difference\n",
    "\n",
    "import statsmodels.stats.multicomp as mc\n",
    "\n",
    "comp = mc.MultiComparison(joint_df['Percent to Republicans'], joint_df['Age Group'])\n",
    "post_hoc_res = comp.tukeyhsd()\n",
    "post_hoc_res.summary()"
   ]
  },
  {
   "cell_type": "code",
   "execution_count": 69,
   "id": "aef3a853",
   "metadata": {},
   "outputs": [
    {
     "data": {
      "image/png": "[encoded data removed]",
      "text/plain": [
       "<Figure size 1000x600 with 1 Axes>"
      ]
     },
     "metadata": {},
     "output_type": "display_data"
    }
   ],
   "source": [
    "plt.figure(figsize=(10, 6))\n",
    "sns.set_theme(style=\"whitegrid\")\n",
    "\n",
    "# Regression Line\n",
    "sns.regplot(data=joint_df, x='Median Age', y='Percent to Republicans', scatter=False, color='red', line_kws={'linewidth':1.5})\n",
    "\n",
    "# Scatter Plot\n",
    "plt.scatter(\n",
    "    x=joint_df['Median Age'],\n",
    "    y=joint_df['Percent to Republicans'],\n",
    "    s=joint_df['Population'] / 25000,\n",
    "    alpha=0.7,\n",
    "    edgecolor='k'\n",
    ")\n",
    "plt.tight_layout()\n",
    "plt.show()"
   ]
  },
  {
   "cell_type": "code",
   "execution_count": 70,
   "id": "f20d75f0",
   "metadata": {},
   "outputs": [
    {
     "data": {
      "image/png": "[encoded data removed]",
      "text/plain": [
       "<Figure size 1000x600 with 1 Axes>"
      ]
     },
     "metadata": {},
     "output_type": "display_data"
    }
   ],
   "source": [
    "plt.figure(figsize=(10, 6))\n",
    "sns.set_theme(style=\"whitegrid\")\n",
    "\n",
    "# Regression Line\n",
    "sns.regplot(data=joint_df, x='Median Age', y='Percent to Democrats', scatter=False, color='red', line_kws={'linewidth':1.5})\n",
    "\n",
    "# Scatter Plot\n",
    "plt.scatter(\n",
    "    x=joint_df['Median Age'],\n",
    "    y=joint_df['Percent to Democrats'],\n",
    "    s=joint_df['Population'] / 25000,\n",
    "    alpha=0.7,\n",
    "    edgecolor='k'\n",
    ")\n",
    "plt.tight_layout()\n",
    "plt.show()"
   ]
  },
  {
   "cell_type": "markdown",
   "id": "c553610f",
   "metadata": {},
   "source": [
    "**Observations:**\n",
    "- We can see that as median age increases, the Democrats receive more funding and the Republicans receive less funding.\n",
    "- This is corroborated by our ANOVA p-value of 0.0081."
   ]
  },
  {
   "cell_type": "markdown",
   "id": "357f29af",
   "metadata": {},
   "source": [
    "### Population Density and Voter Turnout\n",
    "*How does population density correlate with voter turnout?* \\\n",
    "*Do denser areas have more engaged voters?*\n",
    "\n",
    "Statistical Methods Used:\n",
    "- Simple Linear Regression\n",
    "- Pearson and Spearman Correlation Analysis"
   ]
  },
  {
   "cell_type": "markdown",
   "id": "c2f90c67",
   "metadata": {},
   "source": [
    "**Turnout Rate:**"
   ]
  },
  {
   "cell_type": "code",
   "execution_count": 71,
   "id": "bfe73676",
   "metadata": {},
   "outputs": [
    {
     "data": {
      "application/vnd.microsoft.datawrangler.viewer.v0+json": {
       "columns": [
        {
         "name": "index",
         "rawType": "int64",
         "type": "integer"
        },
        {
         "name": "Name",
         "rawType": "object",
         "type": "string"
        },
        {
         "name": "Biden Votes",
         "rawType": "int64",
         "type": "integer"
        },
        {
         "name": "Trump Votes",
         "rawType": "int64",
         "type": "integer"
        },
        {
         "name": "Total Votes",
         "rawType": "int64",
         "type": "integer"
        },
        {
         "name": "Population",
         "rawType": "int64",
         "type": "integer"
        },
        {
         "name": "Turnout",
         "rawType": "float64",
         "type": "float"
        }
       ],
       "ref": "d17bf6d9-08d6-416b-9009-c2c0131d8652",
       "rows": [
        [
         "0",
         "Alabama",
         "849624",
         "1441170",
         "2323282",
         "4893186",
         "0.4747994455963865"
        ],
        [
         "1",
         "Alaska",
         "153778",
         "189951",
         "359530",
         "736990",
         "0.48783565584336286"
        ],
        [
         "2",
         "Arizona",
         "1672143",
         "1661686",
         "3387326",
         "7174064",
         "0.47216277970199316"
        ],
        [
         "3",
         "Arkansas",
         "423932",
         "760647",
         "1219069",
         "3011873",
         "0.40475445013783784"
        ],
        [
         "4",
         "California",
         "11110639",
         "6006518",
         "17501380",
         "39346023",
         "0.4448068360047469"
        ]
       ],
       "shape": {
        "columns": 6,
        "rows": 5
       }
      },
      "text/html": [
       "<div>\n",
       "<style scoped>\n",
       "    .dataframe tbody tr th:only-of-type {\n",
       "        vertical-align: middle;\n",
       "    }\n",
       "\n",
       "    .dataframe tbody tr th {\n",
       "        vertical-align: top;\n",
       "    }\n",
       "\n",
       "    .dataframe thead th {\n",
       "        text-align: right;\n",
       "    }\n",
       "</style>\n",
       "<table border=\"1\" class=\"dataframe\">\n",
       "  <thead>\n",
       "    <tr style=\"text-align: right;\">\n",
       "      <th></th>\n",
       "      <th>Name</th>\n",
       "      <th>Biden Votes</th>\n",
       "      <th>Trump Votes</th>\n",
       "      <th>Total Votes</th>\n",
       "      <th>Population</th>\n",
       "      <th>Turnout</th>\n",
       "    </tr>\n",
       "  </thead>\n",
       "  <tbody>\n",
       "    <tr>\n",
       "      <th>0</th>\n",
       "      <td>Alabama</td>\n",
       "      <td>849624</td>\n",
       "      <td>1441170</td>\n",
       "      <td>2323282</td>\n",
       "      <td>4893186</td>\n",
       "      <td>0.474799</td>\n",
       "    </tr>\n",
       "    <tr>\n",
       "      <th>1</th>\n",
       "      <td>Alaska</td>\n",
       "      <td>153778</td>\n",
       "      <td>189951</td>\n",
       "      <td>359530</td>\n",
       "      <td>736990</td>\n",
       "      <td>0.487836</td>\n",
       "    </tr>\n",
       "    <tr>\n",
       "      <th>2</th>\n",
       "      <td>Arizona</td>\n",
       "      <td>1672143</td>\n",
       "      <td>1661686</td>\n",
       "      <td>3387326</td>\n",
       "      <td>7174064</td>\n",
       "      <td>0.472163</td>\n",
       "    </tr>\n",
       "    <tr>\n",
       "      <th>3</th>\n",
       "      <td>Arkansas</td>\n",
       "      <td>423932</td>\n",
       "      <td>760647</td>\n",
       "      <td>1219069</td>\n",
       "      <td>3011873</td>\n",
       "      <td>0.404754</td>\n",
       "    </tr>\n",
       "    <tr>\n",
       "      <th>4</th>\n",
       "      <td>California</td>\n",
       "      <td>11110639</td>\n",
       "      <td>6006518</td>\n",
       "      <td>17501380</td>\n",
       "      <td>39346023</td>\n",
       "      <td>0.444807</td>\n",
       "    </tr>\n",
       "  </tbody>\n",
       "</table>\n",
       "</div>"
      ],
      "text/plain": [
       "         Name  Biden Votes  Trump Votes  Total Votes  Population   Turnout\n",
       "0     Alabama       849624      1441170      2323282     4893186  0.474799\n",
       "1      Alaska       153778       189951       359530      736990  0.487836\n",
       "2     Arizona      1672143      1661686      3387326     7174064  0.472163\n",
       "3    Arkansas       423932       760647      1219069     3011873  0.404754\n",
       "4  California     11110639      6006518     17501380    39346023  0.444807"
      ]
     },
     "execution_count": 71,
     "metadata": {},
     "output_type": "execute_result"
    }
   ],
   "source": [
    "merged_pop_df = popular_vote.merge(population, on='Name')\n",
    "merged_pop_df['Turnout'] = merged_pop_df['Total Votes'] / merged_pop_df['Population']\n",
    "\n",
    "#popular_vote['Turnout'] = popular_vote['Total Votes'] / population['Population']\n",
    "merged_pop_df.head(5)"
   ]
  },
  {
   "cell_type": "markdown",
   "id": "6ec47290",
   "metadata": {},
   "source": [
    "**Combining** DF's for Visualization:"
   ]
  },
  {
   "cell_type": "code",
   "execution_count": 72,
   "id": "1af7683a",
   "metadata": {},
   "outputs": [
    {
     "data": {
      "application/vnd.microsoft.datawrangler.viewer.v0+json": {
       "columns": [
        {
         "name": "index",
         "rawType": "int64",
         "type": "integer"
        },
        {
         "name": "Name",
         "rawType": "object",
         "type": "string"
        },
        {
         "name": "Biden Votes",
         "rawType": "int64",
         "type": "integer"
        },
        {
         "name": "Trump Votes",
         "rawType": "int64",
         "type": "integer"
        },
        {
         "name": "Total Votes",
         "rawType": "int64",
         "type": "integer"
        },
        {
         "name": "Population",
         "rawType": "int64",
         "type": "integer"
        },
        {
         "name": "Turnout",
         "rawType": "float64",
         "type": "float"
        },
        {
         "name": "Resident Population Density",
         "rawType": "float64",
         "type": "float"
        }
       ],
       "ref": "98b0c29a-dc86-4b4e-950a-8bd2bc6b53e7",
       "rows": [
        [
         "0",
         "Alabama",
         "849624",
         "1441170",
         "2323282",
         "4893186",
         "47.479944559638646",
         "99.2"
        ],
        [
         "1",
         "Alaska",
         "153778",
         "189951",
         "359530",
         "736990",
         "48.78356558433629",
         "1.3"
        ],
        [
         "2",
         "Arizona",
         "1672143",
         "1661686",
         "3387326",
         "7174064",
         "47.216277970199314",
         "62.9"
        ],
        [
         "3",
         "Arkansas",
         "423932",
         "760647",
         "1219069",
         "3011873",
         "40.475445013783784",
         "57.9"
        ],
        [
         "4",
         "California",
         "11110639",
         "6006518",
         "17501380",
         "39346023",
         "44.48068360047469",
         "253.7"
        ]
       ],
       "shape": {
        "columns": 7,
        "rows": 5
       }
      },
      "text/html": [
       "<div>\n",
       "<style scoped>\n",
       "    .dataframe tbody tr th:only-of-type {\n",
       "        vertical-align: middle;\n",
       "    }\n",
       "\n",
       "    .dataframe tbody tr th {\n",
       "        vertical-align: top;\n",
       "    }\n",
       "\n",
       "    .dataframe thead th {\n",
       "        text-align: right;\n",
       "    }\n",
       "</style>\n",
       "<table border=\"1\" class=\"dataframe\">\n",
       "  <thead>\n",
       "    <tr style=\"text-align: right;\">\n",
       "      <th></th>\n",
       "      <th>Name</th>\n",
       "      <th>Biden Votes</th>\n",
       "      <th>Trump Votes</th>\n",
       "      <th>Total Votes</th>\n",
       "      <th>Population</th>\n",
       "      <th>Turnout</th>\n",
       "      <th>Resident Population Density</th>\n",
       "    </tr>\n",
       "  </thead>\n",
       "  <tbody>\n",
       "    <tr>\n",
       "      <th>0</th>\n",
       "      <td>Alabama</td>\n",
       "      <td>849624</td>\n",
       "      <td>1441170</td>\n",
       "      <td>2323282</td>\n",
       "      <td>4893186</td>\n",
       "      <td>47.479945</td>\n",
       "      <td>99.2</td>\n",
       "    </tr>\n",
       "    <tr>\n",
       "      <th>1</th>\n",
       "      <td>Alaska</td>\n",
       "      <td>153778</td>\n",
       "      <td>189951</td>\n",
       "      <td>359530</td>\n",
       "      <td>736990</td>\n",
       "      <td>48.783566</td>\n",
       "      <td>1.3</td>\n",
       "    </tr>\n",
       "    <tr>\n",
       "      <th>2</th>\n",
       "      <td>Arizona</td>\n",
       "      <td>1672143</td>\n",
       "      <td>1661686</td>\n",
       "      <td>3387326</td>\n",
       "      <td>7174064</td>\n",
       "      <td>47.216278</td>\n",
       "      <td>62.9</td>\n",
       "    </tr>\n",
       "    <tr>\n",
       "      <th>3</th>\n",
       "      <td>Arkansas</td>\n",
       "      <td>423932</td>\n",
       "      <td>760647</td>\n",
       "      <td>1219069</td>\n",
       "      <td>3011873</td>\n",
       "      <td>40.475445</td>\n",
       "      <td>57.9</td>\n",
       "    </tr>\n",
       "    <tr>\n",
       "      <th>4</th>\n",
       "      <td>California</td>\n",
       "      <td>11110639</td>\n",
       "      <td>6006518</td>\n",
       "      <td>17501380</td>\n",
       "      <td>39346023</td>\n",
       "      <td>44.480684</td>\n",
       "      <td>253.7</td>\n",
       "    </tr>\n",
       "  </tbody>\n",
       "</table>\n",
       "</div>"
      ],
      "text/plain": [
       "         Name  Biden Votes  Trump Votes  Total Votes  Population    Turnout  \\\n",
       "0     Alabama       849624      1441170      2323282     4893186  47.479945   \n",
       "1      Alaska       153778       189951       359530      736990  48.783566   \n",
       "2     Arizona      1672143      1661686      3387326     7174064  47.216278   \n",
       "3    Arkansas       423932       760647      1219069     3011873  40.475445   \n",
       "4  California     11110639      6006518     17501380    39346023  44.480684   \n",
       "\n",
       "   Resident Population Density  \n",
       "0                         99.2  \n",
       "1                          1.3  \n",
       "2                         62.9  \n",
       "3                         57.9  \n",
       "4                        253.7  "
      ]
     },
     "execution_count": 72,
     "metadata": {},
     "output_type": "execute_result"
    }
   ],
   "source": [
    "# merging Popular Vote and Population Density and Population\n",
    "density_turnout = merged_pop_df.merge(pop_density, on='Name')\n",
    "\n",
    "# Calculating turnout and adding it to the df\n",
    "density_turnout['Turnout'] = density_turnout['Total Votes'] / density_turnout['Population'] * 100\n",
    "density_turnout['Resident Population Density'] = pd.to_numeric(density_turnout['Resident Population Density'], errors='coerce')\n",
    "\n",
    "# Dropping Na's\n",
    "density_turnout = density_turnout.dropna(subset=['Resident Population Density', 'Turnout'])\n",
    "\n",
    "density_turnout.head()"
   ]
  },
  {
   "cell_type": "markdown",
   "id": "caf7b825",
   "metadata": {},
   "source": [
    "The Plot:\n",
    "- x-axis: Population Density\n",
    "- y-axis: Voter Turnout\n",
    "- blue dots/points: scaled to the population size\n",
    "- red regression line"
   ]
  },
  {
   "cell_type": "code",
   "execution_count": 73,
   "id": "dc4113f3",
   "metadata": {},
   "outputs": [
    {
     "data": {
      "image/png": "[encoded data removed]",
      "text/plain": [
       "<Figure size 1000x600 with 1 Axes>"
      ]
     },
     "metadata": {},
     "output_type": "display_data"
    },
    {
     "name": "stdout",
     "output_type": "stream",
     "text": [
      "Pearson correlation: 0.070, p-value: 0.636\n",
      "Spearman correlation: 0.051, p-value: 0.733\n"
     ]
    }
   ],
   "source": [
    "\n",
    "from scipy.stats import pearsonr, spearmanr\n",
    "\n",
    "plt.figure(figsize=(10, 6))\n",
    "sns.set_theme(style=\"whitegrid\")\n",
    "\n",
    "# Regression Line\n",
    "sns.regplot(data=density_turnout, x='Resident Population Density', y='Turnout', scatter=False, color='red', line_kws={'linewidth':1.5})\n",
    "\n",
    "\n",
    "# Scatter Plot\n",
    "plt.scatter(\n",
    "    x=density_turnout['Resident Population Density'],\n",
    "    y=density_turnout['Turnout'],\n",
    "    s=density_turnout['Population'] / 25000,\n",
    "    alpha=0.7,\n",
    "    edgecolor='k'\n",
    ")\n",
    "\n",
    "plt.xlabel(\"Population Density (people per sq. mile)\")\n",
    "plt.ylabel(\"Voter Turnout (%)\")\n",
    "plt.title(\"Population Density vs Voter Turnout (2020)\")\n",
    "plt.tight_layout()\n",
    "plt.show()\n",
    "\n",
    "# Pearson Correlation\n",
    "p_corr, p_p = pearsonr(density_turnout['Resident Population Density'], density_turnout['Turnout'])\n",
    "print(f\"Pearson correlation: {p_corr:.3f}, p-value: {p_p:.3g}\")\n",
    "\n",
    "# Spearman Correlation\n",
    "s_corr, s_p = spearmanr(density_turnout['Resident Population Density'], density_turnout['Turnout'])\n",
    "print(f\"Spearman correlation: {s_corr:.3f}, p-value: {s_p:.3g}\")"
   ]
  },
  {
   "cell_type": "markdown",
   "id": "85cd6c18",
   "metadata": {},
   "source": [
    "**Observations:**\n",
    "- Visualization: In most of the cases where the voter turnout is high, the population density is on the lower side. But it is also the same for the low voter turnout\n",
    "- Pearson Correlation: A 0.070 shows that there is a very **weak** positive linear correlation.\n",
    "- Spearman Correlation: A 0.051 shows that there is also a very **weak** positive correlation\n",
    "- Both p-values are large (> 0.05) so they are insignificant"
   ]
  },
  {
   "cell_type": "markdown",
   "id": "7e0a879f",
   "metadata": {},
   "source": [
    "**Conclusion**\n",
    "\n",
    "The analysis shows that there is **no significant correlation** between population density and voter turnout across the states. Both the Pearson and Spearman correlation values are close to zero. The visualization also shows no clear pattern between population density and voter turnout."
   ]
  },
  {
   "cell_type": "markdown",
   "id": "b2d9532f",
   "metadata": {},
   "source": [
    "### Median Income and Funding/Spending\n",
    "*Do wealthier states contribute disproportionately more to campaigns?*\n",
    "*Do poorer states receive more campaign spending?*"
   ]
  },
  {
   "cell_type": "code",
   "execution_count": 74,
   "id": "219749e5",
   "metadata": {},
   "outputs": [],
   "source": [
    "# if we choose to compare all three, it could be x-axis income, y-axis spending, and dot color candidate"
   ]
  },
  {
   "cell_type": "markdown",
   "id": "c7c3946f",
   "metadata": {},
   "source": [
    "### Campaign Spending and Chosen Candidate\n",
    "*Does increased spending always lead to more votes?*"
   ]
  },
  {
   "cell_type": "code",
   "execution_count": null,
   "id": "f164a6b5",
   "metadata": {},
   "outputs": [],
   "source": []
  },
  {
   "cell_type": "markdown",
   "id": "ff6d4b38",
   "metadata": {},
   "source": [
    "### Conclusions\n",
    "\n",
    "**How does median age correlate with campaign spending?**\n",
    "\n",
    "[insert here]\n",
    "\n",
    "**How does population density correlate with voter turnout?**\n",
    "\n",
    "The analysis shows that there is **no significant correlation** between population density and voter turnout across the states. Both the Pearson and Spearman correlation values are close to zero. The visualization also shows no clear pattern between population density and voter turnout.\n",
    "\n",
    "**Do wealthier states contribute disproportionately more to campaigns? Do poorer states receive more campaign spending?**\n",
    "\n",
    "[insert here]\n"
   ]
  }
 ],
 "metadata": {
  "kernelspec": {
   "display_name": "Python 3",
   "language": "python",
   "name": "python3"
  },
  "language_info": {
   "codemirror_mode": {
    "name": "ipython",
    "version": 3
   },
   "file_extension": ".py",
   "mimetype": "text/x-python",
   "name": "python",
   "nbconvert_exporter": "python",
   "pygments_lexer": "ipython3",
   "version": "3.10.12"
  }
 },
 "nbformat": 4,
 "nbformat_minor": 5
}
