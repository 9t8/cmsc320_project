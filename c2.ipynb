{
 "cells": [
  {
   "cell_type": "markdown",
   "id": "e2c8fb04",
   "metadata": {},
   "source": [
    "**Potential Hypotheses:**\n",
    "Likely just going to focus on either the 2020 or 2024 presidential election.\n",
    "\n",
    "Electoral college and popular vote numbers by state: https://www.fec.gov/resources/cms-content/documents/2024presgeresults.pdf\n",
    "- how does median age correlate with spending\n",
    "- how does population density correlate spending / voter turnout\n",
    "- how does median income correlate with chosen candidate\n"
   ]
  },
  {
   "cell_type": "code",
   "execution_count": null,
   "id": "1e35aa1e",
   "metadata": {},
   "outputs": [],
   "source": [
    "from census import Census\n",
    "from us import states"
   ]
  }
 ],
 "metadata": {
  "kernelspec": {
   "display_name": "Python 3",
   "language": "python",
   "name": "python3"
  },
  "language_info": {
   "name": "python",
   "version": "3.10.12"
  }
 },
 "nbformat": 4,
 "nbformat_minor": 5
}
