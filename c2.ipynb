{
 "cells": [
  {
   "cell_type": "markdown",
   "id": "e2c8fb04",
   "metadata": {},
   "source": [
    "# CMSC320: Checkpoint 2\n",
    "Tyshon Brown, David Li, Zile Liu, and Samuel Opoku-Agyemang\n"
   ]
  },
  {
   "cell_type": "markdown",
   "id": "ddf59035",
   "metadata": {},
   "source": [
    "## Data Pre-Processing"
   ]
  },
  {
   "cell_type": "markdown",
   "id": "a0314882",
   "metadata": {},
   "source": [
    "### Imports"
   ]
  },
  {
   "cell_type": "code",
   "execution_count": 2,
   "id": "1e35aa1e",
   "metadata": {},
   "outputs": [],
   "source": [
    "import pandas as pd\n",
    "import numpy as np\n",
    "\n",
    "import json\n",
    "\n",
    "from census import Census\n",
    "from us import states\n",
    "\n",
    "from IPython.display import display\n",
    "import matplotlib.pyplot as plt\n",
    "import seaborn as sns\n",
    "sns.set_theme()\n",
    "\n",
    "# sam's API key: 23c580dcbb047d99e93502f60681fc6430f2fc9a\n",
    "c = Census(\"23c580dcbb047d99e93502f60681fc6430f2fc9a\", year = 2020)\n"
   ]
  },
  {
   "cell_type": "markdown",
   "id": "ff2f80d6",
   "metadata": {},
   "source": [
    "### Population"
   ]
  },
  {
   "cell_type": "code",
   "execution_count": 41,
   "id": "b9074edb",
   "metadata": {},
   "outputs": [
    {
     "data": {
      "text/html": [
       "<div>\n",
       "<style scoped>\n",
       "    .dataframe tbody tr th:only-of-type {\n",
       "        vertical-align: middle;\n",
       "    }\n",
       "\n",
       "    .dataframe tbody tr th {\n",
       "        vertical-align: top;\n",
       "    }\n",
       "\n",
       "    .dataframe thead th {\n",
       "        text-align: right;\n",
       "    }\n",
       "</style>\n",
       "<table border=\"1\" class=\"dataframe\">\n",
       "  <thead>\n",
       "    <tr style=\"text-align: right;\">\n",
       "      <th></th>\n",
       "      <th>State</th>\n",
       "      <th>Population</th>\n",
       "      <th>state</th>\n",
       "    </tr>\n",
       "  </thead>\n",
       "  <tbody>\n",
       "    <tr>\n",
       "      <th>0</th>\n",
       "      <td>Pennsylvania</td>\n",
       "      <td>12794885</td>\n",
       "      <td>42</td>\n",
       "    </tr>\n",
       "    <tr>\n",
       "      <th>1</th>\n",
       "      <td>California</td>\n",
       "      <td>39346023</td>\n",
       "      <td>06</td>\n",
       "    </tr>\n",
       "    <tr>\n",
       "      <th>2</th>\n",
       "      <td>West Virginia</td>\n",
       "      <td>1807426</td>\n",
       "      <td>54</td>\n",
       "    </tr>\n",
       "    <tr>\n",
       "      <th>3</th>\n",
       "      <td>Utah</td>\n",
       "      <td>3151239</td>\n",
       "      <td>49</td>\n",
       "    </tr>\n",
       "    <tr>\n",
       "      <th>4</th>\n",
       "      <td>New York</td>\n",
       "      <td>19514849</td>\n",
       "      <td>36</td>\n",
       "    </tr>\n",
       "  </tbody>\n",
       "</table>\n",
       "</div>"
      ],
      "text/plain": [
       "           State  Population state\n",
       "0   Pennsylvania    12794885    42\n",
       "1     California    39346023    06\n",
       "2  West Virginia     1807426    54\n",
       "3           Utah     3151239    49\n",
       "4       New York    19514849    36"
      ]
     },
     "execution_count": 41,
     "metadata": {},
     "output_type": "execute_result"
    }
   ],
   "source": [
    "population_data = c.acs5.state(('NAME', 'B01003_001E'), Census.ALL)\n",
    "population = pd.DataFrame(population_data)\n",
    "population.rename(columns={'NAME': 'State', 'B01003_001E': 'Population'}, inplace=True)\n",
    "population['Population'] = population['Population'].astype(int)\n",
    "\n",
    "population.head()"
   ]
  },
  {
   "cell_type": "markdown",
   "id": "e68852f6",
   "metadata": {},
   "source": [
    "### Population Density"
   ]
  },
  {
   "cell_type": "code",
   "execution_count": 3,
   "id": "0924985c",
   "metadata": {},
   "outputs": [
    {
     "data": {
      "application/vnd.microsoft.datawrangler.viewer.v0+json": {
       "columns": [
        {
         "name": "index",
         "rawType": "int64",
         "type": "integer"
        },
        {
         "name": "Name",
         "rawType": "object",
         "type": "string"
        },
        {
         "name": "Resident Population Density",
         "rawType": "object",
         "type": "string"
        }
       ],
       "ref": "79b1d005-c3b9-45f0-a730-d7ffaaadb74d",
       "rows": [
        [
         "0",
         "Alabama",
         "99.2"
        ],
        [
         "1",
         "Alaska",
         "1.3"
        ],
        [
         "2",
         "Arizona",
         "62.9"
        ],
        [
         "3",
         "Arkansas",
         "57.9"
        ],
        [
         "4",
         "California",
         "253.7"
        ]
       ],
       "shape": {
        "columns": 2,
        "rows": 5
       }
      },
      "text/html": [
       "<div>\n",
       "<style scoped>\n",
       "    .dataframe tbody tr th:only-of-type {\n",
       "        vertical-align: middle;\n",
       "    }\n",
       "\n",
       "    .dataframe tbody tr th {\n",
       "        vertical-align: top;\n",
       "    }\n",
       "\n",
       "    .dataframe thead th {\n",
       "        text-align: right;\n",
       "    }\n",
       "</style>\n",
       "<table border=\"1\" class=\"dataframe\">\n",
       "  <thead>\n",
       "    <tr style=\"text-align: right;\">\n",
       "      <th></th>\n",
       "      <th>Name</th>\n",
       "      <th>Resident Population Density</th>\n",
       "    </tr>\n",
       "  </thead>\n",
       "  <tbody>\n",
       "    <tr>\n",
       "      <th>0</th>\n",
       "      <td>Alabama</td>\n",
       "      <td>99.2</td>\n",
       "    </tr>\n",
       "    <tr>\n",
       "      <th>1</th>\n",
       "      <td>Alaska</td>\n",
       "      <td>1.3</td>\n",
       "    </tr>\n",
       "    <tr>\n",
       "      <th>2</th>\n",
       "      <td>Arizona</td>\n",
       "      <td>62.9</td>\n",
       "    </tr>\n",
       "    <tr>\n",
       "      <th>3</th>\n",
       "      <td>Arkansas</td>\n",
       "      <td>57.9</td>\n",
       "    </tr>\n",
       "    <tr>\n",
       "      <th>4</th>\n",
       "      <td>California</td>\n",
       "      <td>253.7</td>\n",
       "    </tr>\n",
       "  </tbody>\n",
       "</table>\n",
       "</div>"
      ],
      "text/plain": [
       "         Name Resident Population Density\n",
       "0     Alabama                        99.2\n",
       "1      Alaska                         1.3\n",
       "2     Arizona                        62.9\n",
       "3    Arkansas                        57.9\n",
       "4  California                       253.7"
      ]
     },
     "execution_count": 3,
     "metadata": {},
     "output_type": "execute_result"
    }
   ],
   "source": [
    "# https://www.census.gov/data/tables/time-series/dec/density-data-text.html\n",
    "# renamed from \"apportionment.csv\"\n",
    "pop_density = pd.read_csv(\"population_density.csv\")\n",
    "pop_density = pop_density[['Name', 'Geography Type', 'Year', 'Resident Population Density']]\n",
    "pop_density = pop_density[(pop_density['Year'] == 2020) & (pop_density['Geography Type'] == \"State\")]\n",
    "pop_density = pop_density[['Name', 'Resident Population Density']].reset_index(drop = True)\n",
    "\n",
    "# 52 datapoints because DC and Puerto Rico count as states\n",
    "pop_density.head()"
   ]
  },
  {
   "cell_type": "markdown",
   "id": "9cc557ef",
   "metadata": {},
   "source": [
    "### Median Age"
   ]
  },
  {
   "cell_type": "code",
   "execution_count": 4,
   "id": "1dc1c644",
   "metadata": {},
   "outputs": [
    {
     "data": {
      "application/vnd.microsoft.datawrangler.viewer.v0+json": {
       "columns": [
        {
         "name": "index",
         "rawType": "int64",
         "type": "integer"
        },
        {
         "name": "Name",
         "rawType": "object",
         "type": "string"
        },
        {
         "name": "Median Age",
         "rawType": "float64",
         "type": "float"
        }
       ],
       "ref": "be5bc3ae-0552-4f19-9e91-32d721adcb3f",
       "rows": [
        [
         "0",
         "Alabama",
         "39.2"
        ],
        [
         "1",
         "Alaska",
         "34.6"
        ],
        [
         "2",
         "Arizona",
         "37.9"
        ],
        [
         "3",
         "Arkansas",
         "38.3"
        ],
        [
         "4",
         "California",
         "36.7"
        ]
       ],
       "shape": {
        "columns": 2,
        "rows": 5
       }
      },
      "text/html": [
       "<div>\n",
       "<style scoped>\n",
       "    .dataframe tbody tr th:only-of-type {\n",
       "        vertical-align: middle;\n",
       "    }\n",
       "\n",
       "    .dataframe tbody tr th {\n",
       "        vertical-align: top;\n",
       "    }\n",
       "\n",
       "    .dataframe thead th {\n",
       "        text-align: right;\n",
       "    }\n",
       "</style>\n",
       "<table border=\"1\" class=\"dataframe\">\n",
       "  <thead>\n",
       "    <tr style=\"text-align: right;\">\n",
       "      <th></th>\n",
       "      <th>Name</th>\n",
       "      <th>Median Age</th>\n",
       "    </tr>\n",
       "  </thead>\n",
       "  <tbody>\n",
       "    <tr>\n",
       "      <th>0</th>\n",
       "      <td>Alabama</td>\n",
       "      <td>39.2</td>\n",
       "    </tr>\n",
       "    <tr>\n",
       "      <th>1</th>\n",
       "      <td>Alaska</td>\n",
       "      <td>34.6</td>\n",
       "    </tr>\n",
       "    <tr>\n",
       "      <th>2</th>\n",
       "      <td>Arizona</td>\n",
       "      <td>37.9</td>\n",
       "    </tr>\n",
       "    <tr>\n",
       "      <th>3</th>\n",
       "      <td>Arkansas</td>\n",
       "      <td>38.3</td>\n",
       "    </tr>\n",
       "    <tr>\n",
       "      <th>4</th>\n",
       "      <td>California</td>\n",
       "      <td>36.7</td>\n",
       "    </tr>\n",
       "  </tbody>\n",
       "</table>\n",
       "</div>"
      ],
      "text/plain": [
       "         Name  Median Age\n",
       "0     Alabama        39.2\n",
       "1      Alaska        34.6\n",
       "2     Arizona        37.9\n",
       "3    Arkansas        38.3\n",
       "4  California        36.7"
      ]
     },
     "execution_count": 4,
     "metadata": {},
     "output_type": "execute_result"
    }
   ],
   "source": [
    "median_age_dictionary = c.acs5.state(('NAME', 'B01002_001E'), Census.ALL)\n",
    "median_age = pd.DataFrame.from_dict(median_age_dictionary).rename(columns = {'NAME' : 'Name', 'B01002_001E' : 'Median Age'})\n",
    "median_age = median_age[['Name', 'Median Age']].sort_values(by = ['Name']).reset_index(drop = True)\n",
    "median_age.head()\n"
   ]
  },
  {
   "cell_type": "markdown",
   "id": "24799ec7",
   "metadata": {},
   "source": [
    "### Median Income"
   ]
  },
  {
   "cell_type": "code",
   "execution_count": 5,
   "id": "6576cafe",
   "metadata": {},
   "outputs": [
    {
     "data": {
      "application/vnd.microsoft.datawrangler.viewer.v0+json": {
       "columns": [
        {
         "name": "index",
         "rawType": "int64",
         "type": "integer"
        },
        {
         "name": "Name",
         "rawType": "object",
         "type": "string"
        },
        {
         "name": "Median Household Income",
         "rawType": "float64",
         "type": "float"
        }
       ],
       "ref": "87c617cd-18f3-428b-9075-5221913f75b8",
       "rows": [
        [
         "0",
         "Alabama",
         "52035.0"
        ],
        [
         "1",
         "Alaska",
         "77790.0"
        ],
        [
         "2",
         "Arizona",
         "61529.0"
        ],
        [
         "3",
         "Arkansas",
         "49475.0"
        ],
        [
         "4",
         "California",
         "78672.0"
        ]
       ],
       "shape": {
        "columns": 2,
        "rows": 5
       }
      },
      "text/html": [
       "<div>\n",
       "<style scoped>\n",
       "    .dataframe tbody tr th:only-of-type {\n",
       "        vertical-align: middle;\n",
       "    }\n",
       "\n",
       "    .dataframe tbody tr th {\n",
       "        vertical-align: top;\n",
       "    }\n",
       "\n",
       "    .dataframe thead th {\n",
       "        text-align: right;\n",
       "    }\n",
       "</style>\n",
       "<table border=\"1\" class=\"dataframe\">\n",
       "  <thead>\n",
       "    <tr style=\"text-align: right;\">\n",
       "      <th></th>\n",
       "      <th>Name</th>\n",
       "      <th>Median Household Income</th>\n",
       "    </tr>\n",
       "  </thead>\n",
       "  <tbody>\n",
       "    <tr>\n",
       "      <th>0</th>\n",
       "      <td>Alabama</td>\n",
       "      <td>52035.0</td>\n",
       "    </tr>\n",
       "    <tr>\n",
       "      <th>1</th>\n",
       "      <td>Alaska</td>\n",
       "      <td>77790.0</td>\n",
       "    </tr>\n",
       "    <tr>\n",
       "      <th>2</th>\n",
       "      <td>Arizona</td>\n",
       "      <td>61529.0</td>\n",
       "    </tr>\n",
       "    <tr>\n",
       "      <th>3</th>\n",
       "      <td>Arkansas</td>\n",
       "      <td>49475.0</td>\n",
       "    </tr>\n",
       "    <tr>\n",
       "      <th>4</th>\n",
       "      <td>California</td>\n",
       "      <td>78672.0</td>\n",
       "    </tr>\n",
       "  </tbody>\n",
       "</table>\n",
       "</div>"
      ],
      "text/plain": [
       "         Name  Median Household Income\n",
       "0     Alabama                  52035.0\n",
       "1      Alaska                  77790.0\n",
       "2     Arizona                  61529.0\n",
       "3    Arkansas                  49475.0\n",
       "4  California                  78672.0"
      ]
     },
     "execution_count": 5,
     "metadata": {},
     "output_type": "execute_result"
    }
   ],
   "source": [
    "median_income_dictionary = c.acs5.state(('NAME', 'B19013_001E'), Census.ALL)\n",
    "median_income = pd.DataFrame.from_dict(median_income_dictionary).rename(columns = {'NAME' : 'Name', 'B19013_001E' : 'Median Household Income'})\n",
    "median_income = median_income[['Name', 'Median Household Income']].sort_values(by = ['Name']).reset_index(drop = True)\n",
    "median_income.head()"
   ]
  },
  {
   "cell_type": "markdown",
   "id": "de21971b",
   "metadata": {},
   "source": [
    "### Popular Vote"
   ]
  },
  {
   "cell_type": "code",
   "execution_count": null,
   "id": "bf2b0c65",
   "metadata": {},
   "outputs": [
    {
     "data": {
      "application/vnd.microsoft.datawrangler.viewer.v0+json": {
       "columns": [
        {
         "name": "index",
         "rawType": "int64",
         "type": "integer"
        },
        {
         "name": "Name",
         "rawType": "object",
         "type": "string"
        },
        {
         "name": "Biden Votes",
         "rawType": "int64",
         "type": "integer"
        },
        {
         "name": "Trump Votes",
         "rawType": "int64",
         "type": "integer"
        },
        {
         "name": "Total Votes",
         "rawType": "int64",
         "type": "integer"
        }
       ],
       "ref": "4a7d8643-fa30-46d9-9c7f-18f7fd6120e2",
       "rows": [
        [
         "0",
         "Alabama",
         "849624",
         "1441170",
         "2323282"
        ],
        [
         "1",
         "Alaska",
         "153778",
         "189951",
         "359530"
        ],
        [
         "2",
         "Arizona",
         "1672143",
         "1661686",
         "3387326"
        ],
        [
         "3",
         "Arkansas",
         "423932",
         "760647",
         "1219069"
        ],
        [
         "4",
         "California",
         "11110639",
         "6006518",
         "17501380"
        ],
        [
         "5",
         "Colorado",
         "1804352",
         "1364607",
         "3256980"
        ],
        [
         "6",
         "Connecticut",
         "1080831",
         "714717",
         "1823857"
        ],
        [
         "7",
         "Delaware",
         "296268",
         "200603",
         "504346"
        ],
        [
         "8",
         "District of Columbia",
         "317323",
         "18586",
         "344356"
        ],
        [
         "9",
         "Florida",
         "5297045",
         "5668731",
         "11067456"
        ],
        [
         "10",
         "Georgia",
         "2473633",
         "2461854",
         "4999960"
        ],
        [
         "11",
         "Hawaii",
         "366130",
         "196864",
         "574469"
        ],
        [
         "12",
         "Idaho",
         "287021",
         "554119",
         "867934"
        ],
        [
         "13",
         "Illinois",
         "3471915",
         "2446891",
         "6033744"
        ],
        [
         "14",
         "Indiana",
         "1242498",
         "1729857",
         "3033210"
        ],
        [
         "15",
         "Iowa",
         "759061",
         "897672",
         "1690871"
        ],
        [
         "16",
         "Kansas",
         "570323",
         "771406",
         "1373986"
        ],
        [
         "17",
         "Kentucky",
         "772474",
         "1326646",
         "2136768"
        ],
        [
         "18",
         "Louisiana",
         "856034",
         "1255776",
         "2148062"
        ],
        [
         "19",
         "Maine",
         "435072",
         "360737",
         "819461"
        ],
        [
         "20",
         "Maryland",
         "1985023",
         "976414",
         "3037030"
        ],
        [
         "21",
         "Massachusetts",
         "2382202",
         "1167202",
         "3631402"
        ],
        [
         "22",
         "Michigan",
         "2804040",
         "2649852",
         "5539302"
        ],
        [
         "23",
         "Minnesota",
         "1717077",
         "1484065",
         "3277171"
        ],
        [
         "24",
         "Mississippi",
         "539398",
         "756764",
         "1313759"
        ],
        [
         "25",
         "Missouri",
         "1253014",
         "1718736",
         "3025962"
        ],
        [
         "26",
         "Montana",
         "244786",
         "343602",
         "603674"
        ],
        [
         "27",
         "Nebraska",
         "374583",
         "556846",
         "956383"
        ],
        [
         "28",
         "Nevada",
         "703486",
         "669890",
         "1405376"
        ],
        [
         "29",
         "New Hampshire",
         "424937",
         "365660",
         "806205"
        ],
        [
         "30",
         "New Jersey",
         "2608400",
         "1883313",
         "4549457"
        ],
        [
         "31",
         "New Mexico",
         "501614",
         "401894",
         "923965"
        ],
        [
         "32",
         "New York",
         "5244886",
         "3251997",
         "8616861"
        ],
        [
         "33",
         "North Carolina",
         "2684292",
         "2758775",
         "5524804"
        ],
        [
         "34",
         "North Dakota",
         "115042",
         "235751",
         "362024"
        ],
        [
         "35",
         "Ohio",
         "2679165",
         "3154834",
         "5922202"
        ],
        [
         "36",
         "Oklahoma",
         "503890",
         "1020280",
         "1560699"
        ],
        [
         "37",
         "Oregon",
         "1340383",
         "958448",
         "2374321"
        ],
        [
         "38",
         "Pennsylvania",
         "3458229",
         "3377674",
         "6936976"
        ],
        [
         "39",
         "Rhode Island",
         "307486",
         "199922",
         "517757"
        ],
        [
         "40",
         "South Carolina",
         "1091541",
         "1385103",
         "2513329"
        ],
        [
         "41",
         "South Dakota",
         "150471",
         "261043",
         "422609"
        ],
        [
         "42",
         "Tennessee",
         "1143711",
         "1852475",
         "3053851"
        ],
        [
         "43",
         "Texas",
         "5259126",
         "5890347",
         "11315056"
        ],
        [
         "44",
         "Utah",
         "560282",
         "865140",
         "1488289"
        ],
        [
         "45",
         "Vermont",
         "242820",
         "112704",
         "367428"
        ],
        [
         "46",
         "Virginia",
         "2413568",
         "1962430",
         "4460524"
        ],
        [
         "47",
         "Washington",
         "2369612",
         "1584651",
         "4087631"
        ],
        [
         "48",
         "West Virginia",
         "235984",
         "545382",
         "794731"
        ],
        [
         "49",
         "Wisconsin",
         "1630866",
         "1610184",
         "3298041"
        ]
       ],
       "shape": {
        "columns": 4,
        "rows": 51
       }
      },
      "text/html": [
       "<div>\n",
       "<style scoped>\n",
       "    .dataframe tbody tr th:only-of-type {\n",
       "        vertical-align: middle;\n",
       "    }\n",
       "\n",
       "    .dataframe tbody tr th {\n",
       "        vertical-align: top;\n",
       "    }\n",
       "\n",
       "    .dataframe thead th {\n",
       "        text-align: right;\n",
       "    }\n",
       "</style>\n",
       "<table border=\"1\" class=\"dataframe\">\n",
       "  <thead>\n",
       "    <tr style=\"text-align: right;\">\n",
       "      <th></th>\n",
       "      <th>Name</th>\n",
       "      <th>Biden Votes</th>\n",
       "      <th>Trump Votes</th>\n",
       "      <th>Total Votes</th>\n",
       "    </tr>\n",
       "  </thead>\n",
       "  <tbody>\n",
       "    <tr>\n",
       "      <th>0</th>\n",
       "      <td>Alabama</td>\n",
       "      <td>849624</td>\n",
       "      <td>1441170</td>\n",
       "      <td>2323282</td>\n",
       "    </tr>\n",
       "    <tr>\n",
       "      <th>1</th>\n",
       "      <td>Alaska</td>\n",
       "      <td>153778</td>\n",
       "      <td>189951</td>\n",
       "      <td>359530</td>\n",
       "    </tr>\n",
       "    <tr>\n",
       "      <th>2</th>\n",
       "      <td>Arizona</td>\n",
       "      <td>1672143</td>\n",
       "      <td>1661686</td>\n",
       "      <td>3387326</td>\n",
       "    </tr>\n",
       "    <tr>\n",
       "      <th>3</th>\n",
       "      <td>Arkansas</td>\n",
       "      <td>423932</td>\n",
       "      <td>760647</td>\n",
       "      <td>1219069</td>\n",
       "    </tr>\n",
       "    <tr>\n",
       "      <th>4</th>\n",
       "      <td>California</td>\n",
       "      <td>11110639</td>\n",
       "      <td>6006518</td>\n",
       "      <td>17501380</td>\n",
       "    </tr>\n",
       "    <tr>\n",
       "      <th>5</th>\n",
       "      <td>Colorado</td>\n",
       "      <td>1804352</td>\n",
       "      <td>1364607</td>\n",
       "      <td>3256980</td>\n",
       "    </tr>\n",
       "    <tr>\n",
       "      <th>6</th>\n",
       "      <td>Connecticut</td>\n",
       "      <td>1080831</td>\n",
       "      <td>714717</td>\n",
       "      <td>1823857</td>\n",
       "    </tr>\n",
       "    <tr>\n",
       "      <th>7</th>\n",
       "      <td>Delaware</td>\n",
       "      <td>296268</td>\n",
       "      <td>200603</td>\n",
       "      <td>504346</td>\n",
       "    </tr>\n",
       "    <tr>\n",
       "      <th>8</th>\n",
       "      <td>District of Columbia</td>\n",
       "      <td>317323</td>\n",
       "      <td>18586</td>\n",
       "      <td>344356</td>\n",
       "    </tr>\n",
       "    <tr>\n",
       "      <th>9</th>\n",
       "      <td>Florida</td>\n",
       "      <td>5297045</td>\n",
       "      <td>5668731</td>\n",
       "      <td>11067456</td>\n",
       "    </tr>\n",
       "    <tr>\n",
       "      <th>10</th>\n",
       "      <td>Georgia</td>\n",
       "      <td>2473633</td>\n",
       "      <td>2461854</td>\n",
       "      <td>4999960</td>\n",
       "    </tr>\n",
       "    <tr>\n",
       "      <th>11</th>\n",
       "      <td>Hawaii</td>\n",
       "      <td>366130</td>\n",
       "      <td>196864</td>\n",
       "      <td>574469</td>\n",
       "    </tr>\n",
       "    <tr>\n",
       "      <th>12</th>\n",
       "      <td>Idaho</td>\n",
       "      <td>287021</td>\n",
       "      <td>554119</td>\n",
       "      <td>867934</td>\n",
       "    </tr>\n",
       "    <tr>\n",
       "      <th>13</th>\n",
       "      <td>Illinois</td>\n",
       "      <td>3471915</td>\n",
       "      <td>2446891</td>\n",
       "      <td>6033744</td>\n",
       "    </tr>\n",
       "    <tr>\n",
       "      <th>14</th>\n",
       "      <td>Indiana</td>\n",
       "      <td>1242498</td>\n",
       "      <td>1729857</td>\n",
       "      <td>3033210</td>\n",
       "    </tr>\n",
       "    <tr>\n",
       "      <th>15</th>\n",
       "      <td>Iowa</td>\n",
       "      <td>759061</td>\n",
       "      <td>897672</td>\n",
       "      <td>1690871</td>\n",
       "    </tr>\n",
       "    <tr>\n",
       "      <th>16</th>\n",
       "      <td>Kansas</td>\n",
       "      <td>570323</td>\n",
       "      <td>771406</td>\n",
       "      <td>1373986</td>\n",
       "    </tr>\n",
       "    <tr>\n",
       "      <th>17</th>\n",
       "      <td>Kentucky</td>\n",
       "      <td>772474</td>\n",
       "      <td>1326646</td>\n",
       "      <td>2136768</td>\n",
       "    </tr>\n",
       "    <tr>\n",
       "      <th>18</th>\n",
       "      <td>Louisiana</td>\n",
       "      <td>856034</td>\n",
       "      <td>1255776</td>\n",
       "      <td>2148062</td>\n",
       "    </tr>\n",
       "    <tr>\n",
       "      <th>19</th>\n",
       "      <td>Maine</td>\n",
       "      <td>435072</td>\n",
       "      <td>360737</td>\n",
       "      <td>819461</td>\n",
       "    </tr>\n",
       "    <tr>\n",
       "      <th>20</th>\n",
       "      <td>Maryland</td>\n",
       "      <td>1985023</td>\n",
       "      <td>976414</td>\n",
       "      <td>3037030</td>\n",
       "    </tr>\n",
       "    <tr>\n",
       "      <th>21</th>\n",
       "      <td>Massachusetts</td>\n",
       "      <td>2382202</td>\n",
       "      <td>1167202</td>\n",
       "      <td>3631402</td>\n",
       "    </tr>\n",
       "    <tr>\n",
       "      <th>22</th>\n",
       "      <td>Michigan</td>\n",
       "      <td>2804040</td>\n",
       "      <td>2649852</td>\n",
       "      <td>5539302</td>\n",
       "    </tr>\n",
       "    <tr>\n",
       "      <th>23</th>\n",
       "      <td>Minnesota</td>\n",
       "      <td>1717077</td>\n",
       "      <td>1484065</td>\n",
       "      <td>3277171</td>\n",
       "    </tr>\n",
       "    <tr>\n",
       "      <th>24</th>\n",
       "      <td>Mississippi</td>\n",
       "      <td>539398</td>\n",
       "      <td>756764</td>\n",
       "      <td>1313759</td>\n",
       "    </tr>\n",
       "    <tr>\n",
       "      <th>25</th>\n",
       "      <td>Missouri</td>\n",
       "      <td>1253014</td>\n",
       "      <td>1718736</td>\n",
       "      <td>3025962</td>\n",
       "    </tr>\n",
       "    <tr>\n",
       "      <th>26</th>\n",
       "      <td>Montana</td>\n",
       "      <td>244786</td>\n",
       "      <td>343602</td>\n",
       "      <td>603674</td>\n",
       "    </tr>\n",
       "    <tr>\n",
       "      <th>27</th>\n",
       "      <td>Nebraska</td>\n",
       "      <td>374583</td>\n",
       "      <td>556846</td>\n",
       "      <td>956383</td>\n",
       "    </tr>\n",
       "    <tr>\n",
       "      <th>28</th>\n",
       "      <td>Nevada</td>\n",
       "      <td>703486</td>\n",
       "      <td>669890</td>\n",
       "      <td>1405376</td>\n",
       "    </tr>\n",
       "    <tr>\n",
       "      <th>29</th>\n",
       "      <td>New Hampshire</td>\n",
       "      <td>424937</td>\n",
       "      <td>365660</td>\n",
       "      <td>806205</td>\n",
       "    </tr>\n",
       "    <tr>\n",
       "      <th>30</th>\n",
       "      <td>New Jersey</td>\n",
       "      <td>2608400</td>\n",
       "      <td>1883313</td>\n",
       "      <td>4549457</td>\n",
       "    </tr>\n",
       "    <tr>\n",
       "      <th>31</th>\n",
       "      <td>New Mexico</td>\n",
       "      <td>501614</td>\n",
       "      <td>401894</td>\n",
       "      <td>923965</td>\n",
       "    </tr>\n",
       "    <tr>\n",
       "      <th>32</th>\n",
       "      <td>New York</td>\n",
       "      <td>5244886</td>\n",
       "      <td>3251997</td>\n",
       "      <td>8616861</td>\n",
       "    </tr>\n",
       "    <tr>\n",
       "      <th>33</th>\n",
       "      <td>North Carolina</td>\n",
       "      <td>2684292</td>\n",
       "      <td>2758775</td>\n",
       "      <td>5524804</td>\n",
       "    </tr>\n",
       "    <tr>\n",
       "      <th>34</th>\n",
       "      <td>North Dakota</td>\n",
       "      <td>115042</td>\n",
       "      <td>235751</td>\n",
       "      <td>362024</td>\n",
       "    </tr>\n",
       "    <tr>\n",
       "      <th>35</th>\n",
       "      <td>Ohio</td>\n",
       "      <td>2679165</td>\n",
       "      <td>3154834</td>\n",
       "      <td>5922202</td>\n",
       "    </tr>\n",
       "    <tr>\n",
       "      <th>36</th>\n",
       "      <td>Oklahoma</td>\n",
       "      <td>503890</td>\n",
       "      <td>1020280</td>\n",
       "      <td>1560699</td>\n",
       "    </tr>\n",
       "    <tr>\n",
       "      <th>37</th>\n",
       "      <td>Oregon</td>\n",
       "      <td>1340383</td>\n",
       "      <td>958448</td>\n",
       "      <td>2374321</td>\n",
       "    </tr>\n",
       "    <tr>\n",
       "      <th>38</th>\n",
       "      <td>Pennsylvania</td>\n",
       "      <td>3458229</td>\n",
       "      <td>3377674</td>\n",
       "      <td>6936976</td>\n",
       "    </tr>\n",
       "    <tr>\n",
       "      <th>39</th>\n",
       "      <td>Rhode Island</td>\n",
       "      <td>307486</td>\n",
       "      <td>199922</td>\n",
       "      <td>517757</td>\n",
       "    </tr>\n",
       "    <tr>\n",
       "      <th>40</th>\n",
       "      <td>South Carolina</td>\n",
       "      <td>1091541</td>\n",
       "      <td>1385103</td>\n",
       "      <td>2513329</td>\n",
       "    </tr>\n",
       "    <tr>\n",
       "      <th>41</th>\n",
       "      <td>South Dakota</td>\n",
       "      <td>150471</td>\n",
       "      <td>261043</td>\n",
       "      <td>422609</td>\n",
       "    </tr>\n",
       "    <tr>\n",
       "      <th>42</th>\n",
       "      <td>Tennessee</td>\n",
       "      <td>1143711</td>\n",
       "      <td>1852475</td>\n",
       "      <td>3053851</td>\n",
       "    </tr>\n",
       "    <tr>\n",
       "      <th>43</th>\n",
       "      <td>Texas</td>\n",
       "      <td>5259126</td>\n",
       "      <td>5890347</td>\n",
       "      <td>11315056</td>\n",
       "    </tr>\n",
       "    <tr>\n",
       "      <th>44</th>\n",
       "      <td>Utah</td>\n",
       "      <td>560282</td>\n",
       "      <td>865140</td>\n",
       "      <td>1488289</td>\n",
       "    </tr>\n",
       "    <tr>\n",
       "      <th>45</th>\n",
       "      <td>Vermont</td>\n",
       "      <td>242820</td>\n",
       "      <td>112704</td>\n",
       "      <td>367428</td>\n",
       "    </tr>\n",
       "    <tr>\n",
       "      <th>46</th>\n",
       "      <td>Virginia</td>\n",
       "      <td>2413568</td>\n",
       "      <td>1962430</td>\n",
       "      <td>4460524</td>\n",
       "    </tr>\n",
       "    <tr>\n",
       "      <th>47</th>\n",
       "      <td>Washington</td>\n",
       "      <td>2369612</td>\n",
       "      <td>1584651</td>\n",
       "      <td>4087631</td>\n",
       "    </tr>\n",
       "    <tr>\n",
       "      <th>48</th>\n",
       "      <td>West Virginia</td>\n",
       "      <td>235984</td>\n",
       "      <td>545382</td>\n",
       "      <td>794731</td>\n",
       "    </tr>\n",
       "    <tr>\n",
       "      <th>49</th>\n",
       "      <td>Wisconsin</td>\n",
       "      <td>1630866</td>\n",
       "      <td>1610184</td>\n",
       "      <td>3298041</td>\n",
       "    </tr>\n",
       "    <tr>\n",
       "      <th>50</th>\n",
       "      <td>Wyoming</td>\n",
       "      <td>73491</td>\n",
       "      <td>193559</td>\n",
       "      <td>276765</td>\n",
       "    </tr>\n",
       "  </tbody>\n",
       "</table>\n",
       "</div>"
      ],
      "text/plain": [
       "                    Name  Biden Votes  Trump Votes  Total Votes\n",
       "0                Alabama       849624      1441170      2323282\n",
       "1                 Alaska       153778       189951       359530\n",
       "2                Arizona      1672143      1661686      3387326\n",
       "3               Arkansas       423932       760647      1219069\n",
       "4             California     11110639      6006518     17501380\n",
       "5               Colorado      1804352      1364607      3256980\n",
       "6            Connecticut      1080831       714717      1823857\n",
       "7               Delaware       296268       200603       504346\n",
       "8   District of Columbia       317323        18586       344356\n",
       "9                Florida      5297045      5668731     11067456\n",
       "10               Georgia      2473633      2461854      4999960\n",
       "11                Hawaii       366130       196864       574469\n",
       "12                 Idaho       287021       554119       867934\n",
       "13              Illinois      3471915      2446891      6033744\n",
       "14               Indiana      1242498      1729857      3033210\n",
       "15                  Iowa       759061       897672      1690871\n",
       "16                Kansas       570323       771406      1373986\n",
       "17              Kentucky       772474      1326646      2136768\n",
       "18             Louisiana       856034      1255776      2148062\n",
       "19                 Maine       435072       360737       819461\n",
       "20              Maryland      1985023       976414      3037030\n",
       "21         Massachusetts      2382202      1167202      3631402\n",
       "22              Michigan      2804040      2649852      5539302\n",
       "23             Minnesota      1717077      1484065      3277171\n",
       "24           Mississippi       539398       756764      1313759\n",
       "25              Missouri      1253014      1718736      3025962\n",
       "26               Montana       244786       343602       603674\n",
       "27              Nebraska       374583       556846       956383\n",
       "28                Nevada       703486       669890      1405376\n",
       "29         New Hampshire       424937       365660       806205\n",
       "30            New Jersey      2608400      1883313      4549457\n",
       "31            New Mexico       501614       401894       923965\n",
       "32              New York      5244886      3251997      8616861\n",
       "33        North Carolina      2684292      2758775      5524804\n",
       "34          North Dakota       115042       235751       362024\n",
       "35                  Ohio      2679165      3154834      5922202\n",
       "36              Oklahoma       503890      1020280      1560699\n",
       "37                Oregon      1340383       958448      2374321\n",
       "38          Pennsylvania      3458229      3377674      6936976\n",
       "39          Rhode Island       307486       199922       517757\n",
       "40        South Carolina      1091541      1385103      2513329\n",
       "41          South Dakota       150471       261043       422609\n",
       "42             Tennessee      1143711      1852475      3053851\n",
       "43                 Texas      5259126      5890347     11315056\n",
       "44                  Utah       560282       865140      1488289\n",
       "45               Vermont       242820       112704       367428\n",
       "46              Virginia      2413568      1962430      4460524\n",
       "47            Washington      2369612      1584651      4087631\n",
       "48         West Virginia       235984       545382       794731\n",
       "49             Wisconsin      1630866      1610184      3298041\n",
       "50               Wyoming        73491       193559       276765"
      ]
     },
     "execution_count": 10,
     "metadata": {},
     "output_type": "execute_result"
    }
   ],
   "source": [
    "# https://www.fec.gov/introduction-campaign-finance/election-results-and-voting-information/federal-elections-2020/\n",
    "popular_vote = pd.read_csv(\"federalelections2020.csv\")\n",
    "popular_vote.head()"
   ]
  },
  {
   "cell_type": "markdown",
   "id": "0716baf5",
   "metadata": {},
   "source": [
    "## Hypothesis Testing\n",
    "\n",
    "*Likely just going to focus on either the 2020 presidential election because the FEC data for Trump's 2024 campaign is unclean, scattered, and not even on the main page as it was in previous elections.*\n",
    "\n",
    "Electoral college and popular vote numbers by state: https://www.fec.gov/resources/cms-content/documents/2024presgeresults.pdf\n",
    "\n",
    "**ideas**\n",
    "- how does median age correlate with funding/spending\n",
    "- how does population density correlate spending / voter turnout\n",
    "- how does median income correlate with chosen candidate"
   ]
  },
  {
   "cell_type": "markdown",
   "id": "e2f168c5",
   "metadata": {},
   "source": [
    "### Median Age and Spending\n",
    "*How does median age correlate with campaign spending?* \\\n",
    "*Do campaigns spend more on states/areas with a lower median age?*"
   ]
  },
  {
   "cell_type": "code",
   "execution_count": null,
   "id": "992fd049",
   "metadata": {},
   "outputs": [],
   "source": []
  },
  {
   "cell_type": "markdown",
   "id": "357f29af",
   "metadata": {},
   "source": [
    "### Population Density and Voter Turnout\n",
    "*How does population density correlate with voter turnout?* \\\n",
    "*Do denser areas have more engaged voters?*"
   ]
  },
  {
   "cell_type": "code",
   "execution_count": 7,
   "id": "dc4113f3",
   "metadata": {},
   "outputs": [],
   "source": [
    "# the graph could be a dot plot where the x-axis is population density and the y-axis is voter turnout as a percentage of voting population\n",
    "# (or maybe just percentage of overall population to make things easier)\n",
    "# with an autogenerated line of best fit\n",
    "# and then have the size of each dot scale with population size\n"
   ]
  },
  {
   "cell_type": "markdown",
   "id": "b2d9532f",
   "metadata": {},
   "source": [
    "### Median Income and Funding/Spending\n",
    "*Do wealthier states contribute disproportionately more to campaigns?*\n",
    "*Do poorer states receive more campaign spending?*"
   ]
  },
  {
   "cell_type": "markdown",
   "id": "fe3e1d0a",
   "metadata": {},
   "source": []
  },
  {
   "cell_type": "code",
   "execution_count": 8,
   "id": "219749e5",
   "metadata": {},
   "outputs": [],
   "source": [
    "# if we choose to compare all three, it could be x-axis income, y-axis spending, and dot color candidate"
   ]
  },
  {
   "cell_type": "markdown",
   "id": "c7c3946f",
   "metadata": {},
   "source": [
    "### Campaign Spending and Chosen Candidate\n",
    "*Does increased spending always lead to more votes?*"
   ]
  },
  {
   "cell_type": "code",
   "execution_count": null,
   "id": "f164a6b5",
   "metadata": {},
   "outputs": [],
   "source": []
  }
 ],
 "metadata": {
  "kernelspec": {
   "display_name": "Python 3",
   "language": "python",
   "name": "python3"
  },
  "language_info": {
   "codemirror_mode": {
    "name": "ipython",
    "version": 3
   },
   "file_extension": ".py",
   "mimetype": "text/x-python",
   "name": "python",
   "nbconvert_exporter": "python",
   "pygments_lexer": "ipython3",
   "version": "3.10.12"
  }
 },
 "nbformat": 4,
 "nbformat_minor": 5
}
