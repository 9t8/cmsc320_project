{
 "cells": [
  {
   "cell_type": "markdown",
   "id": "e2c8fb04",
   "metadata": {},
   "source": [
    "# CMSC320: Checkpoint 2\n",
    "Tyshon Brown, David Li, Zile Liu, and Samuel Opoku-Agyemang\n"
   ]
  },
  {
   "cell_type": "markdown",
   "id": "ddf59035",
   "metadata": {},
   "source": [
    "## Data Pre-Processing"
   ]
  },
  {
   "cell_type": "markdown",
   "id": "a0314882",
   "metadata": {},
   "source": [
    "### Imports"
   ]
  },
  {
   "cell_type": "code",
   "execution_count": 13,
   "id": "1e35aa1e",
   "metadata": {},
   "outputs": [],
   "source": [
    "import pandas as pd\n",
    "import numpy as np\n",
    "\n",
    "import json\n",
    "\n",
    "from census import Census\n",
    "from us import states\n",
    "\n",
    "from IPython.display import display\n",
    "import matplotlib.pyplot as plt\n",
    "import seaborn as sns\n",
    "sns.set_theme()\n",
    "\n",
    "# sam's API key: 23c580dcbb047d99e93502f60681fc6430f2fc9a\n",
    "c = Census(\"23c580dcbb047d99e93502f60681fc6430f2fc9a\", year = 2020)\n"
   ]
  },
  {
   "cell_type": "markdown",
   "id": "e68852f6",
   "metadata": {},
   "source": [
    "### Population Density"
   ]
  },
  {
   "cell_type": "code",
   "execution_count": 14,
   "id": "0924985c",
   "metadata": {},
   "outputs": [
    {
     "data": {
      "application/vnd.microsoft.datawrangler.viewer.v0+json": {
       "columns": [
        {
         "name": "index",
         "rawType": "int64",
         "type": "integer"
        },
        {
         "name": "Name",
         "rawType": "object",
         "type": "string"
        },
        {
         "name": "Resident Population Density",
         "rawType": "object",
         "type": "string"
        }
       ],
       "ref": "3fc3bd06-7e95-455b-a0f7-bd4342961d29",
       "rows": [
        [
         "0",
         "Alabama",
         "99.2"
        ],
        [
         "1",
         "Alaska",
         "1.3"
        ],
        [
         "2",
         "Arizona",
         "62.9"
        ],
        [
         "3",
         "Arkansas",
         "57.9"
        ],
        [
         "4",
         "California",
         "253.7"
        ]
       ],
       "shape": {
        "columns": 2,
        "rows": 5
       }
      },
      "text/html": [
       "<div>\n",
       "<style scoped>\n",
       "    .dataframe tbody tr th:only-of-type {\n",
       "        vertical-align: middle;\n",
       "    }\n",
       "\n",
       "    .dataframe tbody tr th {\n",
       "        vertical-align: top;\n",
       "    }\n",
       "\n",
       "    .dataframe thead th {\n",
       "        text-align: right;\n",
       "    }\n",
       "</style>\n",
       "<table border=\"1\" class=\"dataframe\">\n",
       "  <thead>\n",
       "    <tr style=\"text-align: right;\">\n",
       "      <th></th>\n",
       "      <th>Name</th>\n",
       "      <th>Resident Population Density</th>\n",
       "    </tr>\n",
       "  </thead>\n",
       "  <tbody>\n",
       "    <tr>\n",
       "      <th>0</th>\n",
       "      <td>Alabama</td>\n",
       "      <td>99.2</td>\n",
       "    </tr>\n",
       "    <tr>\n",
       "      <th>1</th>\n",
       "      <td>Alaska</td>\n",
       "      <td>1.3</td>\n",
       "    </tr>\n",
       "    <tr>\n",
       "      <th>2</th>\n",
       "      <td>Arizona</td>\n",
       "      <td>62.9</td>\n",
       "    </tr>\n",
       "    <tr>\n",
       "      <th>3</th>\n",
       "      <td>Arkansas</td>\n",
       "      <td>57.9</td>\n",
       "    </tr>\n",
       "    <tr>\n",
       "      <th>4</th>\n",
       "      <td>California</td>\n",
       "      <td>253.7</td>\n",
       "    </tr>\n",
       "  </tbody>\n",
       "</table>\n",
       "</div>"
      ],
      "text/plain": [
       "         Name Resident Population Density\n",
       "0     Alabama                        99.2\n",
       "1      Alaska                         1.3\n",
       "2     Arizona                        62.9\n",
       "3    Arkansas                        57.9\n",
       "4  California                       253.7"
      ]
     },
     "execution_count": 14,
     "metadata": {},
     "output_type": "execute_result"
    }
   ],
   "source": [
    "# https://www.census.gov/data/tables/time-series/dec/density-data-text.html\n",
    "# renamed from \"apportionment.csv\"\n",
    "pop_density = pd.read_csv(\"population_density.csv\")\n",
    "pop_density = pop_density[['Name', 'Geography Type', 'Year', 'Resident Population Density']]\n",
    "pop_density = pop_density[(pop_density['Year'] == 2020) & (pop_density['Geography Type'] == \"State\")]\n",
    "pop_density = pop_density[['Name', 'Resident Population Density']].reset_index(drop = True)\n",
    "\n",
    "# 52 datapoints because DC and Puerto Rico count as states\n",
    "pop_density.head()"
   ]
  },
  {
   "cell_type": "markdown",
   "id": "9cc557ef",
   "metadata": {},
   "source": [
    "### Median Age"
   ]
  },
  {
   "cell_type": "code",
   "execution_count": 15,
   "id": "1dc1c644",
   "metadata": {},
   "outputs": [
    {
     "data": {
      "application/vnd.microsoft.datawrangler.viewer.v0+json": {
       "columns": [
        {
         "name": "index",
         "rawType": "int64",
         "type": "integer"
        },
        {
         "name": "Name",
         "rawType": "object",
         "type": "string"
        },
        {
         "name": "Median Age",
         "rawType": "float64",
         "type": "float"
        }
       ],
       "ref": "b9b54351-7128-447e-9052-f2a0b503fe5f",
       "rows": [
        [
         "0",
         "Alabama",
         "39.2"
        ],
        [
         "1",
         "Alaska",
         "34.6"
        ],
        [
         "2",
         "Arizona",
         "37.9"
        ],
        [
         "3",
         "Arkansas",
         "38.3"
        ],
        [
         "4",
         "California",
         "36.7"
        ],
        [
         "5",
         "Colorado",
         "36.9"
        ],
        [
         "6",
         "Connecticut",
         "41.1"
        ],
        [
         "7",
         "Delaware",
         "41.0"
        ],
        [
         "8",
         "District of Columbia",
         "34.1"
        ],
        [
         "9",
         "Florida",
         "42.2"
        ],
        [
         "10",
         "Georgia",
         "36.9"
        ],
        [
         "11",
         "Hawaii",
         "39.4"
        ],
        [
         "12",
         "Idaho",
         "36.6"
        ],
        [
         "13",
         "Illinois",
         "38.3"
        ],
        [
         "14",
         "Indiana",
         "37.8"
        ],
        [
         "15",
         "Iowa",
         "38.3"
        ],
        [
         "16",
         "Kansas",
         "36.9"
        ],
        [
         "17",
         "Kentucky",
         "39.0"
        ],
        [
         "18",
         "Louisiana",
         "37.2"
        ],
        [
         "19",
         "Maine",
         "44.8"
        ],
        [
         "20",
         "Maryland",
         "38.8"
        ],
        [
         "21",
         "Massachusetts",
         "39.6"
        ],
        [
         "22",
         "Michigan",
         "39.8"
        ],
        [
         "23",
         "Minnesota",
         "38.1"
        ],
        [
         "24",
         "Mississippi",
         "37.7"
        ],
        [
         "25",
         "Missouri",
         "38.7"
        ],
        [
         "26",
         "Montana",
         "40.1"
        ],
        [
         "27",
         "Nebraska",
         "36.6"
        ],
        [
         "28",
         "Nevada",
         "38.2"
        ],
        [
         "29",
         "New Hampshire",
         "43.0"
        ],
        [
         "30",
         "New Jersey",
         "40.0"
        ],
        [
         "31",
         "New Mexico",
         "38.1"
        ],
        [
         "32",
         "New York",
         "39.0"
        ],
        [
         "33",
         "North Carolina",
         "38.9"
        ],
        [
         "34",
         "North Dakota",
         "35.2"
        ],
        [
         "35",
         "Ohio",
         "39.5"
        ],
        [
         "36",
         "Oklahoma",
         "36.7"
        ],
        [
         "37",
         "Oregon",
         "39.5"
        ],
        [
         "38",
         "Pennsylvania",
         "40.9"
        ],
        [
         "39",
         "Puerto Rico",
         "42.4"
        ],
        [
         "40",
         "Rhode Island",
         "40.0"
        ],
        [
         "41",
         "South Carolina",
         "39.7"
        ],
        [
         "42",
         "South Dakota",
         "37.2"
        ],
        [
         "43",
         "Tennessee",
         "38.8"
        ],
        [
         "44",
         "Texas",
         "34.8"
        ],
        [
         "45",
         "Utah",
         "31.1"
        ],
        [
         "46",
         "Vermont",
         "42.8"
        ],
        [
         "47",
         "Virginia",
         "38.4"
        ],
        [
         "48",
         "Washington",
         "37.8"
        ],
        [
         "49",
         "West Virginia",
         "42.7"
        ]
       ],
       "shape": {
        "columns": 2,
        "rows": 52
       }
      },
      "text/html": [
       "<div>\n",
       "<style scoped>\n",
       "    .dataframe tbody tr th:only-of-type {\n",
       "        vertical-align: middle;\n",
       "    }\n",
       "\n",
       "    .dataframe tbody tr th {\n",
       "        vertical-align: top;\n",
       "    }\n",
       "\n",
       "    .dataframe thead th {\n",
       "        text-align: right;\n",
       "    }\n",
       "</style>\n",
       "<table border=\"1\" class=\"dataframe\">\n",
       "  <thead>\n",
       "    <tr style=\"text-align: right;\">\n",
       "      <th></th>\n",
       "      <th>Name</th>\n",
       "      <th>Median Age</th>\n",
       "    </tr>\n",
       "  </thead>\n",
       "  <tbody>\n",
       "    <tr>\n",
       "      <th>0</th>\n",
       "      <td>Alabama</td>\n",
       "      <td>39.2</td>\n",
       "    </tr>\n",
       "    <tr>\n",
       "      <th>1</th>\n",
       "      <td>Alaska</td>\n",
       "      <td>34.6</td>\n",
       "    </tr>\n",
       "    <tr>\n",
       "      <th>2</th>\n",
       "      <td>Arizona</td>\n",
       "      <td>37.9</td>\n",
       "    </tr>\n",
       "    <tr>\n",
       "      <th>3</th>\n",
       "      <td>Arkansas</td>\n",
       "      <td>38.3</td>\n",
       "    </tr>\n",
       "    <tr>\n",
       "      <th>4</th>\n",
       "      <td>California</td>\n",
       "      <td>36.7</td>\n",
       "    </tr>\n",
       "    <tr>\n",
       "      <th>5</th>\n",
       "      <td>Colorado</td>\n",
       "      <td>36.9</td>\n",
       "    </tr>\n",
       "    <tr>\n",
       "      <th>6</th>\n",
       "      <td>Connecticut</td>\n",
       "      <td>41.1</td>\n",
       "    </tr>\n",
       "    <tr>\n",
       "      <th>7</th>\n",
       "      <td>Delaware</td>\n",
       "      <td>41.0</td>\n",
       "    </tr>\n",
       "    <tr>\n",
       "      <th>8</th>\n",
       "      <td>District of Columbia</td>\n",
       "      <td>34.1</td>\n",
       "    </tr>\n",
       "    <tr>\n",
       "      <th>9</th>\n",
       "      <td>Florida</td>\n",
       "      <td>42.2</td>\n",
       "    </tr>\n",
       "    <tr>\n",
       "      <th>10</th>\n",
       "      <td>Georgia</td>\n",
       "      <td>36.9</td>\n",
       "    </tr>\n",
       "    <tr>\n",
       "      <th>11</th>\n",
       "      <td>Hawaii</td>\n",
       "      <td>39.4</td>\n",
       "    </tr>\n",
       "    <tr>\n",
       "      <th>12</th>\n",
       "      <td>Idaho</td>\n",
       "      <td>36.6</td>\n",
       "    </tr>\n",
       "    <tr>\n",
       "      <th>13</th>\n",
       "      <td>Illinois</td>\n",
       "      <td>38.3</td>\n",
       "    </tr>\n",
       "    <tr>\n",
       "      <th>14</th>\n",
       "      <td>Indiana</td>\n",
       "      <td>37.8</td>\n",
       "    </tr>\n",
       "    <tr>\n",
       "      <th>15</th>\n",
       "      <td>Iowa</td>\n",
       "      <td>38.3</td>\n",
       "    </tr>\n",
       "    <tr>\n",
       "      <th>16</th>\n",
       "      <td>Kansas</td>\n",
       "      <td>36.9</td>\n",
       "    </tr>\n",
       "    <tr>\n",
       "      <th>17</th>\n",
       "      <td>Kentucky</td>\n",
       "      <td>39.0</td>\n",
       "    </tr>\n",
       "    <tr>\n",
       "      <th>18</th>\n",
       "      <td>Louisiana</td>\n",
       "      <td>37.2</td>\n",
       "    </tr>\n",
       "    <tr>\n",
       "      <th>19</th>\n",
       "      <td>Maine</td>\n",
       "      <td>44.8</td>\n",
       "    </tr>\n",
       "    <tr>\n",
       "      <th>20</th>\n",
       "      <td>Maryland</td>\n",
       "      <td>38.8</td>\n",
       "    </tr>\n",
       "    <tr>\n",
       "      <th>21</th>\n",
       "      <td>Massachusetts</td>\n",
       "      <td>39.6</td>\n",
       "    </tr>\n",
       "    <tr>\n",
       "      <th>22</th>\n",
       "      <td>Michigan</td>\n",
       "      <td>39.8</td>\n",
       "    </tr>\n",
       "    <tr>\n",
       "      <th>23</th>\n",
       "      <td>Minnesota</td>\n",
       "      <td>38.1</td>\n",
       "    </tr>\n",
       "    <tr>\n",
       "      <th>24</th>\n",
       "      <td>Mississippi</td>\n",
       "      <td>37.7</td>\n",
       "    </tr>\n",
       "    <tr>\n",
       "      <th>25</th>\n",
       "      <td>Missouri</td>\n",
       "      <td>38.7</td>\n",
       "    </tr>\n",
       "    <tr>\n",
       "      <th>26</th>\n",
       "      <td>Montana</td>\n",
       "      <td>40.1</td>\n",
       "    </tr>\n",
       "    <tr>\n",
       "      <th>27</th>\n",
       "      <td>Nebraska</td>\n",
       "      <td>36.6</td>\n",
       "    </tr>\n",
       "    <tr>\n",
       "      <th>28</th>\n",
       "      <td>Nevada</td>\n",
       "      <td>38.2</td>\n",
       "    </tr>\n",
       "    <tr>\n",
       "      <th>29</th>\n",
       "      <td>New Hampshire</td>\n",
       "      <td>43.0</td>\n",
       "    </tr>\n",
       "    <tr>\n",
       "      <th>30</th>\n",
       "      <td>New Jersey</td>\n",
       "      <td>40.0</td>\n",
       "    </tr>\n",
       "    <tr>\n",
       "      <th>31</th>\n",
       "      <td>New Mexico</td>\n",
       "      <td>38.1</td>\n",
       "    </tr>\n",
       "    <tr>\n",
       "      <th>32</th>\n",
       "      <td>New York</td>\n",
       "      <td>39.0</td>\n",
       "    </tr>\n",
       "    <tr>\n",
       "      <th>33</th>\n",
       "      <td>North Carolina</td>\n",
       "      <td>38.9</td>\n",
       "    </tr>\n",
       "    <tr>\n",
       "      <th>34</th>\n",
       "      <td>North Dakota</td>\n",
       "      <td>35.2</td>\n",
       "    </tr>\n",
       "    <tr>\n",
       "      <th>35</th>\n",
       "      <td>Ohio</td>\n",
       "      <td>39.5</td>\n",
       "    </tr>\n",
       "    <tr>\n",
       "      <th>36</th>\n",
       "      <td>Oklahoma</td>\n",
       "      <td>36.7</td>\n",
       "    </tr>\n",
       "    <tr>\n",
       "      <th>37</th>\n",
       "      <td>Oregon</td>\n",
       "      <td>39.5</td>\n",
       "    </tr>\n",
       "    <tr>\n",
       "      <th>38</th>\n",
       "      <td>Pennsylvania</td>\n",
       "      <td>40.9</td>\n",
       "    </tr>\n",
       "    <tr>\n",
       "      <th>39</th>\n",
       "      <td>Puerto Rico</td>\n",
       "      <td>42.4</td>\n",
       "    </tr>\n",
       "    <tr>\n",
       "      <th>40</th>\n",
       "      <td>Rhode Island</td>\n",
       "      <td>40.0</td>\n",
       "    </tr>\n",
       "    <tr>\n",
       "      <th>41</th>\n",
       "      <td>South Carolina</td>\n",
       "      <td>39.7</td>\n",
       "    </tr>\n",
       "    <tr>\n",
       "      <th>42</th>\n",
       "      <td>South Dakota</td>\n",
       "      <td>37.2</td>\n",
       "    </tr>\n",
       "    <tr>\n",
       "      <th>43</th>\n",
       "      <td>Tennessee</td>\n",
       "      <td>38.8</td>\n",
       "    </tr>\n",
       "    <tr>\n",
       "      <th>44</th>\n",
       "      <td>Texas</td>\n",
       "      <td>34.8</td>\n",
       "    </tr>\n",
       "    <tr>\n",
       "      <th>45</th>\n",
       "      <td>Utah</td>\n",
       "      <td>31.1</td>\n",
       "    </tr>\n",
       "    <tr>\n",
       "      <th>46</th>\n",
       "      <td>Vermont</td>\n",
       "      <td>42.8</td>\n",
       "    </tr>\n",
       "    <tr>\n",
       "      <th>47</th>\n",
       "      <td>Virginia</td>\n",
       "      <td>38.4</td>\n",
       "    </tr>\n",
       "    <tr>\n",
       "      <th>48</th>\n",
       "      <td>Washington</td>\n",
       "      <td>37.8</td>\n",
       "    </tr>\n",
       "    <tr>\n",
       "      <th>49</th>\n",
       "      <td>West Virginia</td>\n",
       "      <td>42.7</td>\n",
       "    </tr>\n",
       "    <tr>\n",
       "      <th>50</th>\n",
       "      <td>Wisconsin</td>\n",
       "      <td>39.6</td>\n",
       "    </tr>\n",
       "    <tr>\n",
       "      <th>51</th>\n",
       "      <td>Wyoming</td>\n",
       "      <td>38.0</td>\n",
       "    </tr>\n",
       "  </tbody>\n",
       "</table>\n",
       "</div>"
      ],
      "text/plain": [
       "                    Name  Median Age\n",
       "0                Alabama        39.2\n",
       "1                 Alaska        34.6\n",
       "2                Arizona        37.9\n",
       "3               Arkansas        38.3\n",
       "4             California        36.7\n",
       "5               Colorado        36.9\n",
       "6            Connecticut        41.1\n",
       "7               Delaware        41.0\n",
       "8   District of Columbia        34.1\n",
       "9                Florida        42.2\n",
       "10               Georgia        36.9\n",
       "11                Hawaii        39.4\n",
       "12                 Idaho        36.6\n",
       "13              Illinois        38.3\n",
       "14               Indiana        37.8\n",
       "15                  Iowa        38.3\n",
       "16                Kansas        36.9\n",
       "17              Kentucky        39.0\n",
       "18             Louisiana        37.2\n",
       "19                 Maine        44.8\n",
       "20              Maryland        38.8\n",
       "21         Massachusetts        39.6\n",
       "22              Michigan        39.8\n",
       "23             Minnesota        38.1\n",
       "24           Mississippi        37.7\n",
       "25              Missouri        38.7\n",
       "26               Montana        40.1\n",
       "27              Nebraska        36.6\n",
       "28                Nevada        38.2\n",
       "29         New Hampshire        43.0\n",
       "30            New Jersey        40.0\n",
       "31            New Mexico        38.1\n",
       "32              New York        39.0\n",
       "33        North Carolina        38.9\n",
       "34          North Dakota        35.2\n",
       "35                  Ohio        39.5\n",
       "36              Oklahoma        36.7\n",
       "37                Oregon        39.5\n",
       "38          Pennsylvania        40.9\n",
       "39           Puerto Rico        42.4\n",
       "40          Rhode Island        40.0\n",
       "41        South Carolina        39.7\n",
       "42          South Dakota        37.2\n",
       "43             Tennessee        38.8\n",
       "44                 Texas        34.8\n",
       "45                  Utah        31.1\n",
       "46               Vermont        42.8\n",
       "47              Virginia        38.4\n",
       "48            Washington        37.8\n",
       "49         West Virginia        42.7\n",
       "50             Wisconsin        39.6\n",
       "51               Wyoming        38.0"
      ]
     },
     "execution_count": 15,
     "metadata": {},
     "output_type": "execute_result"
    }
   ],
   "source": [
    "median_age_dictionary = c.acs5.state(('NAME', 'B01002_001E'), Census.ALL)\n",
    "median_age = pd.DataFrame.from_dict(median_age_dictionary).rename(columns = {'NAME' : 'Name', 'B01002_001E' : 'Median Age'})\n",
    "median_age = median_age[['Name', 'Median Age']].sort_values(by = ['Name']).reset_index(drop = True)\n",
    "median_age\n"
   ]
  },
  {
   "cell_type": "markdown",
   "id": "24799ec7",
   "metadata": {},
   "source": [
    "### Median Income"
   ]
  },
  {
   "cell_type": "code",
   "execution_count": 16,
   "id": "6576cafe",
   "metadata": {},
   "outputs": [
    {
     "data": {
      "application/vnd.microsoft.datawrangler.viewer.v0+json": {
       "columns": [
        {
         "name": "index",
         "rawType": "int64",
         "type": "integer"
        },
        {
         "name": "Name",
         "rawType": "object",
         "type": "string"
        },
        {
         "name": "Median Household Income",
         "rawType": "float64",
         "type": "float"
        }
       ],
       "ref": "1ff6eb03-e532-46f3-9fa0-5cd8a8370a4d",
       "rows": [
        [
         "0",
         "Alabama",
         "52035.0"
        ],
        [
         "1",
         "Alaska",
         "77790.0"
        ],
        [
         "2",
         "Arizona",
         "61529.0"
        ],
        [
         "3",
         "Arkansas",
         "49475.0"
        ],
        [
         "4",
         "California",
         "78672.0"
        ],
        [
         "5",
         "Colorado",
         "75231.0"
        ],
        [
         "6",
         "Connecticut",
         "79855.0"
        ],
        [
         "7",
         "Delaware",
         "69110.0"
        ],
        [
         "8",
         "District of Columbia",
         "90842.0"
        ],
        [
         "9",
         "Florida",
         "57703.0"
        ],
        [
         "10",
         "Georgia",
         "61224.0"
        ],
        [
         "11",
         "Hawaii",
         "83173.0"
        ],
        [
         "12",
         "Idaho",
         "58915.0"
        ],
        [
         "13",
         "Illinois",
         "68428.0"
        ],
        [
         "14",
         "Indiana",
         "58235.0"
        ],
        [
         "15",
         "Iowa",
         "61836.0"
        ],
        [
         "16",
         "Kansas",
         "61091.0"
        ],
        [
         "17",
         "Kentucky",
         "52238.0"
        ],
        [
         "18",
         "Louisiana",
         "50800.0"
        ],
        [
         "19",
         "Maine",
         "59489.0"
        ],
        [
         "20",
         "Maryland",
         "87063.0"
        ],
        [
         "21",
         "Massachusetts",
         "84385.0"
        ],
        [
         "22",
         "Michigan",
         "59234.0"
        ],
        [
         "23",
         "Minnesota",
         "73382.0"
        ],
        [
         "24",
         "Mississippi",
         "46511.0"
        ],
        [
         "25",
         "Missouri",
         "57290.0"
        ],
        [
         "26",
         "Montana",
         "56539.0"
        ],
        [
         "27",
         "Nebraska",
         "63015.0"
        ],
        [
         "28",
         "Nevada",
         "62043.0"
        ],
        [
         "29",
         "New Hampshire",
         "77923.0"
        ],
        [
         "30",
         "New Jersey",
         "85245.0"
        ],
        [
         "31",
         "New Mexico",
         "51243.0"
        ],
        [
         "32",
         "New York",
         "71117.0"
        ],
        [
         "33",
         "North Carolina",
         "56642.0"
        ],
        [
         "34",
         "North Dakota",
         "65315.0"
        ],
        [
         "35",
         "Ohio",
         "58116.0"
        ],
        [
         "36",
         "Oklahoma",
         "53840.0"
        ],
        [
         "37",
         "Oregon",
         "65667.0"
        ],
        [
         "38",
         "Pennsylvania",
         "63627.0"
        ],
        [
         "39",
         "Puerto Rico",
         "21058.0"
        ],
        [
         "40",
         "Rhode Island",
         "70305.0"
        ],
        [
         "41",
         "South Carolina",
         "54864.0"
        ],
        [
         "42",
         "South Dakota",
         "59896.0"
        ],
        [
         "43",
         "Tennessee",
         "54833.0"
        ],
        [
         "44",
         "Texas",
         "63826.0"
        ],
        [
         "45",
         "Utah",
         "74197.0"
        ],
        [
         "46",
         "Vermont",
         "63477.0"
        ],
        [
         "47",
         "Virginia",
         "76398.0"
        ],
        [
         "48",
         "Washington",
         "77006.0"
        ],
        [
         "49",
         "West Virginia",
         "48037.0"
        ]
       ],
       "shape": {
        "columns": 2,
        "rows": 52
       }
      },
      "text/html": [
       "<div>\n",
       "<style scoped>\n",
       "    .dataframe tbody tr th:only-of-type {\n",
       "        vertical-align: middle;\n",
       "    }\n",
       "\n",
       "    .dataframe tbody tr th {\n",
       "        vertical-align: top;\n",
       "    }\n",
       "\n",
       "    .dataframe thead th {\n",
       "        text-align: right;\n",
       "    }\n",
       "</style>\n",
       "<table border=\"1\" class=\"dataframe\">\n",
       "  <thead>\n",
       "    <tr style=\"text-align: right;\">\n",
       "      <th></th>\n",
       "      <th>Name</th>\n",
       "      <th>Median Household Income</th>\n",
       "    </tr>\n",
       "  </thead>\n",
       "  <tbody>\n",
       "    <tr>\n",
       "      <th>0</th>\n",
       "      <td>Alabama</td>\n",
       "      <td>52035.0</td>\n",
       "    </tr>\n",
       "    <tr>\n",
       "      <th>1</th>\n",
       "      <td>Alaska</td>\n",
       "      <td>77790.0</td>\n",
       "    </tr>\n",
       "    <tr>\n",
       "      <th>2</th>\n",
       "      <td>Arizona</td>\n",
       "      <td>61529.0</td>\n",
       "    </tr>\n",
       "    <tr>\n",
       "      <th>3</th>\n",
       "      <td>Arkansas</td>\n",
       "      <td>49475.0</td>\n",
       "    </tr>\n",
       "    <tr>\n",
       "      <th>4</th>\n",
       "      <td>California</td>\n",
       "      <td>78672.0</td>\n",
       "    </tr>\n",
       "    <tr>\n",
       "      <th>5</th>\n",
       "      <td>Colorado</td>\n",
       "      <td>75231.0</td>\n",
       "    </tr>\n",
       "    <tr>\n",
       "      <th>6</th>\n",
       "      <td>Connecticut</td>\n",
       "      <td>79855.0</td>\n",
       "    </tr>\n",
       "    <tr>\n",
       "      <th>7</th>\n",
       "      <td>Delaware</td>\n",
       "      <td>69110.0</td>\n",
       "    </tr>\n",
       "    <tr>\n",
       "      <th>8</th>\n",
       "      <td>District of Columbia</td>\n",
       "      <td>90842.0</td>\n",
       "    </tr>\n",
       "    <tr>\n",
       "      <th>9</th>\n",
       "      <td>Florida</td>\n",
       "      <td>57703.0</td>\n",
       "    </tr>\n",
       "    <tr>\n",
       "      <th>10</th>\n",
       "      <td>Georgia</td>\n",
       "      <td>61224.0</td>\n",
       "    </tr>\n",
       "    <tr>\n",
       "      <th>11</th>\n",
       "      <td>Hawaii</td>\n",
       "      <td>83173.0</td>\n",
       "    </tr>\n",
       "    <tr>\n",
       "      <th>12</th>\n",
       "      <td>Idaho</td>\n",
       "      <td>58915.0</td>\n",
       "    </tr>\n",
       "    <tr>\n",
       "      <th>13</th>\n",
       "      <td>Illinois</td>\n",
       "      <td>68428.0</td>\n",
       "    </tr>\n",
       "    <tr>\n",
       "      <th>14</th>\n",
       "      <td>Indiana</td>\n",
       "      <td>58235.0</td>\n",
       "    </tr>\n",
       "    <tr>\n",
       "      <th>15</th>\n",
       "      <td>Iowa</td>\n",
       "      <td>61836.0</td>\n",
       "    </tr>\n",
       "    <tr>\n",
       "      <th>16</th>\n",
       "      <td>Kansas</td>\n",
       "      <td>61091.0</td>\n",
       "    </tr>\n",
       "    <tr>\n",
       "      <th>17</th>\n",
       "      <td>Kentucky</td>\n",
       "      <td>52238.0</td>\n",
       "    </tr>\n",
       "    <tr>\n",
       "      <th>18</th>\n",
       "      <td>Louisiana</td>\n",
       "      <td>50800.0</td>\n",
       "    </tr>\n",
       "    <tr>\n",
       "      <th>19</th>\n",
       "      <td>Maine</td>\n",
       "      <td>59489.0</td>\n",
       "    </tr>\n",
       "    <tr>\n",
       "      <th>20</th>\n",
       "      <td>Maryland</td>\n",
       "      <td>87063.0</td>\n",
       "    </tr>\n",
       "    <tr>\n",
       "      <th>21</th>\n",
       "      <td>Massachusetts</td>\n",
       "      <td>84385.0</td>\n",
       "    </tr>\n",
       "    <tr>\n",
       "      <th>22</th>\n",
       "      <td>Michigan</td>\n",
       "      <td>59234.0</td>\n",
       "    </tr>\n",
       "    <tr>\n",
       "      <th>23</th>\n",
       "      <td>Minnesota</td>\n",
       "      <td>73382.0</td>\n",
       "    </tr>\n",
       "    <tr>\n",
       "      <th>24</th>\n",
       "      <td>Mississippi</td>\n",
       "      <td>46511.0</td>\n",
       "    </tr>\n",
       "    <tr>\n",
       "      <th>25</th>\n",
       "      <td>Missouri</td>\n",
       "      <td>57290.0</td>\n",
       "    </tr>\n",
       "    <tr>\n",
       "      <th>26</th>\n",
       "      <td>Montana</td>\n",
       "      <td>56539.0</td>\n",
       "    </tr>\n",
       "    <tr>\n",
       "      <th>27</th>\n",
       "      <td>Nebraska</td>\n",
       "      <td>63015.0</td>\n",
       "    </tr>\n",
       "    <tr>\n",
       "      <th>28</th>\n",
       "      <td>Nevada</td>\n",
       "      <td>62043.0</td>\n",
       "    </tr>\n",
       "    <tr>\n",
       "      <th>29</th>\n",
       "      <td>New Hampshire</td>\n",
       "      <td>77923.0</td>\n",
       "    </tr>\n",
       "    <tr>\n",
       "      <th>30</th>\n",
       "      <td>New Jersey</td>\n",
       "      <td>85245.0</td>\n",
       "    </tr>\n",
       "    <tr>\n",
       "      <th>31</th>\n",
       "      <td>New Mexico</td>\n",
       "      <td>51243.0</td>\n",
       "    </tr>\n",
       "    <tr>\n",
       "      <th>32</th>\n",
       "      <td>New York</td>\n",
       "      <td>71117.0</td>\n",
       "    </tr>\n",
       "    <tr>\n",
       "      <th>33</th>\n",
       "      <td>North Carolina</td>\n",
       "      <td>56642.0</td>\n",
       "    </tr>\n",
       "    <tr>\n",
       "      <th>34</th>\n",
       "      <td>North Dakota</td>\n",
       "      <td>65315.0</td>\n",
       "    </tr>\n",
       "    <tr>\n",
       "      <th>35</th>\n",
       "      <td>Ohio</td>\n",
       "      <td>58116.0</td>\n",
       "    </tr>\n",
       "    <tr>\n",
       "      <th>36</th>\n",
       "      <td>Oklahoma</td>\n",
       "      <td>53840.0</td>\n",
       "    </tr>\n",
       "    <tr>\n",
       "      <th>37</th>\n",
       "      <td>Oregon</td>\n",
       "      <td>65667.0</td>\n",
       "    </tr>\n",
       "    <tr>\n",
       "      <th>38</th>\n",
       "      <td>Pennsylvania</td>\n",
       "      <td>63627.0</td>\n",
       "    </tr>\n",
       "    <tr>\n",
       "      <th>39</th>\n",
       "      <td>Puerto Rico</td>\n",
       "      <td>21058.0</td>\n",
       "    </tr>\n",
       "    <tr>\n",
       "      <th>40</th>\n",
       "      <td>Rhode Island</td>\n",
       "      <td>70305.0</td>\n",
       "    </tr>\n",
       "    <tr>\n",
       "      <th>41</th>\n",
       "      <td>South Carolina</td>\n",
       "      <td>54864.0</td>\n",
       "    </tr>\n",
       "    <tr>\n",
       "      <th>42</th>\n",
       "      <td>South Dakota</td>\n",
       "      <td>59896.0</td>\n",
       "    </tr>\n",
       "    <tr>\n",
       "      <th>43</th>\n",
       "      <td>Tennessee</td>\n",
       "      <td>54833.0</td>\n",
       "    </tr>\n",
       "    <tr>\n",
       "      <th>44</th>\n",
       "      <td>Texas</td>\n",
       "      <td>63826.0</td>\n",
       "    </tr>\n",
       "    <tr>\n",
       "      <th>45</th>\n",
       "      <td>Utah</td>\n",
       "      <td>74197.0</td>\n",
       "    </tr>\n",
       "    <tr>\n",
       "      <th>46</th>\n",
       "      <td>Vermont</td>\n",
       "      <td>63477.0</td>\n",
       "    </tr>\n",
       "    <tr>\n",
       "      <th>47</th>\n",
       "      <td>Virginia</td>\n",
       "      <td>76398.0</td>\n",
       "    </tr>\n",
       "    <tr>\n",
       "      <th>48</th>\n",
       "      <td>Washington</td>\n",
       "      <td>77006.0</td>\n",
       "    </tr>\n",
       "    <tr>\n",
       "      <th>49</th>\n",
       "      <td>West Virginia</td>\n",
       "      <td>48037.0</td>\n",
       "    </tr>\n",
       "    <tr>\n",
       "      <th>50</th>\n",
       "      <td>Wisconsin</td>\n",
       "      <td>63293.0</td>\n",
       "    </tr>\n",
       "    <tr>\n",
       "      <th>51</th>\n",
       "      <td>Wyoming</td>\n",
       "      <td>65304.0</td>\n",
       "    </tr>\n",
       "  </tbody>\n",
       "</table>\n",
       "</div>"
      ],
      "text/plain": [
       "                    Name  Median Household Income\n",
       "0                Alabama                  52035.0\n",
       "1                 Alaska                  77790.0\n",
       "2                Arizona                  61529.0\n",
       "3               Arkansas                  49475.0\n",
       "4             California                  78672.0\n",
       "5               Colorado                  75231.0\n",
       "6            Connecticut                  79855.0\n",
       "7               Delaware                  69110.0\n",
       "8   District of Columbia                  90842.0\n",
       "9                Florida                  57703.0\n",
       "10               Georgia                  61224.0\n",
       "11                Hawaii                  83173.0\n",
       "12                 Idaho                  58915.0\n",
       "13              Illinois                  68428.0\n",
       "14               Indiana                  58235.0\n",
       "15                  Iowa                  61836.0\n",
       "16                Kansas                  61091.0\n",
       "17              Kentucky                  52238.0\n",
       "18             Louisiana                  50800.0\n",
       "19                 Maine                  59489.0\n",
       "20              Maryland                  87063.0\n",
       "21         Massachusetts                  84385.0\n",
       "22              Michigan                  59234.0\n",
       "23             Minnesota                  73382.0\n",
       "24           Mississippi                  46511.0\n",
       "25              Missouri                  57290.0\n",
       "26               Montana                  56539.0\n",
       "27              Nebraska                  63015.0\n",
       "28                Nevada                  62043.0\n",
       "29         New Hampshire                  77923.0\n",
       "30            New Jersey                  85245.0\n",
       "31            New Mexico                  51243.0\n",
       "32              New York                  71117.0\n",
       "33        North Carolina                  56642.0\n",
       "34          North Dakota                  65315.0\n",
       "35                  Ohio                  58116.0\n",
       "36              Oklahoma                  53840.0\n",
       "37                Oregon                  65667.0\n",
       "38          Pennsylvania                  63627.0\n",
       "39           Puerto Rico                  21058.0\n",
       "40          Rhode Island                  70305.0\n",
       "41        South Carolina                  54864.0\n",
       "42          South Dakota                  59896.0\n",
       "43             Tennessee                  54833.0\n",
       "44                 Texas                  63826.0\n",
       "45                  Utah                  74197.0\n",
       "46               Vermont                  63477.0\n",
       "47              Virginia                  76398.0\n",
       "48            Washington                  77006.0\n",
       "49         West Virginia                  48037.0\n",
       "50             Wisconsin                  63293.0\n",
       "51               Wyoming                  65304.0"
      ]
     },
     "execution_count": 16,
     "metadata": {},
     "output_type": "execute_result"
    }
   ],
   "source": [
    "median_income_dictionary = c.acs5.state(('NAME', 'B19013_001E'), Census.ALL)\n",
    "median_income = pd.DataFrame.from_dict(median_income_dictionary).rename(columns = {'NAME' : 'Name', 'B19013_001E' : 'Median Household Income'})\n",
    "median_income = median_income[['Name', 'Median Household Income']].sort_values(by = ['Name']).reset_index(drop = True)\n",
    "median_income"
   ]
  },
  {
   "cell_type": "markdown",
   "id": "0716baf5",
   "metadata": {},
   "source": [
    "## Hypothesis Testing\n",
    "\n",
    "*Likely just going to focus on either the 2020 presidential election because the FEC data for Trump's 2024 campaign is unclean, scattered, and not even on the main page as it was in previous elections.*\n",
    "\n",
    "Electoral college and popular vote numbers by state: https://www.fec.gov/resources/cms-content/documents/2024presgeresults.pdf\n",
    "- how does median age correlate with funding/spending\n",
    "- how does population density correlate spending / voter turnout\n",
    "- how does median income correlate with chosen candidate"
   ]
  },
  {
   "cell_type": "markdown",
   "id": "e2f168c5",
   "metadata": {},
   "source": [
    "### Median Age and Spending\n",
    "*How does median age correlate with campaign spending?* \\\n",
    "*Do campaigns spend more on states/areas with a lower median age?*"
   ]
  },
  {
   "cell_type": "code",
   "execution_count": null,
   "id": "992fd049",
   "metadata": {},
   "outputs": [],
   "source": []
  },
  {
   "cell_type": "markdown",
   "id": "357f29af",
   "metadata": {},
   "source": [
    "### Population Density and Voter Turnout\n",
    "*How does population density correlate with voter turnout?* \\\n",
    "*Do denser areas have more engaged voters?*"
   ]
  },
  {
   "cell_type": "code",
   "execution_count": 17,
   "id": "dc4113f3",
   "metadata": {},
   "outputs": [],
   "source": [
    "# the graph could be a dot plot where the x-axis is population density and the y-axis is voter turnout as a percentage of voting population\n",
    "# (or maybe just percentage of overall population to make things easier)\n",
    "# with an autogenerated line of best fit\n",
    "# and then have the size of each dot scale with population size"
   ]
  },
  {
   "cell_type": "markdown",
   "id": "b2d9532f",
   "metadata": {},
   "source": [
    "### Median Income and Funding/Spending\n",
    "*Do wealthier states contribute disproportionately more to campaigns?*\n",
    "*Do poorer states receive more campaign spending?*"
   ]
  },
  {
   "cell_type": "code",
   "execution_count": 18,
   "id": "219749e5",
   "metadata": {},
   "outputs": [],
   "source": [
    "# if we choose to compare all three, it could be x-axis income, y-axis spending, and dot color candidate"
   ]
  },
  {
   "cell_type": "markdown",
   "id": "c7c3946f",
   "metadata": {},
   "source": [
    "### Campaign Spending and Chosen Candidate\n",
    "*Does increased spending always lead to more votes?*"
   ]
  },
  {
   "cell_type": "code",
   "execution_count": null,
   "id": "f164a6b5",
   "metadata": {},
   "outputs": [],
   "source": []
  }
 ],
 "metadata": {
  "kernelspec": {
   "display_name": "Python 3",
   "language": "python",
   "name": "python3"
  },
  "language_info": {
   "codemirror_mode": {
    "name": "ipython",
    "version": 3
   },
   "file_extension": ".py",
   "mimetype": "text/x-python",
   "name": "python",
   "nbconvert_exporter": "python",
   "pygments_lexer": "ipython3",
   "version": "3.10.12"
  }
 },
 "nbformat": 4,
 "nbformat_minor": 5
}
