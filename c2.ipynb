{
 "cells": [
  {
   "cell_type": "markdown",
   "id": "e2c8fb04",
   "metadata": {},
   "source": [
    "# CMSC320: Checkpoint 2\n",
    "Tyshon Brown, David Li, Zile Liu, and Samuel Opoku-Agyemang\n"
   ]
  },
  {
   "cell_type": "markdown",
   "id": "ddf59035",
   "metadata": {},
   "source": [
    "## Data Pre-Processing"
   ]
  },
  {
   "cell_type": "markdown",
   "id": "a0314882",
   "metadata": {},
   "source": [
    "### Imports"
   ]
  },
  {
   "cell_type": "code",
   "execution_count": 90,
   "id": "1e35aa1e",
   "metadata": {},
   "outputs": [],
   "source": [
    "import pandas as pd\n",
    "import numpy as np\n",
    "\n",
    "import json\n",
    "\n",
    "from census import Census\n",
    "from us import states\n",
    "\n",
    "from IPython.display import display\n",
    "import matplotlib.pyplot as plt\n",
    "import seaborn as sns\n",
    "sns.set_theme()\n",
    "\n",
    "# sam's API key: 23c580dcbb047d99e93502f60681fc6430f2fc9a\n",
    "c = Census(\"23c580dcbb047d99e93502f60681fc6430f2fc9a\", year = 2020)\n"
   ]
  },
  {
   "cell_type": "markdown",
   "id": "ff2f80d6",
   "metadata": {},
   "source": [
    "### Population"
   ]
  },
  {
   "cell_type": "code",
   "execution_count": 91,
   "id": "b9074edb",
   "metadata": {},
   "outputs": [
    {
     "data": {
      "text/html": [
       "<div>\n",
       "<style scoped>\n",
       "    .dataframe tbody tr th:only-of-type {\n",
       "        vertical-align: middle;\n",
       "    }\n",
       "\n",
       "    .dataframe tbody tr th {\n",
       "        vertical-align: top;\n",
       "    }\n",
       "\n",
       "    .dataframe thead th {\n",
       "        text-align: right;\n",
       "    }\n",
       "</style>\n",
       "<table border=\"1\" class=\"dataframe\">\n",
       "  <thead>\n",
       "    <tr style=\"text-align: right;\">\n",
       "      <th></th>\n",
       "      <th>Name</th>\n",
       "      <th>Population</th>\n",
       "    </tr>\n",
       "  </thead>\n",
       "  <tbody>\n",
       "    <tr>\n",
       "      <th>0</th>\n",
       "      <td>Pennsylvania</td>\n",
       "      <td>12794885</td>\n",
       "    </tr>\n",
       "    <tr>\n",
       "      <th>1</th>\n",
       "      <td>California</td>\n",
       "      <td>39346023</td>\n",
       "    </tr>\n",
       "    <tr>\n",
       "      <th>2</th>\n",
       "      <td>West Virginia</td>\n",
       "      <td>1807426</td>\n",
       "    </tr>\n",
       "    <tr>\n",
       "      <th>3</th>\n",
       "      <td>Utah</td>\n",
       "      <td>3151239</td>\n",
       "    </tr>\n",
       "    <tr>\n",
       "      <th>4</th>\n",
       "      <td>New York</td>\n",
       "      <td>19514849</td>\n",
       "    </tr>\n",
       "  </tbody>\n",
       "</table>\n",
       "</div>"
      ],
      "text/plain": [
       "            Name  Population\n",
       "0   Pennsylvania    12794885\n",
       "1     California    39346023\n",
       "2  West Virginia     1807426\n",
       "3           Utah     3151239\n",
       "4       New York    19514849"
      ]
     },
     "execution_count": 91,
     "metadata": {},
     "output_type": "execute_result"
    }
   ],
   "source": [
    "population_data = c.acs5.state(('NAME', 'B01003_001E'), Census.ALL)\n",
    "population = pd.DataFrame(population_data)\n",
    "population.rename(columns={'NAME': 'Name', 'B01003_001E': 'Population'}, inplace=True)\n",
    "population['Population'] = population['Population'].astype(int)\n",
    "\n",
    "population = population.drop('state', axis=1)\n",
    "population.head()"
   ]
  },
  {
   "cell_type": "markdown",
   "id": "e68852f6",
   "metadata": {},
   "source": [
    "### Population Density"
   ]
  },
  {
   "cell_type": "code",
   "execution_count": 93,
   "id": "0924985c",
   "metadata": {},
   "outputs": [
    {
     "data": {
      "text/html": [
       "<div>\n",
       "<style scoped>\n",
       "    .dataframe tbody tr th:only-of-type {\n",
       "        vertical-align: middle;\n",
       "    }\n",
       "\n",
       "    .dataframe tbody tr th {\n",
       "        vertical-align: top;\n",
       "    }\n",
       "\n",
       "    .dataframe thead th {\n",
       "        text-align: right;\n",
       "    }\n",
       "</style>\n",
       "<table border=\"1\" class=\"dataframe\">\n",
       "  <thead>\n",
       "    <tr style=\"text-align: right;\">\n",
       "      <th></th>\n",
       "      <th>Name</th>\n",
       "      <th>Resident Population Density</th>\n",
       "    </tr>\n",
       "  </thead>\n",
       "  <tbody>\n",
       "    <tr>\n",
       "      <th>0</th>\n",
       "      <td>Alabama</td>\n",
       "      <td>99.2</td>\n",
       "    </tr>\n",
       "    <tr>\n",
       "      <th>1</th>\n",
       "      <td>Alaska</td>\n",
       "      <td>1.3</td>\n",
       "    </tr>\n",
       "    <tr>\n",
       "      <th>2</th>\n",
       "      <td>Arizona</td>\n",
       "      <td>62.9</td>\n",
       "    </tr>\n",
       "    <tr>\n",
       "      <th>3</th>\n",
       "      <td>Arkansas</td>\n",
       "      <td>57.9</td>\n",
       "    </tr>\n",
       "    <tr>\n",
       "      <th>4</th>\n",
       "      <td>California</td>\n",
       "      <td>253.7</td>\n",
       "    </tr>\n",
       "  </tbody>\n",
       "</table>\n",
       "</div>"
      ],
      "text/plain": [
       "         Name Resident Population Density\n",
       "0     Alabama                        99.2\n",
       "1      Alaska                         1.3\n",
       "2     Arizona                        62.9\n",
       "3    Arkansas                        57.9\n",
       "4  California                       253.7"
      ]
     },
     "execution_count": 93,
     "metadata": {},
     "output_type": "execute_result"
    }
   ],
   "source": [
    "# https://www.census.gov/data/tables/time-series/dec/density-data-text.html\n",
    "# renamed from \"apportionment.csv\"\n",
    "pop_density = pd.read_csv(\"population_density.csv\")\n",
    "pop_density = pop_density[['Name', 'Geography Type', 'Year', 'Resident Population Density']]\n",
    "pop_density = pop_density[(pop_density['Year'] == 2020) & (pop_density['Geography Type'] == \"State\")]\n",
    "pop_density = pop_density[['Name', 'Resident Population Density']].reset_index(drop = True)\n",
    "\n",
    "# 52 datapoints because DC and Puerto Rico count as states\n",
    "pop_density.head()"
   ]
  },
  {
   "cell_type": "markdown",
   "id": "9cc557ef",
   "metadata": {},
   "source": [
    "### Median Age"
   ]
  },
  {
   "cell_type": "code",
   "execution_count": 94,
   "id": "1dc1c644",
   "metadata": {},
   "outputs": [
    {
     "data": {
      "text/html": [
       "<div>\n",
       "<style scoped>\n",
       "    .dataframe tbody tr th:only-of-type {\n",
       "        vertical-align: middle;\n",
       "    }\n",
       "\n",
       "    .dataframe tbody tr th {\n",
       "        vertical-align: top;\n",
       "    }\n",
       "\n",
       "    .dataframe thead th {\n",
       "        text-align: right;\n",
       "    }\n",
       "</style>\n",
       "<table border=\"1\" class=\"dataframe\">\n",
       "  <thead>\n",
       "    <tr style=\"text-align: right;\">\n",
       "      <th></th>\n",
       "      <th>Name</th>\n",
       "      <th>Median Age</th>\n",
       "    </tr>\n",
       "  </thead>\n",
       "  <tbody>\n",
       "    <tr>\n",
       "      <th>0</th>\n",
       "      <td>Alabama</td>\n",
       "      <td>39.2</td>\n",
       "    </tr>\n",
       "    <tr>\n",
       "      <th>1</th>\n",
       "      <td>Alaska</td>\n",
       "      <td>34.6</td>\n",
       "    </tr>\n",
       "    <tr>\n",
       "      <th>2</th>\n",
       "      <td>Arizona</td>\n",
       "      <td>37.9</td>\n",
       "    </tr>\n",
       "    <tr>\n",
       "      <th>3</th>\n",
       "      <td>Arkansas</td>\n",
       "      <td>38.3</td>\n",
       "    </tr>\n",
       "    <tr>\n",
       "      <th>4</th>\n",
       "      <td>California</td>\n",
       "      <td>36.7</td>\n",
       "    </tr>\n",
       "  </tbody>\n",
       "</table>\n",
       "</div>"
      ],
      "text/plain": [
       "         Name  Median Age\n",
       "0     Alabama        39.2\n",
       "1      Alaska        34.6\n",
       "2     Arizona        37.9\n",
       "3    Arkansas        38.3\n",
       "4  California        36.7"
      ]
     },
     "execution_count": 94,
     "metadata": {},
     "output_type": "execute_result"
    }
   ],
   "source": [
    "median_age_dictionary = c.acs5.state(('NAME', 'B01002_001E'), Census.ALL)\n",
    "median_age = pd.DataFrame.from_dict(median_age_dictionary).rename(columns = {'NAME' : 'Name', 'B01002_001E' : 'Median Age'})\n",
    "median_age = median_age[['Name', 'Median Age']].sort_values(by = ['Name']).reset_index(drop = True)\n",
    "median_age.head()\n"
   ]
  },
  {
   "cell_type": "markdown",
   "id": "24799ec7",
   "metadata": {},
   "source": [
    "### Median Income"
   ]
  },
  {
   "cell_type": "code",
   "execution_count": 95,
   "id": "6576cafe",
   "metadata": {},
   "outputs": [
    {
     "data": {
      "text/html": [
       "<div>\n",
       "<style scoped>\n",
       "    .dataframe tbody tr th:only-of-type {\n",
       "        vertical-align: middle;\n",
       "    }\n",
       "\n",
       "    .dataframe tbody tr th {\n",
       "        vertical-align: top;\n",
       "    }\n",
       "\n",
       "    .dataframe thead th {\n",
       "        text-align: right;\n",
       "    }\n",
       "</style>\n",
       "<table border=\"1\" class=\"dataframe\">\n",
       "  <thead>\n",
       "    <tr style=\"text-align: right;\">\n",
       "      <th></th>\n",
       "      <th>Name</th>\n",
       "      <th>Median Household Income</th>\n",
       "    </tr>\n",
       "  </thead>\n",
       "  <tbody>\n",
       "    <tr>\n",
       "      <th>0</th>\n",
       "      <td>Alabama</td>\n",
       "      <td>52035.0</td>\n",
       "    </tr>\n",
       "    <tr>\n",
       "      <th>1</th>\n",
       "      <td>Alaska</td>\n",
       "      <td>77790.0</td>\n",
       "    </tr>\n",
       "    <tr>\n",
       "      <th>2</th>\n",
       "      <td>Arizona</td>\n",
       "      <td>61529.0</td>\n",
       "    </tr>\n",
       "    <tr>\n",
       "      <th>3</th>\n",
       "      <td>Arkansas</td>\n",
       "      <td>49475.0</td>\n",
       "    </tr>\n",
       "    <tr>\n",
       "      <th>4</th>\n",
       "      <td>California</td>\n",
       "      <td>78672.0</td>\n",
       "    </tr>\n",
       "  </tbody>\n",
       "</table>\n",
       "</div>"
      ],
      "text/plain": [
       "         Name  Median Household Income\n",
       "0     Alabama                  52035.0\n",
       "1      Alaska                  77790.0\n",
       "2     Arizona                  61529.0\n",
       "3    Arkansas                  49475.0\n",
       "4  California                  78672.0"
      ]
     },
     "execution_count": 95,
     "metadata": {},
     "output_type": "execute_result"
    }
   ],
   "source": [
    "median_income_dictionary = c.acs5.state(('NAME', 'B19013_001E'), Census.ALL)\n",
    "median_income = pd.DataFrame.from_dict(median_income_dictionary).rename(columns = {'NAME' : 'Name', 'B19013_001E' : 'Median Household Income'})\n",
    "median_income = median_income[['Name', 'Median Household Income']].sort_values(by = ['Name']).reset_index(drop = True)\n",
    "median_income.head()"
   ]
  },
  {
   "cell_type": "markdown",
   "id": "de21971b",
   "metadata": {},
   "source": [
    "### Popular Vote"
   ]
  },
  {
   "cell_type": "code",
   "execution_count": 96,
   "id": "bf2b0c65",
   "metadata": {},
   "outputs": [
    {
     "data": {
      "text/html": [
       "<div>\n",
       "<style scoped>\n",
       "    .dataframe tbody tr th:only-of-type {\n",
       "        vertical-align: middle;\n",
       "    }\n",
       "\n",
       "    .dataframe tbody tr th {\n",
       "        vertical-align: top;\n",
       "    }\n",
       "\n",
       "    .dataframe thead th {\n",
       "        text-align: right;\n",
       "    }\n",
       "</style>\n",
       "<table border=\"1\" class=\"dataframe\">\n",
       "  <thead>\n",
       "    <tr style=\"text-align: right;\">\n",
       "      <th></th>\n",
       "      <th>Name</th>\n",
       "      <th>Biden Votes</th>\n",
       "      <th>Trump Votes</th>\n",
       "      <th>Total Votes</th>\n",
       "    </tr>\n",
       "  </thead>\n",
       "  <tbody>\n",
       "    <tr>\n",
       "      <th>0</th>\n",
       "      <td>Alabama</td>\n",
       "      <td>849624</td>\n",
       "      <td>1441170</td>\n",
       "      <td>2323282</td>\n",
       "    </tr>\n",
       "    <tr>\n",
       "      <th>1</th>\n",
       "      <td>Alaska</td>\n",
       "      <td>153778</td>\n",
       "      <td>189951</td>\n",
       "      <td>359530</td>\n",
       "    </tr>\n",
       "    <tr>\n",
       "      <th>2</th>\n",
       "      <td>Arizona</td>\n",
       "      <td>1672143</td>\n",
       "      <td>1661686</td>\n",
       "      <td>3387326</td>\n",
       "    </tr>\n",
       "    <tr>\n",
       "      <th>3</th>\n",
       "      <td>Arkansas</td>\n",
       "      <td>423932</td>\n",
       "      <td>760647</td>\n",
       "      <td>1219069</td>\n",
       "    </tr>\n",
       "    <tr>\n",
       "      <th>4</th>\n",
       "      <td>California</td>\n",
       "      <td>11110639</td>\n",
       "      <td>6006518</td>\n",
       "      <td>17501380</td>\n",
       "    </tr>\n",
       "  </tbody>\n",
       "</table>\n",
       "</div>"
      ],
      "text/plain": [
       "         Name  Biden Votes  Trump Votes  Total Votes\n",
       "0     Alabama       849624      1441170      2323282\n",
       "1      Alaska       153778       189951       359530\n",
       "2     Arizona      1672143      1661686      3387326\n",
       "3    Arkansas       423932       760647      1219069\n",
       "4  California     11110639      6006518     17501380"
      ]
     },
     "execution_count": 96,
     "metadata": {},
     "output_type": "execute_result"
    }
   ],
   "source": [
    "# https://www.fec.gov/introduction-campaign-finance/election-results-and-voting-information/federal-elections-2020/\n",
    "popular_vote = pd.read_csv(\"federalelections2020.csv\")\n",
    "popular_vote.head()"
   ]
  },
  {
   "cell_type": "markdown",
   "id": "0716baf5",
   "metadata": {},
   "source": [
    "## Hypothesis Testing\n",
    "\n",
    "*Likely just going to focus on either the 2020 presidential election because the FEC data for Trump's 2024 campaign is unclean, scattered, and not even on the main page as it was in previous elections.*\n",
    "\n",
    "Electoral college and popular vote numbers by state: https://www.fec.gov/resources/cms-content/documents/2024presgeresults.pdf\n",
    "\n",
    "**ideas**\n",
    "- how does median age correlate with funding/spending\n",
    "- how does population density correlate spending / voter turnout\n",
    "- how does median income correlate with chosen candidate"
   ]
  },
  {
   "cell_type": "markdown",
   "id": "e2f168c5",
   "metadata": {},
   "source": [
    "### Median Age and Spending\n",
    "*How does median age correlate with campaign spending?* \\\n",
    "*Do campaigns spend more on states/areas with a lower median age?*"
   ]
  },
  {
   "cell_type": "code",
   "execution_count": null,
   "id": "992fd049",
   "metadata": {},
   "outputs": [],
   "source": []
  },
  {
   "cell_type": "markdown",
   "id": "357f29af",
   "metadata": {},
   "source": [
    "### Population Density and Voter Turnout\n",
    "*How does population density correlate with voter turnout?* \\\n",
    "*Do denser areas have more engaged voters?*"
   ]
  },
  {
   "cell_type": "markdown",
   "id": "c2f90c67",
   "metadata": {},
   "source": [
    "**Turnout Rate:**"
   ]
  },
  {
   "cell_type": "code",
   "execution_count": 111,
   "id": "bfe73676",
   "metadata": {},
   "outputs": [
    {
     "data": {
      "text/html": [
       "<div>\n",
       "<style scoped>\n",
       "    .dataframe tbody tr th:only-of-type {\n",
       "        vertical-align: middle;\n",
       "    }\n",
       "\n",
       "    .dataframe tbody tr th {\n",
       "        vertical-align: top;\n",
       "    }\n",
       "\n",
       "    .dataframe thead th {\n",
       "        text-align: right;\n",
       "    }\n",
       "</style>\n",
       "<table border=\"1\" class=\"dataframe\">\n",
       "  <thead>\n",
       "    <tr style=\"text-align: right;\">\n",
       "      <th></th>\n",
       "      <th>Name</th>\n",
       "      <th>Biden Votes</th>\n",
       "      <th>Trump Votes</th>\n",
       "      <th>Total Votes</th>\n",
       "      <th>Turnout</th>\n",
       "      <th>Population</th>\n",
       "    </tr>\n",
       "  </thead>\n",
       "  <tbody>\n",
       "    <tr>\n",
       "      <th>0</th>\n",
       "      <td>Alabama</td>\n",
       "      <td>849624</td>\n",
       "      <td>1441170</td>\n",
       "      <td>2323282</td>\n",
       "      <td>0.474799</td>\n",
       "      <td>4893186</td>\n",
       "    </tr>\n",
       "    <tr>\n",
       "      <th>1</th>\n",
       "      <td>Alaska</td>\n",
       "      <td>153778</td>\n",
       "      <td>189951</td>\n",
       "      <td>359530</td>\n",
       "      <td>0.487836</td>\n",
       "      <td>736990</td>\n",
       "    </tr>\n",
       "    <tr>\n",
       "      <th>2</th>\n",
       "      <td>Arizona</td>\n",
       "      <td>1672143</td>\n",
       "      <td>1661686</td>\n",
       "      <td>3387326</td>\n",
       "      <td>0.472163</td>\n",
       "      <td>7174064</td>\n",
       "    </tr>\n",
       "    <tr>\n",
       "      <th>3</th>\n",
       "      <td>Arkansas</td>\n",
       "      <td>423932</td>\n",
       "      <td>760647</td>\n",
       "      <td>1219069</td>\n",
       "      <td>0.404754</td>\n",
       "      <td>3011873</td>\n",
       "    </tr>\n",
       "    <tr>\n",
       "      <th>4</th>\n",
       "      <td>California</td>\n",
       "      <td>11110639</td>\n",
       "      <td>6006518</td>\n",
       "      <td>17501380</td>\n",
       "      <td>0.444807</td>\n",
       "      <td>39346023</td>\n",
       "    </tr>\n",
       "  </tbody>\n",
       "</table>\n",
       "</div>"
      ],
      "text/plain": [
       "         Name  Biden Votes  Trump Votes  Total Votes   Turnout  Population\n",
       "0     Alabama       849624      1441170      2323282  0.474799     4893186\n",
       "1      Alaska       153778       189951       359530  0.487836      736990\n",
       "2     Arizona      1672143      1661686      3387326  0.472163     7174064\n",
       "3    Arkansas       423932       760647      1219069  0.404754     3011873\n",
       "4  California     11110639      6006518     17501380  0.444807    39346023"
      ]
     },
     "execution_count": 111,
     "metadata": {},
     "output_type": "execute_result"
    }
   ],
   "source": [
    "merged_pop_df = popular_vote.merge(population, on='Name')\n",
    "merged_pop_df['Turnout'] = merged_pop_df['Total Votes'] / merged_pop_df['Population']\n",
    "\n",
    "#popular_vote['Turnout'] = popular_vote['Total Votes'] / population['Population']\n",
    "merged_pop_df.head(5)"
   ]
  },
  {
   "cell_type": "markdown",
   "id": "6ec47290",
   "metadata": {},
   "source": [
    "**Combining** DF's for Visualization:"
   ]
  },
  {
   "cell_type": "code",
   "execution_count": 115,
   "id": "1af7683a",
   "metadata": {},
   "outputs": [
    {
     "data": {
      "text/html": [
       "<div>\n",
       "<style scoped>\n",
       "    .dataframe tbody tr th:only-of-type {\n",
       "        vertical-align: middle;\n",
       "    }\n",
       "\n",
       "    .dataframe tbody tr th {\n",
       "        vertical-align: top;\n",
       "    }\n",
       "\n",
       "    .dataframe thead th {\n",
       "        text-align: right;\n",
       "    }\n",
       "</style>\n",
       "<table border=\"1\" class=\"dataframe\">\n",
       "  <thead>\n",
       "    <tr style=\"text-align: right;\">\n",
       "      <th></th>\n",
       "      <th>Name</th>\n",
       "      <th>Biden Votes</th>\n",
       "      <th>Trump Votes</th>\n",
       "      <th>Total Votes</th>\n",
       "      <th>Turnout</th>\n",
       "      <th>Population</th>\n",
       "      <th>Resident Population Density</th>\n",
       "    </tr>\n",
       "  </thead>\n",
       "  <tbody>\n",
       "    <tr>\n",
       "      <th>0</th>\n",
       "      <td>Alabama</td>\n",
       "      <td>849624</td>\n",
       "      <td>1441170</td>\n",
       "      <td>2323282</td>\n",
       "      <td>47.479945</td>\n",
       "      <td>4893186</td>\n",
       "      <td>99.2</td>\n",
       "    </tr>\n",
       "    <tr>\n",
       "      <th>1</th>\n",
       "      <td>Alaska</td>\n",
       "      <td>153778</td>\n",
       "      <td>189951</td>\n",
       "      <td>359530</td>\n",
       "      <td>48.783566</td>\n",
       "      <td>736990</td>\n",
       "      <td>1.3</td>\n",
       "    </tr>\n",
       "    <tr>\n",
       "      <th>2</th>\n",
       "      <td>Arizona</td>\n",
       "      <td>1672143</td>\n",
       "      <td>1661686</td>\n",
       "      <td>3387326</td>\n",
       "      <td>47.216278</td>\n",
       "      <td>7174064</td>\n",
       "      <td>62.9</td>\n",
       "    </tr>\n",
       "    <tr>\n",
       "      <th>3</th>\n",
       "      <td>Arkansas</td>\n",
       "      <td>423932</td>\n",
       "      <td>760647</td>\n",
       "      <td>1219069</td>\n",
       "      <td>40.475445</td>\n",
       "      <td>3011873</td>\n",
       "      <td>57.9</td>\n",
       "    </tr>\n",
       "    <tr>\n",
       "      <th>4</th>\n",
       "      <td>California</td>\n",
       "      <td>11110639</td>\n",
       "      <td>6006518</td>\n",
       "      <td>17501380</td>\n",
       "      <td>44.480684</td>\n",
       "      <td>39346023</td>\n",
       "      <td>253.7</td>\n",
       "    </tr>\n",
       "  </tbody>\n",
       "</table>\n",
       "</div>"
      ],
      "text/plain": [
       "         Name  Biden Votes  Trump Votes  Total Votes    Turnout  Population  \\\n",
       "0     Alabama       849624      1441170      2323282  47.479945     4893186   \n",
       "1      Alaska       153778       189951       359530  48.783566      736990   \n",
       "2     Arizona      1672143      1661686      3387326  47.216278     7174064   \n",
       "3    Arkansas       423932       760647      1219069  40.475445     3011873   \n",
       "4  California     11110639      6006518     17501380  44.480684    39346023   \n",
       "\n",
       "   Resident Population Density  \n",
       "0                         99.2  \n",
       "1                          1.3  \n",
       "2                         62.9  \n",
       "3                         57.9  \n",
       "4                        253.7  "
      ]
     },
     "execution_count": 115,
     "metadata": {},
     "output_type": "execute_result"
    }
   ],
   "source": [
    "# merging Popular Vote and Population Density and Population\n",
    "density_turnout = merged_pop_df.merge(pop_density, on='Name')\n",
    "\n",
    "# Calculating turnout and adding it to the df\n",
    "density_turnout['Turnout'] = density_turnout['Total Votes'] / density_turnout['Population'] * 100\n",
    "density_turnout['Resident Population Density'] = pd.to_numeric(density_turnout['Resident Population Density'], errors='coerce')\n",
    "\n",
    "# Dropping Na's\n",
    "density_turnout = density_turnout.dropna(subset=['Resident Population Density', 'Turnout'])\n",
    "\n",
    "density_turnout.head()"
   ]
  },
  {
   "cell_type": "markdown",
   "id": "caf7b825",
   "metadata": {},
   "source": [
    "The Plot:\n",
    "- x-axis: Population Density\n",
    "- y-axis: Voter Turnout\n",
    "- blue dots/points: scaled to the population size\n",
    "- red regression line"
   ]
  },
  {
   "cell_type": "code",
   "execution_count": 117,
   "id": "dc4113f3",
   "metadata": {},
   "outputs": [
    {
     "data": {
      "image/png": "[encoded data removed]",
      "text/plain": [
       "<Figure size 1000x600 with 1 Axes>"
      ]
     },
     "metadata": {},
     "output_type": "display_data"
    }
   ],
   "source": [
    "\n",
    "plt.figure(figsize=(10, 6))\n",
    "sns.set_theme(style=\"whitegrid\")\n",
    "\n",
    "# Regression Line\n",
    "sns.regplot(data=density_turnout, x='Resident Population Density', y='Turnout', scatter=False, color='red', line_kws={'linewidth':1.5})\n",
    "\n",
    "# Scatter Plot\n",
    "plt.scatter(\n",
    "    x=density_turnout['Resident Population Density'],\n",
    "    y=density_turnout['Turnout'],\n",
    "    s=density_turnout['Population'] / 25000,\n",
    "    alpha=0.7,\n",
    "    edgecolor='k'\n",
    ")\n",
    "\n",
    "plt.xlabel(\"Population Density (people per sq. mile)\")\n",
    "plt.ylabel(\"Voter Turnout (%)\")\n",
    "plt.title(\"Population Density vs Voter Turnout (2020)\")\n",
    "plt.tight_layout()\n",
    "plt.show()"
   ]
  },
  {
   "cell_type": "markdown",
   "id": "85cd6c18",
   "metadata": {},
   "source": [
    "**Observations:**\n",
    "- 1\n",
    "- 2"
   ]
  },
  {
   "cell_type": "markdown",
   "id": "b2d9532f",
   "metadata": {},
   "source": [
    "### Median Income and Funding/Spending\n",
    "*Do wealthier states contribute disproportionately more to campaigns?*\n",
    "*Do poorer states receive more campaign spending?*"
   ]
  },
  {
   "cell_type": "markdown",
   "id": "fe3e1d0a",
   "metadata": {},
   "source": []
  },
  {
   "cell_type": "code",
   "execution_count": 8,
   "id": "219749e5",
   "metadata": {},
   "outputs": [],
   "source": [
    "# if we choose to compare all three, it could be x-axis income, y-axis spending, and dot color candidate"
   ]
  },
  {
   "cell_type": "markdown",
   "id": "c7c3946f",
   "metadata": {},
   "source": [
    "### Campaign Spending and Chosen Candidate\n",
    "*Does increased spending always lead to more votes?*"
   ]
  },
  {
   "cell_type": "code",
   "execution_count": null,
   "id": "f164a6b5",
   "metadata": {},
   "outputs": [],
   "source": []
  }
 ],
 "metadata": {
  "kernelspec": {
   "display_name": "Python 3",
   "language": "python",
   "name": "python3"
  },
  "language_info": {
   "codemirror_mode": {
    "name": "ipython",
    "version": 3
   },
   "file_extension": ".py",
   "mimetype": "text/x-python",
   "name": "python",
   "nbconvert_exporter": "python",
   "pygments_lexer": "ipython3",
   "version": "3.10.12"
  }
 },
 "nbformat": 4,
 "nbformat_minor": 5
}
