{
 "cells": [
  {
   "cell_type": "markdown",
   "metadata": {},
   "source": [
    "# The Impact of Demographics on Campaign Spending and Voting\n",
    "## Summer 2025 Data Science Project\n",
    "### Tyshon Brown, David Li, Zile Liu, and Samuel Opoku-Agyemang\n",
    "\n",
    "## Contributions:\n",
    "- **Tyshon Brown:** \n",
    "    - Population Density vs Voter Turnout Section\n",
    "    - Extracted County Info for ML (median income, age, total pop)\n",
    "    - ML Training and Testing\n",
    "- **David Li:** \n",
    "- **Zile Liu:** \n",
    "    - Extracted data of funding of the 2020 compaign\n",
    "    - Performed Chi squared test\n",
    "- **Samuel Opoku-Agyemang:**\n",
    "    - Data Curation\n",
    "    - EDA Hypothesis 1\n",
    "    - Extracted County Info for ML (total individual contributions)\n",
    "    - Machine Learning Data Scaling\n",
    "\n",
    "## Table of Contents:\n",
    "1. Introduction\n",
    "2. Data Curation\n",
    "3. Exploratory Data and Analysis\n",
    "4. Machine Learning Analysis\n",
    "5. Final Insights"
   ]
  },
  {
   "cell_type": "markdown",
   "metadata": {},
   "source": [
    "## 1. Introduction\n",
    "Contributions from constituents and voters play a very important role in any political campaign, and we wish to explore the relationship between demographics such as age, income, and population (at the county and state level) and political campaign contributions, as well as political election outcomes.\n",
    "\n",
    "We ask and attempt to answer questions such as\n",
    "- Which demographics spend the most?\n",
    "- Which demographics spend the least?\n",
    "- How much does funding correlate with election outcomes?\n",
    "- Is there a strong enough relationship between these demographics where we can train a machine learning model to predict outcomes?\n",
    "\n",
    "We do this using tools from the Python Data Analysis Library and scikit-learn to\n",
    "- Clean our data and merge into one, well maintained database.\n",
    "- Explore the relationship between the aformentioned variables.\n",
    "- Train a predictive machine learning model and test its performance.\n",
    "- Visualize any trends in a very presentable way.\n"
   ]
  },
  {
   "cell_type": "markdown",
   "metadata": {},
   "source": [
    "## 2. Data Curation"
   ]
  },
  {
   "cell_type": "markdown",
   "metadata": {},
   "source": [
    "We collected and merged the following datasets:\n",
    "- **Population, Income, and Age** from the 2020 ACS via the `census` Python API.\n",
    "- **Population density** from [Census Historical Density Tables](https://www.census.gov/data/tables/time-series/dec/density-data-text.html).\n",
    "- **Campaign finance and expenditures** from the [FEC’s 2020 data archive](https://www.fec.gov/data/).\n",
    "- **Popular vote totals** by state from the [Federal Elections 2020 report](https://www.fec.gov/introduction-campaign-finance/election-results-and-voting-information/federal-elections-2020/).\n",
    "\n",
    "We used `pandas`, `scipy`, and `seaborn` for preprocessing and visualization."
   ]
  },
  {
   "cell_type": "code",
   "execution_count": 133,
   "metadata": {},
   "outputs": [],
   "source": [
    "import json\n",
    "import matplotlib.pyplot as plt\n",
    "import numpy as np\n",
    "import pandas as pd\n",
    "import seaborn as sns\n",
    "from census import Census\n",
    "from us import states\n",
    "from scipy.stats import chi2_contingency, f_oneway, pearsonr, spearmanr, tukey_hsd\n",
    "sns.set_theme()\n",
    "c = Census(\"23c580dcbb047d99e93502f60681fc6430f2fc9a\", year=2020)  # Sam's API key"
   ]
  },
  {
   "cell_type": "markdown",
   "metadata": {},
   "source": [
    "### State Population"
   ]
  },
  {
   "cell_type": "code",
   "execution_count": 134,
   "metadata": {},
   "outputs": [
    {
     "data": {
      "application/vnd.microsoft.datawrangler.viewer.v0+json": {
       "columns": [
        {
         "name": "index",
         "rawType": "int64",
         "type": "integer"
        },
        {
         "name": "Name",
         "rawType": "object",
         "type": "string"
        },
        {
         "name": "Population",
         "rawType": "int64",
         "type": "integer"
        }
       ],
       "ref": "b10d6899-cd51-461a-a68e-393dc0b0c02b",
       "rows": [
        [
         "0",
         "Pennsylvania",
         "12794885"
        ],
        [
         "1",
         "California",
         "39346023"
        ],
        [
         "2",
         "West Virginia",
         "1807426"
        ],
        [
         "3",
         "Utah",
         "3151239"
        ],
        [
         "4",
         "New York",
         "19514849"
        ]
       ],
       "shape": {
        "columns": 2,
        "rows": 5
       }
      },
      "text/html": [
       "<div>\n",
       "<style scoped>\n",
       "    .dataframe tbody tr th:only-of-type {\n",
       "        vertical-align: middle;\n",
       "    }\n",
       "\n",
       "    .dataframe tbody tr th {\n",
       "        vertical-align: top;\n",
       "    }\n",
       "\n",
       "    .dataframe thead th {\n",
       "        text-align: right;\n",
       "    }\n",
       "</style>\n",
       "<table border=\"1\" class=\"dataframe\">\n",
       "  <thead>\n",
       "    <tr style=\"text-align: right;\">\n",
       "      <th></th>\n",
       "      <th>Name</th>\n",
       "      <th>Population</th>\n",
       "    </tr>\n",
       "  </thead>\n",
       "  <tbody>\n",
       "    <tr>\n",
       "      <th>0</th>\n",
       "      <td>Pennsylvania</td>\n",
       "      <td>12794885</td>\n",
       "    </tr>\n",
       "    <tr>\n",
       "      <th>1</th>\n",
       "      <td>California</td>\n",
       "      <td>39346023</td>\n",
       "    </tr>\n",
       "    <tr>\n",
       "      <th>2</th>\n",
       "      <td>West Virginia</td>\n",
       "      <td>1807426</td>\n",
       "    </tr>\n",
       "    <tr>\n",
       "      <th>3</th>\n",
       "      <td>Utah</td>\n",
       "      <td>3151239</td>\n",
       "    </tr>\n",
       "    <tr>\n",
       "      <th>4</th>\n",
       "      <td>New York</td>\n",
       "      <td>19514849</td>\n",
       "    </tr>\n",
       "  </tbody>\n",
       "</table>\n",
       "</div>"
      ],
      "text/plain": [
       "            Name  Population\n",
       "0   Pennsylvania    12794885\n",
       "1     California    39346023\n",
       "2  West Virginia     1807426\n",
       "3           Utah     3151239\n",
       "4       New York    19514849"
      ]
     },
     "execution_count": 134,
     "metadata": {},
     "output_type": "execute_result"
    }
   ],
   "source": [
    "population_data = c.acs5.state((\"NAME\", \"B01003_001E\"), Census.ALL)\n",
    "population = pd.DataFrame(population_data)\n",
    "population.rename(columns={\"NAME\": \"Name\", \"B01003_001E\": \"Population\"}, inplace=True)\n",
    "population[\"Population\"] = population[\"Population\"].astype(int)\n",
    "\n",
    "population = population.drop(\"state\", axis=1)\n",
    "population.head()"
   ]
  },
  {
   "cell_type": "markdown",
   "metadata": {},
   "source": [
    "### Population Density by State"
   ]
  },
  {
   "cell_type": "code",
   "execution_count": 135,
   "metadata": {},
   "outputs": [
    {
     "data": {
      "application/vnd.microsoft.datawrangler.viewer.v0+json": {
       "columns": [
        {
         "name": "index",
         "rawType": "int64",
         "type": "integer"
        },
        {
         "name": "Name",
         "rawType": "object",
         "type": "string"
        },
        {
         "name": "Resident Population Density",
         "rawType": "object",
         "type": "string"
        }
       ],
       "ref": "d9ba77e7-e58c-4e73-a5b5-6cb7a4d32b42",
       "rows": [
        [
         "0",
         "Alabama",
         "99.2"
        ],
        [
         "1",
         "Alaska",
         "1.3"
        ],
        [
         "2",
         "Arizona",
         "62.9"
        ],
        [
         "3",
         "Arkansas",
         "57.9"
        ],
        [
         "4",
         "California",
         "253.7"
        ]
       ],
       "shape": {
        "columns": 2,
        "rows": 5
       }
      },
      "text/html": [
       "<div>\n",
       "<style scoped>\n",
       "    .dataframe tbody tr th:only-of-type {\n",
       "        vertical-align: middle;\n",
       "    }\n",
       "\n",
       "    .dataframe tbody tr th {\n",
       "        vertical-align: top;\n",
       "    }\n",
       "\n",
       "    .dataframe thead th {\n",
       "        text-align: right;\n",
       "    }\n",
       "</style>\n",
       "<table border=\"1\" class=\"dataframe\">\n",
       "  <thead>\n",
       "    <tr style=\"text-align: right;\">\n",
       "      <th></th>\n",
       "      <th>Name</th>\n",
       "      <th>Resident Population Density</th>\n",
       "    </tr>\n",
       "  </thead>\n",
       "  <tbody>\n",
       "    <tr>\n",
       "      <th>0</th>\n",
       "      <td>Alabama</td>\n",
       "      <td>99.2</td>\n",
       "    </tr>\n",
       "    <tr>\n",
       "      <th>1</th>\n",
       "      <td>Alaska</td>\n",
       "      <td>1.3</td>\n",
       "    </tr>\n",
       "    <tr>\n",
       "      <th>2</th>\n",
       "      <td>Arizona</td>\n",
       "      <td>62.9</td>\n",
       "    </tr>\n",
       "    <tr>\n",
       "      <th>3</th>\n",
       "      <td>Arkansas</td>\n",
       "      <td>57.9</td>\n",
       "    </tr>\n",
       "    <tr>\n",
       "      <th>4</th>\n",
       "      <td>California</td>\n",
       "      <td>253.7</td>\n",
       "    </tr>\n",
       "  </tbody>\n",
       "</table>\n",
       "</div>"
      ],
      "text/plain": [
       "         Name Resident Population Density\n",
       "0     Alabama                        99.2\n",
       "1      Alaska                         1.3\n",
       "2     Arizona                        62.9\n",
       "3    Arkansas                        57.9\n",
       "4  California                       253.7"
      ]
     },
     "execution_count": 135,
     "metadata": {},
     "output_type": "execute_result"
    }
   ],
   "source": [
    "# https://www.census.gov/data/tables/time-series/dec/density-data-text.html\n",
    "# renamed from \"apportionment.csv\"\n",
    "pop_density = pd.read_csv(\"population_density.csv\")\n",
    "pop_density = pop_density[\n",
    "    [\"Name\", \"Geography Type\", \"Year\", \"Resident Population Density\"]\n",
    "]\n",
    "pop_density = pop_density[\n",
    "    (pop_density[\"Year\"] == 2020) & (pop_density[\"Geography Type\"] == \"State\")\n",
    "]\n",
    "pop_density = pop_density[[\"Name\", \"Resident Population Density\"]].reset_index(\n",
    "    drop=True\n",
    ")\n",
    "\n",
    "# 52 datapoints because DC and Puerto Rico count as states\n",
    "pop_density.head()"
   ]
  },
  {
   "cell_type": "markdown",
   "metadata": {},
   "source": [
    "### Median Age by State"
   ]
  },
  {
   "cell_type": "code",
   "execution_count": 136,
   "metadata": {},
   "outputs": [
    {
     "data": {
      "application/vnd.microsoft.datawrangler.viewer.v0+json": {
       "columns": [
        {
         "name": "index",
         "rawType": "int64",
         "type": "integer"
        },
        {
         "name": "Name",
         "rawType": "object",
         "type": "string"
        },
        {
         "name": "Median Age",
         "rawType": "float64",
         "type": "float"
        }
       ],
       "ref": "8fe1dfb1-e711-448a-bc1d-86a94bc1fd6b",
       "rows": [
        [
         "0",
         "Alabama",
         "39.2"
        ],
        [
         "1",
         "Alaska",
         "34.6"
        ],
        [
         "2",
         "Arizona",
         "37.9"
        ],
        [
         "3",
         "Arkansas",
         "38.3"
        ],
        [
         "4",
         "California",
         "36.7"
        ]
       ],
       "shape": {
        "columns": 2,
        "rows": 5
       }
      },
      "text/html": [
       "<div>\n",
       "<style scoped>\n",
       "    .dataframe tbody tr th:only-of-type {\n",
       "        vertical-align: middle;\n",
       "    }\n",
       "\n",
       "    .dataframe tbody tr th {\n",
       "        vertical-align: top;\n",
       "    }\n",
       "\n",
       "    .dataframe thead th {\n",
       "        text-align: right;\n",
       "    }\n",
       "</style>\n",
       "<table border=\"1\" class=\"dataframe\">\n",
       "  <thead>\n",
       "    <tr style=\"text-align: right;\">\n",
       "      <th></th>\n",
       "      <th>Name</th>\n",
       "      <th>Median Age</th>\n",
       "    </tr>\n",
       "  </thead>\n",
       "  <tbody>\n",
       "    <tr>\n",
       "      <th>0</th>\n",
       "      <td>Alabama</td>\n",
       "      <td>39.2</td>\n",
       "    </tr>\n",
       "    <tr>\n",
       "      <th>1</th>\n",
       "      <td>Alaska</td>\n",
       "      <td>34.6</td>\n",
       "    </tr>\n",
       "    <tr>\n",
       "      <th>2</th>\n",
       "      <td>Arizona</td>\n",
       "      <td>37.9</td>\n",
       "    </tr>\n",
       "    <tr>\n",
       "      <th>3</th>\n",
       "      <td>Arkansas</td>\n",
       "      <td>38.3</td>\n",
       "    </tr>\n",
       "    <tr>\n",
       "      <th>4</th>\n",
       "      <td>California</td>\n",
       "      <td>36.7</td>\n",
       "    </tr>\n",
       "  </tbody>\n",
       "</table>\n",
       "</div>"
      ],
      "text/plain": [
       "         Name  Median Age\n",
       "0     Alabama        39.2\n",
       "1      Alaska        34.6\n",
       "2     Arizona        37.9\n",
       "3    Arkansas        38.3\n",
       "4  California        36.7"
      ]
     },
     "execution_count": 136,
     "metadata": {},
     "output_type": "execute_result"
    }
   ],
   "source": [
    "median_age_dictionary = c.acs5.state((\"NAME\", \"B01002_001E\"), Census.ALL)\n",
    "median_age = pd.DataFrame.from_dict(median_age_dictionary).rename(\n",
    "    columns={\"NAME\": \"Name\", \"B01002_001E\": \"Median Age\"}\n",
    ")\n",
    "median_age = (\n",
    "    median_age[[\"Name\", \"Median Age\"]].sort_values(by=[\"Name\"]).reset_index(drop=True)\n",
    ")\n",
    "median_age.head()"
   ]
  },
  {
   "cell_type": "markdown",
   "metadata": {},
   "source": [
    "### Median Income by State"
   ]
  },
  {
   "cell_type": "code",
   "execution_count": 137,
   "metadata": {},
   "outputs": [
    {
     "data": {
      "application/vnd.microsoft.datawrangler.viewer.v0+json": {
       "columns": [
        {
         "name": "index",
         "rawType": "int64",
         "type": "integer"
        },
        {
         "name": "Name",
         "rawType": "object",
         "type": "string"
        },
        {
         "name": "Median Household Income",
         "rawType": "float64",
         "type": "float"
        }
       ],
       "ref": "6674e1f2-e917-42c8-900b-9fc9da9a3104",
       "rows": [
        [
         "0",
         "Alabama",
         "52035.0"
        ],
        [
         "1",
         "Alaska",
         "77790.0"
        ],
        [
         "2",
         "Arizona",
         "61529.0"
        ],
        [
         "3",
         "Arkansas",
         "49475.0"
        ],
        [
         "4",
         "California",
         "78672.0"
        ]
       ],
       "shape": {
        "columns": 2,
        "rows": 5
       }
      },
      "text/html": [
       "<div>\n",
       "<style scoped>\n",
       "    .dataframe tbody tr th:only-of-type {\n",
       "        vertical-align: middle;\n",
       "    }\n",
       "\n",
       "    .dataframe tbody tr th {\n",
       "        vertical-align: top;\n",
       "    }\n",
       "\n",
       "    .dataframe thead th {\n",
       "        text-align: right;\n",
       "    }\n",
       "</style>\n",
       "<table border=\"1\" class=\"dataframe\">\n",
       "  <thead>\n",
       "    <tr style=\"text-align: right;\">\n",
       "      <th></th>\n",
       "      <th>Name</th>\n",
       "      <th>Median Household Income</th>\n",
       "    </tr>\n",
       "  </thead>\n",
       "  <tbody>\n",
       "    <tr>\n",
       "      <th>0</th>\n",
       "      <td>Alabama</td>\n",
       "      <td>52035.0</td>\n",
       "    </tr>\n",
       "    <tr>\n",
       "      <th>1</th>\n",
       "      <td>Alaska</td>\n",
       "      <td>77790.0</td>\n",
       "    </tr>\n",
       "    <tr>\n",
       "      <th>2</th>\n",
       "      <td>Arizona</td>\n",
       "      <td>61529.0</td>\n",
       "    </tr>\n",
       "    <tr>\n",
       "      <th>3</th>\n",
       "      <td>Arkansas</td>\n",
       "      <td>49475.0</td>\n",
       "    </tr>\n",
       "    <tr>\n",
       "      <th>4</th>\n",
       "      <td>California</td>\n",
       "      <td>78672.0</td>\n",
       "    </tr>\n",
       "  </tbody>\n",
       "</table>\n",
       "</div>"
      ],
      "text/plain": [
       "         Name  Median Household Income\n",
       "0     Alabama                  52035.0\n",
       "1      Alaska                  77790.0\n",
       "2     Arizona                  61529.0\n",
       "3    Arkansas                  49475.0\n",
       "4  California                  78672.0"
      ]
     },
     "execution_count": 137,
     "metadata": {},
     "output_type": "execute_result"
    }
   ],
   "source": [
    "median_income_dictionary = c.acs5.state((\"NAME\", \"B19013_001E\"), Census.ALL)\n",
    "median_income = pd.DataFrame.from_dict(median_income_dictionary).rename(\n",
    "    columns={\"NAME\": \"Name\", \"B19013_001E\": \"Median Household Income\"}\n",
    ")\n",
    "median_income = (\n",
    "    median_income[[\"Name\", \"Median Household Income\"]]\n",
    "    .sort_values(by=[\"Name\"])\n",
    "    .reset_index(drop=True)\n",
    ")\n",
    "median_income.head()"
   ]
  },
  {
   "cell_type": "markdown",
   "metadata": {},
   "source": [
    "### Popular Vote by State (Biden v Trump)"
   ]
  },
  {
   "cell_type": "code",
   "execution_count": 138,
   "metadata": {},
   "outputs": [
    {
     "data": {
      "application/vnd.microsoft.datawrangler.viewer.v0+json": {
       "columns": [
        {
         "name": "index",
         "rawType": "int64",
         "type": "integer"
        },
        {
         "name": "Name",
         "rawType": "object",
         "type": "string"
        },
        {
         "name": "Biden Votes",
         "rawType": "int64",
         "type": "integer"
        },
        {
         "name": "Trump Votes",
         "rawType": "int64",
         "type": "integer"
        },
        {
         "name": "Total Votes",
         "rawType": "int64",
         "type": "integer"
        }
       ],
       "ref": "215964a1-99a5-4519-9a3a-8467dbfc407c",
       "rows": [
        [
         "0",
         "Alabama",
         "849624",
         "1441170",
         "2323282"
        ],
        [
         "1",
         "Alaska",
         "153778",
         "189951",
         "359530"
        ],
        [
         "2",
         "Arizona",
         "1672143",
         "1661686",
         "3387326"
        ],
        [
         "3",
         "Arkansas",
         "423932",
         "760647",
         "1219069"
        ],
        [
         "4",
         "California",
         "11110639",
         "6006518",
         "17501380"
        ]
       ],
       "shape": {
        "columns": 4,
        "rows": 5
       }
      },
      "text/html": [
       "<div>\n",
       "<style scoped>\n",
       "    .dataframe tbody tr th:only-of-type {\n",
       "        vertical-align: middle;\n",
       "    }\n",
       "\n",
       "    .dataframe tbody tr th {\n",
       "        vertical-align: top;\n",
       "    }\n",
       "\n",
       "    .dataframe thead th {\n",
       "        text-align: right;\n",
       "    }\n",
       "</style>\n",
       "<table border=\"1\" class=\"dataframe\">\n",
       "  <thead>\n",
       "    <tr style=\"text-align: right;\">\n",
       "      <th></th>\n",
       "      <th>Name</th>\n",
       "      <th>Biden Votes</th>\n",
       "      <th>Trump Votes</th>\n",
       "      <th>Total Votes</th>\n",
       "    </tr>\n",
       "  </thead>\n",
       "  <tbody>\n",
       "    <tr>\n",
       "      <th>0</th>\n",
       "      <td>Alabama</td>\n",
       "      <td>849624</td>\n",
       "      <td>1441170</td>\n",
       "      <td>2323282</td>\n",
       "    </tr>\n",
       "    <tr>\n",
       "      <th>1</th>\n",
       "      <td>Alaska</td>\n",
       "      <td>153778</td>\n",
       "      <td>189951</td>\n",
       "      <td>359530</td>\n",
       "    </tr>\n",
       "    <tr>\n",
       "      <th>2</th>\n",
       "      <td>Arizona</td>\n",
       "      <td>1672143</td>\n",
       "      <td>1661686</td>\n",
       "      <td>3387326</td>\n",
       "    </tr>\n",
       "    <tr>\n",
       "      <th>3</th>\n",
       "      <td>Arkansas</td>\n",
       "      <td>423932</td>\n",
       "      <td>760647</td>\n",
       "      <td>1219069</td>\n",
       "    </tr>\n",
       "    <tr>\n",
       "      <th>4</th>\n",
       "      <td>California</td>\n",
       "      <td>11110639</td>\n",
       "      <td>6006518</td>\n",
       "      <td>17501380</td>\n",
       "    </tr>\n",
       "  </tbody>\n",
       "</table>\n",
       "</div>"
      ],
      "text/plain": [
       "         Name  Biden Votes  Trump Votes  Total Votes\n",
       "0     Alabama       849624      1441170      2323282\n",
       "1      Alaska       153778       189951       359530\n",
       "2     Arizona      1672143      1661686      3387326\n",
       "3    Arkansas       423932       760647      1219069\n",
       "4  California     11110639      6006518     17501380"
      ]
     },
     "execution_count": 138,
     "metadata": {},
     "output_type": "execute_result"
    }
   ],
   "source": [
    "# https://www.fec.gov/introduction-campaign-finance/election-results-and-voting-information/federal-elections-2020/\n",
    "popular_vote = pd.read_csv(\"federalelections2020.csv\")\n",
    "popular_vote.head()"
   ]
  },
  {
   "cell_type": "markdown",
   "metadata": {},
   "source": [
    "### 2020 Election Candidate Funding"
   ]
  },
  {
   "cell_type": "code",
   "execution_count": 139,
   "metadata": {},
   "outputs": [
    {
     "data": {
      "application/vnd.microsoft.datawrangler.viewer.v0+json": {
       "columns": [
        {
         "name": "index",
         "rawType": "int64",
         "type": "integer"
        },
        {
         "name": "Candidate",
         "rawType": "object",
         "type": "string"
        },
        {
         "name": "Total IEs For",
         "rawType": "int64",
         "type": "integer"
        },
        {
         "name": "Total IEs Against",
         "rawType": "int64",
         "type": "integer"
        }
       ],
       "ref": "c93a3c1f-baab-4106-81f6-79e91a614cab",
       "rows": [
        [
         "0",
         "Biden, Joseph R Jr",
         "383204094",
         "299388312"
        ],
        [
         "1",
         "Trump, Donald J.",
         "53500635",
         "308135887"
        ],
        [
         "2",
         "Warren, Elizabeth ",
         "14996979",
         "18965"
        ],
        [
         "3",
         "Buttigieg, Pete",
         "3668912",
         "30862"
        ],
        [
         "4",
         "Klobuchar, Amy J.",
         "2711204",
         "101"
        ]
       ],
       "shape": {
        "columns": 3,
        "rows": 5
       }
      },
      "text/html": [
       "<div>\n",
       "<style scoped>\n",
       "    .dataframe tbody tr th:only-of-type {\n",
       "        vertical-align: middle;\n",
       "    }\n",
       "\n",
       "    .dataframe tbody tr th {\n",
       "        vertical-align: top;\n",
       "    }\n",
       "\n",
       "    .dataframe thead th {\n",
       "        text-align: right;\n",
       "    }\n",
       "</style>\n",
       "<table border=\"1\" class=\"dataframe\">\n",
       "  <thead>\n",
       "    <tr style=\"text-align: right;\">\n",
       "      <th></th>\n",
       "      <th>Candidate</th>\n",
       "      <th>Total IEs For</th>\n",
       "      <th>Total IEs Against</th>\n",
       "    </tr>\n",
       "  </thead>\n",
       "  <tbody>\n",
       "    <tr>\n",
       "      <th>0</th>\n",
       "      <td>Biden, Joseph R Jr</td>\n",
       "      <td>383204094</td>\n",
       "      <td>299388312</td>\n",
       "    </tr>\n",
       "    <tr>\n",
       "      <th>1</th>\n",
       "      <td>Trump, Donald J.</td>\n",
       "      <td>53500635</td>\n",
       "      <td>308135887</td>\n",
       "    </tr>\n",
       "    <tr>\n",
       "      <th>2</th>\n",
       "      <td>Warren, Elizabeth</td>\n",
       "      <td>14996979</td>\n",
       "      <td>18965</td>\n",
       "    </tr>\n",
       "    <tr>\n",
       "      <th>3</th>\n",
       "      <td>Buttigieg, Pete</td>\n",
       "      <td>3668912</td>\n",
       "      <td>30862</td>\n",
       "    </tr>\n",
       "    <tr>\n",
       "      <th>4</th>\n",
       "      <td>Klobuchar, Amy J.</td>\n",
       "      <td>2711204</td>\n",
       "      <td>101</td>\n",
       "    </tr>\n",
       "  </tbody>\n",
       "</table>\n",
       "</div>"
      ],
      "text/plain": [
       "            Candidate  Total IEs For  Total IEs Against\n",
       "0  Biden, Joseph R Jr      383204094          299388312\n",
       "1    Trump, Donald J.       53500635          308135887\n",
       "2  Warren, Elizabeth        14996979              18965\n",
       "3     Buttigieg, Pete        3668912              30862\n",
       "4   Klobuchar, Amy J.        2711204                101"
      ]
     },
     "execution_count": 139,
     "metadata": {},
     "output_type": "execute_result"
    }
   ],
   "source": [
    "## Source: https://www.fec.gov/resources/campaign-finance-statistics/2020/tables/ie/IE2_2020_24m.pdf\n",
    "independent_expenditure = pd.read_csv(\"candidates_funding.csv\")\n",
    "independent_expenditure = independent_expenditure.sort_values(\n",
    "    by=[\"Total IEs For\"], ascending=False\n",
    ")\n",
    "independent_expenditure.index = range(0, len(independent_expenditure))\n",
    "independent_expenditure.head()"
   ]
  },
  {
   "cell_type": "markdown",
   "metadata": {},
   "source": [
    "### State Contributions"
   ]
  },
  {
   "cell_type": "code",
   "execution_count": 140,
   "metadata": {},
   "outputs": [
    {
     "data": {
      "application/vnd.microsoft.datawrangler.viewer.v0+json": {
       "columns": [
        {
         "name": "index",
         "rawType": "int64",
         "type": "integer"
        },
        {
         "name": "Name",
         "rawType": "object",
         "type": "string"
        },
        {
         "name": "Total Contributions",
         "rawType": "int64",
         "type": "integer"
        },
        {
         "name": "Percent to Democrats",
         "rawType": "float64",
         "type": "float"
        },
        {
         "name": "Percent to Republicans",
         "rawType": "float64",
         "type": "float"
        },
        {
         "name": "Contributions to Democrats",
         "rawType": "float64",
         "type": "float"
        },
        {
         "name": "Contributions to Republicans",
         "rawType": "float64",
         "type": "float"
        }
       ],
       "ref": "1672ae2e-acd2-4536-8bfb-7dbdaa9574b0",
       "rows": [
        [
         "0",
         "California",
         "1666572970",
         "0.6931",
         "0.2842",
         "1155101725.507",
         "473640038.074"
        ],
        [
         "1",
         "New York",
         "978988661",
         "0.7462000000000001",
         "0.2318",
         "730521338.8382001",
         "226929571.6198"
        ],
        [
         "2",
         "District of Columbia",
         "810155426",
         "0.6701",
         "0.3148",
         "542885150.9626",
         "255036928.10480002"
        ],
        [
         "3",
         "Texas",
         "687622660",
         "0.3488",
         "0.6315",
         "239842783.808",
         "434233709.78999996"
        ],
        [
         "4",
         "Florida",
         "646468276",
         "0.36920000000000003",
         "0.6108",
         "238676087.49920002",
         "394862822.98080003"
        ]
       ],
       "shape": {
        "columns": 6,
        "rows": 5
       }
      },
      "text/html": [
       "<div>\n",
       "<style scoped>\n",
       "    .dataframe tbody tr th:only-of-type {\n",
       "        vertical-align: middle;\n",
       "    }\n",
       "\n",
       "    .dataframe tbody tr th {\n",
       "        vertical-align: top;\n",
       "    }\n",
       "\n",
       "    .dataframe thead th {\n",
       "        text-align: right;\n",
       "    }\n",
       "</style>\n",
       "<table border=\"1\" class=\"dataframe\">\n",
       "  <thead>\n",
       "    <tr style=\"text-align: right;\">\n",
       "      <th></th>\n",
       "      <th>Name</th>\n",
       "      <th>Total Contributions</th>\n",
       "      <th>Percent to Democrats</th>\n",
       "      <th>Percent to Republicans</th>\n",
       "      <th>Contributions to Democrats</th>\n",
       "      <th>Contributions to Republicans</th>\n",
       "    </tr>\n",
       "  </thead>\n",
       "  <tbody>\n",
       "    <tr>\n",
       "      <th>0</th>\n",
       "      <td>California</td>\n",
       "      <td>1666572970</td>\n",
       "      <td>0.6931</td>\n",
       "      <td>0.2842</td>\n",
       "      <td>1.155102e+09</td>\n",
       "      <td>4.736400e+08</td>\n",
       "    </tr>\n",
       "    <tr>\n",
       "      <th>1</th>\n",
       "      <td>New York</td>\n",
       "      <td>978988661</td>\n",
       "      <td>0.7462</td>\n",
       "      <td>0.2318</td>\n",
       "      <td>7.305213e+08</td>\n",
       "      <td>2.269296e+08</td>\n",
       "    </tr>\n",
       "    <tr>\n",
       "      <th>2</th>\n",
       "      <td>District of Columbia</td>\n",
       "      <td>810155426</td>\n",
       "      <td>0.6701</td>\n",
       "      <td>0.3148</td>\n",
       "      <td>5.428852e+08</td>\n",
       "      <td>2.550369e+08</td>\n",
       "    </tr>\n",
       "    <tr>\n",
       "      <th>3</th>\n",
       "      <td>Texas</td>\n",
       "      <td>687622660</td>\n",
       "      <td>0.3488</td>\n",
       "      <td>0.6315</td>\n",
       "      <td>2.398428e+08</td>\n",
       "      <td>4.342337e+08</td>\n",
       "    </tr>\n",
       "    <tr>\n",
       "      <th>4</th>\n",
       "      <td>Florida</td>\n",
       "      <td>646468276</td>\n",
       "      <td>0.3692</td>\n",
       "      <td>0.6108</td>\n",
       "      <td>2.386761e+08</td>\n",
       "      <td>3.948628e+08</td>\n",
       "    </tr>\n",
       "  </tbody>\n",
       "</table>\n",
       "</div>"
      ],
      "text/plain": [
       "                   Name  Total Contributions  Percent to Democrats  \\\n",
       "0            California           1666572970                0.6931   \n",
       "1              New York            978988661                0.7462   \n",
       "2  District of Columbia            810155426                0.6701   \n",
       "3                 Texas            687622660                0.3488   \n",
       "4               Florida            646468276                0.3692   \n",
       "\n",
       "   Percent to Republicans  Contributions to Democrats  \\\n",
       "0                  0.2842                1.155102e+09   \n",
       "1                  0.2318                7.305213e+08   \n",
       "2                  0.3148                5.428852e+08   \n",
       "3                  0.6315                2.398428e+08   \n",
       "4                  0.6108                2.386761e+08   \n",
       "\n",
       "   Contributions to Republicans  \n",
       "0                  4.736400e+08  \n",
       "1                  2.269296e+08  \n",
       "2                  2.550369e+08  \n",
       "3                  4.342337e+08  \n",
       "4                  3.948628e+08  "
      ]
     },
     "execution_count": 140,
     "metadata": {},
     "output_type": "execute_result"
    }
   ],
   "source": [
    "state_contributions = pd.read_csv(\"state_spending.csv\")\n",
    "state_contributions = state_contributions.rename(\n",
    "    columns={\"State (or District)\": \"Name\"}\n",
    ").drop(columns=[\"Rank\"])\n",
    "state_contributions[\"Total Contributions\"] = (\n",
    "    state_contributions[\"Total Contributions\"].str.replace(\"$\", \"\").astype(int)\n",
    ")\n",
    "state_contributions[\"Percent to Democrats\"] = (\n",
    "    state_contributions[\"Percent to Democrats\"].str.replace(\"%\", \"\").astype(float) / 100\n",
    ")\n",
    "state_contributions[\"Percent to Republicans\"] = (\n",
    "    state_contributions[\"Percent to Republicans\"].str.replace(\"%\", \"\").astype(float)\n",
    "    / 100\n",
    ")\n",
    "state_contributions[\"Contributions to Democrats\"] = (\n",
    "    state_contributions[\"Total Contributions\"]\n",
    "    * state_contributions[\"Percent to Democrats\"]\n",
    ")\n",
    "state_contributions[\"Contributions to Republicans\"] = (\n",
    "    state_contributions[\"Total Contributions\"]\n",
    "    * state_contributions[\"Percent to Republicans\"]\n",
    ")\n",
    "state_contributions.head()"
   ]
  },
  {
   "cell_type": "markdown",
   "metadata": {},
   "source": [
    "## 3. Exploratory Data Analysis"
   ]
  },
  {
   "cell_type": "markdown",
   "metadata": {},
   "source": [
    "We conducted exploratory analysis to test the following three hypotheses:\n",
    "\n",
    "1. **Does median age correlate with political funding outcomes?**  \n",
    "   Specifically, do older states tend to contribute more to Republican or Democratic candidates?\n",
    "\n",
    "2. **Does population density correlate with voter turnout?**  \n",
    "   We explored whether people in more densely populated states are more likely to vote.\n",
    "\n",
    "3. **Does campaign spending correlate with election success?**  \n",
    "   In particular, do top-funded candidates consistently secure more votes, and is the relationship statistically significant?\n",
    "\n",
    "To answer these, we:\n",
    "- Merged and cleaned datasets from the **U.S. Census Bureau** and the **FEC**.\n",
    "- Performed statistical tests including **ANOVA**, **Tukey's HSD**, **Pearson and Spearman correlation**, and **Chi-Square** tests.\n",
    "- Created scatterplots, regression lines, and bar graphs to visualize relationships.\n",
    "- Used state-level data for the 2020 U.S. presidential election to ensure consistency and completeness.\n",
    "\n",
    "Each method helped us characterize the data, identify patterns, and evaluate the strength of relationships between variables. See the subsections below for details, plots, and conclusions."
   ]
  },
  {
   "cell_type": "markdown",
   "metadata": {},
   "source": [
    "### **Hypothesis 1**: Does median age correlate with political funding outcomes?\n",
    "\n",
    "We performed a one-way ANOVA and a Tukey's honest significant difference test. Our null hypothesis is that the proportion of contributions to Democrats/Republicans from a state is independent of its median age."
   ]
  },
  {
   "cell_type": "code",
   "execution_count": 141,
   "metadata": {},
   "outputs": [
    {
     "name": "stdout",
     "output_type": "stream",
     "text": [
      "ANOVA statistic: 5.3387, ANOVA p-value: 0.0081\n",
      "Tukey's HSD Pairwise Group Comparisons (95.0% Confidence Interval)\n",
      "Comparison  Statistic  p-value  Lower CI  Upper CI\n",
      " (0 - 1)      0.064     0.481    -0.069     0.197\n",
      " (0 - 2)      0.178     0.006     0.045     0.311\n",
      " (1 - 0)     -0.064     0.481    -0.197     0.069\n",
      " (1 - 2)      0.114     0.109    -0.020     0.247\n",
      " (2 - 0)     -0.178     0.006    -0.311    -0.045\n",
      " (2 - 1)     -0.114     0.109    -0.247     0.020\n",
      "\n"
     ]
    }
   ],
   "source": [
    "joint_df = pd.merge(left=median_age, right=state_contributions, how=\"inner\")\n",
    "joint_df = pd.merge(left=joint_df, right=population, how=\"inner\")\n",
    "joint_df.insert(\n",
    "    2,\n",
    "    \"Age Group\",\n",
    "    pd.qcut(joint_df[\"Median Age\"], q=3, labels=[\"Lower\", \"Medium\", \"Higher\"]),\n",
    ")\n",
    "\n",
    "lower = joint_df[joint_df[\"Age Group\"] == \"Lower\"][\"Percent to Republicans\"]\n",
    "medium = joint_df[joint_df[\"Age Group\"] == \"Medium\"][\"Percent to Republicans\"]\n",
    "higher = joint_df[joint_df[\"Age Group\"] == \"Higher\"][\"Percent to Republicans\"]\n",
    "\n",
    "statistic, p_value = f_oneway(lower, medium, higher)\n",
    "print(f\"ANOVA statistic: {statistic:.4f}, ANOVA p-value: {p_value:.4f}\")\n",
    "# significant, so we proceed with a post-hoc Tukey's HSD\n",
    "print(tukey_hsd(lower, medium, higher))"
   ]
  },
  {
   "cell_type": "markdown",
   "metadata": {},
   "source": [
    "#### *Visual: Median Age and Percent to Republican Candidates (ANOVA, Tukey's HSD, Regresison)*"
   ]
  },
  {
   "cell_type": "code",
   "execution_count": 142,
   "metadata": {},
   "outputs": [
    {
     "data": {
      "image/png": "[encoded data removed]",
      "text/plain": [
       "<Figure size 1000x600 with 1 Axes>"
      ]
     },
     "metadata": {},
     "output_type": "display_data"
    }
   ],
   "source": [
    "plt.figure(figsize=(10, 6))\n",
    "sns.set_theme(style=\"whitegrid\")\n",
    "\n",
    "# Regression Line\n",
    "sns.regplot(\n",
    "    data=joint_df,\n",
    "    x=\"Median Age\",\n",
    "    y=\"Percent to Republicans\",\n",
    "    scatter=False,\n",
    "    color=\"red\",\n",
    "    line_kws={\"linewidth\": 1.5},\n",
    ")\n",
    "\n",
    "# Scatter Plot\n",
    "plt.scatter(\n",
    "    x=joint_df[\"Median Age\"],\n",
    "    y=joint_df[\"Percent to Republicans\"],\n",
    "    s=joint_df[\"Population\"] / 25000,\n",
    "    alpha=0.7,\n",
    "    edgecolor=\"k\",\n",
    ")\n",
    "plt.tight_layout()\n",
    "plt.show()"
   ]
  },
  {
   "cell_type": "markdown",
   "metadata": {},
   "source": [
    "#### *Visual: Median Age and Percent to Democratic Candidates (Plot & Regression)*"
   ]
  },
  {
   "cell_type": "code",
   "execution_count": 143,
   "metadata": {},
   "outputs": [
    {
     "data": {
      "image/png": "[encoded data removed]",
      "text/plain": [
       "<Figure size 1000x600 with 1 Axes>"
      ]
     },
     "metadata": {},
     "output_type": "display_data"
    }
   ],
   "source": [
    "plt.figure(figsize=(10, 6))\n",
    "sns.set_theme(style=\"whitegrid\")\n",
    "\n",
    "# Regression Line\n",
    "sns.regplot(\n",
    "    data=joint_df,\n",
    "    x=\"Median Age\",\n",
    "    y=\"Percent to Democrats\",\n",
    "    scatter=False,\n",
    "    color=\"red\",\n",
    "    line_kws={\"linewidth\": 1.5},\n",
    ")\n",
    "\n",
    "# Scatter Plot\n",
    "plt.scatter(\n",
    "    x=joint_df[\"Median Age\"],\n",
    "    y=joint_df[\"Percent to Democrats\"],\n",
    "    s=joint_df[\"Population\"] / 25000,\n",
    "    alpha=0.7,\n",
    "    edgecolor=\"k\",\n",
    ")\n",
    "plt.tight_layout()\n",
    "plt.show()"
   ]
  },
  {
   "cell_type": "markdown",
   "metadata": {},
   "source": [
    "#### Conclusion for Hypothesis 1:\n",
    "\n",
    "There is statistically significant evidence that median age is associated with differences in political contribution patterns across states.\n",
    "- The one-way **ANOVA** results in a statistic of 5.34 and a p-value of 0.0081, indicating we can reject the null hypothesis at the 1% level. This means that the proportion of contributions to political parties is not independent of median age.\n",
    "- The **Tukey's HSD** post-hoc test shows that the largest difference in contribution patterns exists between group 0 (younger age group) and group 2 (older age group), with a statistically significant difference (p = 0.006, 95% CI = [0.045, 0.311]).\n",
    "- The **scatter plots** show:\n",
    "    - A negative trend between median age and percent of contributions to Republicans, suggesting that states with older populations may tend to contribute less to Republican candidates.\n",
    "    - A positive trend between median age and percent of contributions to Democrats, suggesting that states with older populations may tend to contribute more to Democratic candidates."
   ]
  },
  {
   "cell_type": "markdown",
   "metadata": {},
   "source": [
    "### **Hypothesis 2**: Does population density correlate to voter turnout? (Pearsons Coefficient, Spearman Coefficient, Regression)\n",
    "\n",
    "We performed a simple linear regression. We use Pearson and Spearman correlation analyses to test the null hypothesis that a state's voter turnout is independent of its population density."
   ]
  },
  {
   "cell_type": "markdown",
   "metadata": {},
   "source": [
    "#### Turnout Rate:"
   ]
  },
  {
   "cell_type": "code",
   "execution_count": 144,
   "metadata": {},
   "outputs": [
    {
     "data": {
      "application/vnd.microsoft.datawrangler.viewer.v0+json": {
       "columns": [
        {
         "name": "index",
         "rawType": "int64",
         "type": "integer"
        },
        {
         "name": "Name",
         "rawType": "object",
         "type": "string"
        },
        {
         "name": "Biden Votes",
         "rawType": "int64",
         "type": "integer"
        },
        {
         "name": "Trump Votes",
         "rawType": "int64",
         "type": "integer"
        },
        {
         "name": "Total Votes",
         "rawType": "int64",
         "type": "integer"
        },
        {
         "name": "Population",
         "rawType": "int64",
         "type": "integer"
        },
        {
         "name": "Turnout",
         "rawType": "float64",
         "type": "float"
        }
       ],
       "ref": "cb85b443-8049-44df-bc84-0b7eba850874",
       "rows": [
        [
         "0",
         "Alabama",
         "849624",
         "1441170",
         "2323282",
         "4893186",
         "0.4747994455963865"
        ],
        [
         "1",
         "Alaska",
         "153778",
         "189951",
         "359530",
         "736990",
         "0.48783565584336286"
        ],
        [
         "2",
         "Arizona",
         "1672143",
         "1661686",
         "3387326",
         "7174064",
         "0.47216277970199316"
        ],
        [
         "3",
         "Arkansas",
         "423932",
         "760647",
         "1219069",
         "3011873",
         "0.40475445013783784"
        ],
        [
         "4",
         "California",
         "11110639",
         "6006518",
         "17501380",
         "39346023",
         "0.4448068360047469"
        ]
       ],
       "shape": {
        "columns": 6,
        "rows": 5
       }
      },
      "text/html": [
       "<div>\n",
       "<style scoped>\n",
       "    .dataframe tbody tr th:only-of-type {\n",
       "        vertical-align: middle;\n",
       "    }\n",
       "\n",
       "    .dataframe tbody tr th {\n",
       "        vertical-align: top;\n",
       "    }\n",
       "\n",
       "    .dataframe thead th {\n",
       "        text-align: right;\n",
       "    }\n",
       "</style>\n",
       "<table border=\"1\" class=\"dataframe\">\n",
       "  <thead>\n",
       "    <tr style=\"text-align: right;\">\n",
       "      <th></th>\n",
       "      <th>Name</th>\n",
       "      <th>Biden Votes</th>\n",
       "      <th>Trump Votes</th>\n",
       "      <th>Total Votes</th>\n",
       "      <th>Population</th>\n",
       "      <th>Turnout</th>\n",
       "    </tr>\n",
       "  </thead>\n",
       "  <tbody>\n",
       "    <tr>\n",
       "      <th>0</th>\n",
       "      <td>Alabama</td>\n",
       "      <td>849624</td>\n",
       "      <td>1441170</td>\n",
       "      <td>2323282</td>\n",
       "      <td>4893186</td>\n",
       "      <td>0.474799</td>\n",
       "    </tr>\n",
       "    <tr>\n",
       "      <th>1</th>\n",
       "      <td>Alaska</td>\n",
       "      <td>153778</td>\n",
       "      <td>189951</td>\n",
       "      <td>359530</td>\n",
       "      <td>736990</td>\n",
       "      <td>0.487836</td>\n",
       "    </tr>\n",
       "    <tr>\n",
       "      <th>2</th>\n",
       "      <td>Arizona</td>\n",
       "      <td>1672143</td>\n",
       "      <td>1661686</td>\n",
       "      <td>3387326</td>\n",
       "      <td>7174064</td>\n",
       "      <td>0.472163</td>\n",
       "    </tr>\n",
       "    <tr>\n",
       "      <th>3</th>\n",
       "      <td>Arkansas</td>\n",
       "      <td>423932</td>\n",
       "      <td>760647</td>\n",
       "      <td>1219069</td>\n",
       "      <td>3011873</td>\n",
       "      <td>0.404754</td>\n",
       "    </tr>\n",
       "    <tr>\n",
       "      <th>4</th>\n",
       "      <td>California</td>\n",
       "      <td>11110639</td>\n",
       "      <td>6006518</td>\n",
       "      <td>17501380</td>\n",
       "      <td>39346023</td>\n",
       "      <td>0.444807</td>\n",
       "    </tr>\n",
       "  </tbody>\n",
       "</table>\n",
       "</div>"
      ],
      "text/plain": [
       "         Name  Biden Votes  Trump Votes  Total Votes  Population   Turnout\n",
       "0     Alabama       849624      1441170      2323282     4893186  0.474799\n",
       "1      Alaska       153778       189951       359530      736990  0.487836\n",
       "2     Arizona      1672143      1661686      3387326     7174064  0.472163\n",
       "3    Arkansas       423932       760647      1219069     3011873  0.404754\n",
       "4  California     11110639      6006518     17501380    39346023  0.444807"
      ]
     },
     "execution_count": 144,
     "metadata": {},
     "output_type": "execute_result"
    }
   ],
   "source": [
    "merged_pop_df = popular_vote.merge(population, on=\"Name\")\n",
    "merged_pop_df[\"Turnout\"] = merged_pop_df[\"Total Votes\"] / merged_pop_df[\"Population\"]\n",
    "\n",
    "# popular_vote['Turnout'] = popular_vote['Total Votes'] / population['Population']\n",
    "merged_pop_df.head(5)"
   ]
  },
  {
   "cell_type": "markdown",
   "metadata": {},
   "source": [
    "#### Merging the dataframes for visualization:"
   ]
  },
  {
   "cell_type": "code",
   "execution_count": 145,
   "metadata": {},
   "outputs": [
    {
     "data": {
      "application/vnd.microsoft.datawrangler.viewer.v0+json": {
       "columns": [
        {
         "name": "index",
         "rawType": "int64",
         "type": "integer"
        },
        {
         "name": "Name",
         "rawType": "object",
         "type": "string"
        },
        {
         "name": "Biden Votes",
         "rawType": "int64",
         "type": "integer"
        },
        {
         "name": "Trump Votes",
         "rawType": "int64",
         "type": "integer"
        },
        {
         "name": "Total Votes",
         "rawType": "int64",
         "type": "integer"
        },
        {
         "name": "Population",
         "rawType": "int64",
         "type": "integer"
        },
        {
         "name": "Turnout",
         "rawType": "float64",
         "type": "float"
        },
        {
         "name": "Resident Population Density",
         "rawType": "float64",
         "type": "float"
        }
       ],
       "ref": "a2c630b1-6e08-4d5d-9dcd-e6b2364a007d",
       "rows": [
        [
         "0",
         "Alabama",
         "849624",
         "1441170",
         "2323282",
         "4893186",
         "47.479944559638646",
         "99.2"
        ],
        [
         "1",
         "Alaska",
         "153778",
         "189951",
         "359530",
         "736990",
         "48.78356558433629",
         "1.3"
        ],
        [
         "2",
         "Arizona",
         "1672143",
         "1661686",
         "3387326",
         "7174064",
         "47.216277970199314",
         "62.9"
        ],
        [
         "3",
         "Arkansas",
         "423932",
         "760647",
         "1219069",
         "3011873",
         "40.475445013783784",
         "57.9"
        ],
        [
         "4",
         "California",
         "11110639",
         "6006518",
         "17501380",
         "39346023",
         "44.48068360047469",
         "253.7"
        ]
       ],
       "shape": {
        "columns": 7,
        "rows": 5
       }
      },
      "text/html": [
       "<div>\n",
       "<style scoped>\n",
       "    .dataframe tbody tr th:only-of-type {\n",
       "        vertical-align: middle;\n",
       "    }\n",
       "\n",
       "    .dataframe tbody tr th {\n",
       "        vertical-align: top;\n",
       "    }\n",
       "\n",
       "    .dataframe thead th {\n",
       "        text-align: right;\n",
       "    }\n",
       "</style>\n",
       "<table border=\"1\" class=\"dataframe\">\n",
       "  <thead>\n",
       "    <tr style=\"text-align: right;\">\n",
       "      <th></th>\n",
       "      <th>Name</th>\n",
       "      <th>Biden Votes</th>\n",
       "      <th>Trump Votes</th>\n",
       "      <th>Total Votes</th>\n",
       "      <th>Population</th>\n",
       "      <th>Turnout</th>\n",
       "      <th>Resident Population Density</th>\n",
       "    </tr>\n",
       "  </thead>\n",
       "  <tbody>\n",
       "    <tr>\n",
       "      <th>0</th>\n",
       "      <td>Alabama</td>\n",
       "      <td>849624</td>\n",
       "      <td>1441170</td>\n",
       "      <td>2323282</td>\n",
       "      <td>4893186</td>\n",
       "      <td>47.479945</td>\n",
       "      <td>99.2</td>\n",
       "    </tr>\n",
       "    <tr>\n",
       "      <th>1</th>\n",
       "      <td>Alaska</td>\n",
       "      <td>153778</td>\n",
       "      <td>189951</td>\n",
       "      <td>359530</td>\n",
       "      <td>736990</td>\n",
       "      <td>48.783566</td>\n",
       "      <td>1.3</td>\n",
       "    </tr>\n",
       "    <tr>\n",
       "      <th>2</th>\n",
       "      <td>Arizona</td>\n",
       "      <td>1672143</td>\n",
       "      <td>1661686</td>\n",
       "      <td>3387326</td>\n",
       "      <td>7174064</td>\n",
       "      <td>47.216278</td>\n",
       "      <td>62.9</td>\n",
       "    </tr>\n",
       "    <tr>\n",
       "      <th>3</th>\n",
       "      <td>Arkansas</td>\n",
       "      <td>423932</td>\n",
       "      <td>760647</td>\n",
       "      <td>1219069</td>\n",
       "      <td>3011873</td>\n",
       "      <td>40.475445</td>\n",
       "      <td>57.9</td>\n",
       "    </tr>\n",
       "    <tr>\n",
       "      <th>4</th>\n",
       "      <td>California</td>\n",
       "      <td>11110639</td>\n",
       "      <td>6006518</td>\n",
       "      <td>17501380</td>\n",
       "      <td>39346023</td>\n",
       "      <td>44.480684</td>\n",
       "      <td>253.7</td>\n",
       "    </tr>\n",
       "  </tbody>\n",
       "</table>\n",
       "</div>"
      ],
      "text/plain": [
       "         Name  Biden Votes  Trump Votes  Total Votes  Population    Turnout  \\\n",
       "0     Alabama       849624      1441170      2323282     4893186  47.479945   \n",
       "1      Alaska       153778       189951       359530      736990  48.783566   \n",
       "2     Arizona      1672143      1661686      3387326     7174064  47.216278   \n",
       "3    Arkansas       423932       760647      1219069     3011873  40.475445   \n",
       "4  California     11110639      6006518     17501380    39346023  44.480684   \n",
       "\n",
       "   Resident Population Density  \n",
       "0                         99.2  \n",
       "1                          1.3  \n",
       "2                         62.9  \n",
       "3                         57.9  \n",
       "4                        253.7  "
      ]
     },
     "execution_count": 145,
     "metadata": {},
     "output_type": "execute_result"
    }
   ],
   "source": [
    "# merging Popular Vote and Population Density and Population\n",
    "density_turnout = merged_pop_df.merge(pop_density, on=\"Name\")\n",
    "\n",
    "# Calculating turnout and adding it to the df\n",
    "density_turnout[\"Turnout\"] = (\n",
    "    density_turnout[\"Total Votes\"] / density_turnout[\"Population\"] * 100\n",
    ")\n",
    "density_turnout[\"Resident Population Density\"] = pd.to_numeric(\n",
    "    density_turnout[\"Resident Population Density\"], errors=\"coerce\"\n",
    ")\n",
    "\n",
    "# Dropping Na's\n",
    "density_turnout = density_turnout.dropna(\n",
    "    subset=[\"Resident Population Density\", \"Turnout\"]\n",
    ")\n",
    "\n",
    "density_turnout.head()"
   ]
  },
  {
   "cell_type": "markdown",
   "metadata": {},
   "source": [
    "#### The Plot:\n",
    "- x-axis: Population Density\n",
    "- y-axis: Voter Turnout\n",
    "- blue dots/points: scaled to the population size\n",
    "- red regression line"
   ]
  },
  {
   "cell_type": "code",
   "execution_count": 146,
   "metadata": {},
   "outputs": [
    {
     "data": {
      "image/png": "[encoded data removed]",
      "text/plain": [
       "<Figure size 1000x600 with 1 Axes>"
      ]
     },
     "metadata": {},
     "output_type": "display_data"
    },
    {
     "name": "stdout",
     "output_type": "stream",
     "text": [
      "Pearson correlation: 0.070, p-value: 0.636\n",
      "Spearman correlation: 0.051, p-value: 0.733\n"
     ]
    }
   ],
   "source": [
    "plt.figure(figsize=(10, 6))\n",
    "sns.set_theme(style=\"whitegrid\")\n",
    "\n",
    "# Regression Line\n",
    "sns.regplot(\n",
    "    data=density_turnout,\n",
    "    x=\"Resident Population Density\",\n",
    "    y=\"Turnout\",\n",
    "    scatter=False,\n",
    "    color=\"red\",\n",
    "    line_kws={\"linewidth\": 1.5},\n",
    ")\n",
    "\n",
    "\n",
    "# Scatter Plot\n",
    "plt.scatter(\n",
    "    x=density_turnout[\"Resident Population Density\"],\n",
    "    y=density_turnout[\"Turnout\"],\n",
    "    s=density_turnout[\"Population\"] / 25000,\n",
    "    alpha=0.7,\n",
    "    edgecolor=\"k\",\n",
    ")\n",
    "\n",
    "plt.xlabel(\"Population Density (people per sq. mile)\")\n",
    "plt.ylabel(\"Voter Turnout (%)\")\n",
    "plt.title(\"Population Density vs Voter Turnout (2020)\")\n",
    "plt.tight_layout()\n",
    "plt.show()\n",
    "\n",
    "# Pearson Correlation\n",
    "p_corr, p_p = pearsonr(\n",
    "    density_turnout[\"Resident Population Density\"], density_turnout[\"Turnout\"]\n",
    ")\n",
    "print(f\"Pearson correlation: {p_corr:.3f}, p-value: {p_p:.3g}\")\n",
    "\n",
    "# Spearman Correlation\n",
    "s_corr, s_p = spearmanr(\n",
    "    density_turnout[\"Resident Population Density\"], density_turnout[\"Turnout\"]\n",
    ")\n",
    "print(f\"Spearman correlation: {s_corr:.3f}, p-value: {s_p:.3g}\")"
   ]
  },
  {
   "cell_type": "markdown",
   "metadata": {},
   "source": [
    "#### Conclusion for Hypothesis 2:\n",
    "\n",
    "There is no significant correlation between population density and voter turnout across states.\n",
    "- The **Pearson** correlation coefficient is 0.070 and the **Spearman** correlation coefficient is 0.051. Both indicating a very weak positive relationship.\n",
    "- The p-values for both tests exceed 0.05, meaning the correlations are not statistically significant.\n",
    "- We therefore fail to reject the null hypothesis that population density and voter turnout are unrelated.\n",
    "- This finding is also supported by the scatter plot, which shows no clear trend or pattern between the two variables."
   ]
  },
  {
   "cell_type": "markdown",
   "metadata": {},
   "source": [
    "### Hypothesis 3: Does campaign spending correlate with election success? (Pearson's Chi-square)\n",
    "\n",
    "For simplicity, we would just use Total IEs in this test, and we only decided to display the top 4 candidates who received most fund."
   ]
  },
  {
   "cell_type": "code",
   "execution_count": 147,
   "metadata": {},
   "outputs": [
    {
     "data": {
      "application/vnd.microsoft.datawrangler.viewer.v0+json": {
       "columns": [
        {
         "name": "index",
         "rawType": "int64",
         "type": "integer"
        },
        {
         "name": "Candidate",
         "rawType": "object",
         "type": "string"
        },
        {
         "name": "Total IEs For",
         "rawType": "int64",
         "type": "integer"
        },
        {
         "name": "Total IEs Against",
         "rawType": "int64",
         "type": "integer"
        }
       ],
       "ref": "e353b0bd-7b76-4513-9b5b-6f94a2427969",
       "rows": [
        [
         "0",
         "Biden, Joseph R Jr",
         "383204094",
         "299388312"
        ],
        [
         "1",
         "Trump, Donald J.",
         "53500635",
         "308135887"
        ],
        [
         "2",
         "Warren, Elizabeth ",
         "14996979",
         "18965"
        ],
        [
         "3",
         "Buttigieg, Pete",
         "3668912",
         "30862"
        ],
        [
         "4",
         "Klobuchar, Amy J.",
         "2711204",
         "101"
        ]
       ],
       "shape": {
        "columns": 3,
        "rows": 5
       }
      },
      "text/html": [
       "<div>\n",
       "<style scoped>\n",
       "    .dataframe tbody tr th:only-of-type {\n",
       "        vertical-align: middle;\n",
       "    }\n",
       "\n",
       "    .dataframe tbody tr th {\n",
       "        vertical-align: top;\n",
       "    }\n",
       "\n",
       "    .dataframe thead th {\n",
       "        text-align: right;\n",
       "    }\n",
       "</style>\n",
       "<table border=\"1\" class=\"dataframe\">\n",
       "  <thead>\n",
       "    <tr style=\"text-align: right;\">\n",
       "      <th></th>\n",
       "      <th>Candidate</th>\n",
       "      <th>Total IEs For</th>\n",
       "      <th>Total IEs Against</th>\n",
       "    </tr>\n",
       "  </thead>\n",
       "  <tbody>\n",
       "    <tr>\n",
       "      <th>0</th>\n",
       "      <td>Biden, Joseph R Jr</td>\n",
       "      <td>383204094</td>\n",
       "      <td>299388312</td>\n",
       "    </tr>\n",
       "    <tr>\n",
       "      <th>1</th>\n",
       "      <td>Trump, Donald J.</td>\n",
       "      <td>53500635</td>\n",
       "      <td>308135887</td>\n",
       "    </tr>\n",
       "    <tr>\n",
       "      <th>2</th>\n",
       "      <td>Warren, Elizabeth</td>\n",
       "      <td>14996979</td>\n",
       "      <td>18965</td>\n",
       "    </tr>\n",
       "    <tr>\n",
       "      <th>3</th>\n",
       "      <td>Buttigieg, Pete</td>\n",
       "      <td>3668912</td>\n",
       "      <td>30862</td>\n",
       "    </tr>\n",
       "    <tr>\n",
       "      <th>4</th>\n",
       "      <td>Klobuchar, Amy J.</td>\n",
       "      <td>2711204</td>\n",
       "      <td>101</td>\n",
       "    </tr>\n",
       "  </tbody>\n",
       "</table>\n",
       "</div>"
      ],
      "text/plain": [
       "            Candidate  Total IEs For  Total IEs Against\n",
       "0  Biden, Joseph R Jr      383204094          299388312\n",
       "1    Trump, Donald J.       53500635          308135887\n",
       "2  Warren, Elizabeth        14996979              18965\n",
       "3     Buttigieg, Pete        3668912              30862\n",
       "4   Klobuchar, Amy J.        2711204                101"
      ]
     },
     "metadata": {},
     "output_type": "display_data"
    },
    {
     "data": {
      "image/png": "[encoded data removed]",
      "text/plain": [
       "<Figure size 2000x1000 with 1 Axes>"
      ]
     },
     "metadata": {},
     "output_type": "display_data"
    }
   ],
   "source": [
    "display(independent_expenditure.head())\n",
    "independent_expenditure = independent_expenditure[[\"Candidate\", \"Total IEs For\"]]\n",
    "plt.figure(figsize=(20, 10))\n",
    "plt.bar(\n",
    "    independent_expenditure[\"Candidate\"],\n",
    "    independent_expenditure[\"Total IEs For\"],\n",
    "    width=1,\n",
    ")\n",
    "plt.xlabel(\"Candidates\")\n",
    "plt.ylabel(\"IEs\")\n",
    "plt.xlim(0, 4)\n",
    "plt.tight_layout()\n",
    "plt.show()"
   ]
  },
  {
   "cell_type": "markdown",
   "metadata": {},
   "source": [
    "#### Chi-Square Test:"
   ]
  },
  {
   "cell_type": "code",
   "execution_count": 148,
   "metadata": {},
   "outputs": [
    {
     "name": "stdout",
     "output_type": "stream",
     "text": [
      "P-value: 4.23797729142689e-06\n"
     ]
    }
   ],
   "source": [
    "df = independent_expenditure.copy()\n",
    "signifs = [\"Biden, Joseph R Jr\", \"Trump, Donald J.\"]\n",
    "df[\"Group\"] = np.where(df[\"Candidate\"].isin(signifs), \"Top2\", \"Others\")\n",
    "df[\"SpendCat\"] = df[\"Total IEs For\"].apply(lambda x: \"High\" if x > 20000000 else \"Low\")\n",
    "table = pd.crosstab(df[\"Group\"], df[\"SpendCat\"])\n",
    "chi2, p_value, dof, expected = chi2_contingency(table)\n",
    "print(f\"P-value: {p_value}\")"
   ]
  },
  {
   "cell_type": "markdown",
   "metadata": {},
   "source": [
    "#### Conclusion for Hypothesis 3:\n",
    "- The chi-square test yielded a p-value of 4.24e-06, which is well below the standard alpha level of 0.05. This allows us to reject the null hypothesis, indicating a statistically significant correlation between a candidate’s level of campaign spending and their success.\n",
    "- The bar graph visually reinforces this conclusion: the top-performing candidates in the election (e.g., Biden and Trump) also received the highest levels of independent expenditures, while less competitive candidates received less."
   ]
  },
  {
   "cell_type": "markdown",
   "metadata": {},
   "source": [
    "## 4. Machine Learning Analysis"
   ]
  },
  {
   "cell_type": "markdown",
   "metadata": {},
   "source": [
    "We will use a Model to predict total campaign contributions using\n",
    "- Median Household Income\n",
    "- Median Age\n",
    "- Total Population\n",
    "\n",
    "This model helps us understand how demographic factors influence financial engagement in U.S. elections. Initially we collected this data based only on states.\n",
    "But we realized that 50 state sample size was too small for reliable machine learning. To improve our model, we expanded to county-level data.\n",
    "\n",
    "This model would offer value to campaigns:\n",
    "- Candidates can identify high-potential fundraising areas based on local demographics\n",
    "- Instead of targeting entire states, campaigns can prioritize specific counties likely to yield more contributions\n",
    "\n",
    "**Overall, this approach transforms demographics into a predictive fundraising map, helping campaigns allocate resources more effectively based on data.**"
   ]
  },
  {
   "cell_type": "markdown",
   "metadata": {},
   "source": [
    "### **County** Median Age, Income, and Total Population"
   ]
  },
  {
   "cell_type": "code",
   "execution_count": 149,
   "metadata": {},
   "outputs": [],
   "source": [
    "\n",
    "all_counties = []\n",
    "# Variables:\n",
    "# B19013_001E → Median Household Income\n",
    "# B01003_001E → Total Population\n",
    "# B01002_001E → Median Age\n",
    "variables = (\"NAME\", \"B19013_001E\", \"B01003_001E\", \"B01002_001E\")\n",
    "\n",
    "for state in states.STATES:\n",
    "    try:\n",
    "        county_data = c.acs5.get(\n",
    "            variables,\n",
    "            {'for': 'county:*', 'in': f'state:{state.fips}'}\n",
    "        )\n",
    "        for row in county_data:\n",
    "            row['state_name'] = state.name #state name is included\n",
    "        all_counties.extend(county_data)\n",
    "    except Exception as e:\n",
    "        print(f\"Error retrieving data for {state.name}: {e}\")\n",
    "\n",
    "county_df = pd.DataFrame(all_counties)\n",
    "county_df.rename(columns={\n",
    "    \"NAME\": \"County Name\",\n",
    "    \"B19013_001E\": \"Median Income\",\n",
    "    \"B01003_001E\": \"Population\",\n",
    "    \"B01002_001E\": \"Median Age\",\n",
    "    \"state\": \"State FIPS\",\n",
    "    \"county\": \"County FIPS\",\n",
    "    \"state_name\": \"State\"\n",
    "}, inplace=True)\n",
    "\n",
    "# Convert to numeric\n",
    "for col in [\"Median Income\", \"Population\", \"Median Age\"]:\n",
    "    county_df[col] = pd.to_numeric(county_df[col], errors='coerce')\n"
   ]
  },
  {
   "cell_type": "code",
   "execution_count": 150,
   "metadata": {},
   "outputs": [
    {
     "name": "stdout",
     "output_type": "stream",
     "text": [
      "(3142, 7)\n"
     ]
    },
    {
     "data": {
      "application/vnd.microsoft.datawrangler.viewer.v0+json": {
       "columns": [
        {
         "name": "index",
         "rawType": "int64",
         "type": "integer"
        },
        {
         "name": "County Name",
         "rawType": "object",
         "type": "string"
        },
        {
         "name": "Median Income",
         "rawType": "float64",
         "type": "float"
        },
        {
         "name": "Population",
         "rawType": "float64",
         "type": "float"
        },
        {
         "name": "Median Age",
         "rawType": "float64",
         "type": "float"
        },
        {
         "name": "State FIPS",
         "rawType": "object",
         "type": "string"
        },
        {
         "name": "County FIPS",
         "rawType": "object",
         "type": "string"
        },
        {
         "name": "State",
         "rawType": "object",
         "type": "string"
        }
       ],
       "ref": "ad1670fa-f0d0-4729-8267-71c9580e67b5",
       "rows": [
        [
         "0",
         "Autauga County, Alabama",
         "57982.0",
         "55639.0",
         "38.6",
         "01",
         "001",
         "Alabama"
        ],
        [
         "1",
         "Baldwin County, Alabama",
         "61756.0",
         "218289.0",
         "43.2",
         "01",
         "003",
         "Alabama"
        ],
        [
         "2",
         "Barbour County, Alabama",
         "34990.0",
         "25026.0",
         "40.1",
         "01",
         "005",
         "Alabama"
        ],
        [
         "3",
         "Bibb County, Alabama",
         "51721.0",
         "22374.0",
         "39.9",
         "01",
         "007",
         "Alabama"
        ],
        [
         "4",
         "Blount County, Alabama",
         "48922.0",
         "57755.0",
         "41.0",
         "01",
         "009",
         "Alabama"
        ],
        [
         "5",
         "Bullock County, Alabama",
         "33866.0",
         "10173.0",
         "39.7",
         "01",
         "011",
         "Alabama"
        ],
        [
         "6",
         "Butler County, Alabama",
         "44850.0",
         "19726.0",
         "41.2",
         "01",
         "013",
         "Alabama"
        ],
        [
         "7",
         "Calhoun County, Alabama",
         "50128.0",
         "114324.0",
         "39.5",
         "01",
         "015",
         "Alabama"
        ],
        [
         "8",
         "Cherokee County, Alabama",
         "42509.0",
         "26035.0",
         "46.8",
         "01",
         "019",
         "Alabama"
        ],
        [
         "9",
         "Chilton County, Alabama",
         "52141.0",
         "44147.0",
         "39.5",
         "01",
         "021",
         "Alabama"
        ],
        [
         "10",
         "Choctaw County, Alabama",
         "36634.0",
         "12755.0",
         "46.6",
         "01",
         "023",
         "Alabama"
        ],
        [
         "11",
         "Clarke County, Alabama",
         "37345.0",
         "23866.0",
         "42.9",
         "01",
         "025",
         "Alabama"
        ],
        [
         "12",
         "Clay County, Alabama",
         "42678.0",
         "13285.0",
         "43.4",
         "01",
         "027",
         "Alabama"
        ],
        [
         "13",
         "Cleburne County, Alabama",
         "46320.0",
         "14952.0",
         "43.1",
         "01",
         "029",
         "Alabama"
        ],
        [
         "14",
         "Coffee County, Alabama",
         "56799.0",
         "52238.0",
         "39.5",
         "01",
         "031",
         "Alabama"
        ],
        [
         "15",
         "Colbert County, Alabama",
         "47962.0",
         "54957.0",
         "42.5",
         "01",
         "033",
         "Alabama"
        ],
        [
         "16",
         "Conecuh County, Alabama",
         "35444.0",
         "12219.0",
         "45.2",
         "01",
         "035",
         "Alabama"
        ],
        [
         "17",
         "Coosa County, Alabama",
         "43571.0",
         "10696.0",
         "49.0",
         "01",
         "037",
         "Alabama"
        ],
        [
         "18",
         "Crenshaw County, Alabama",
         "42611.0",
         "13826.0",
         "42.3",
         "01",
         "041",
         "Alabama"
        ],
        [
         "19",
         "Cullman County, Alabama",
         "48388.0",
         "83345.0",
         "41.2",
         "01",
         "043",
         "Alabama"
        ],
        [
         "20",
         "Dallas County, Alabama",
         "33317.0",
         "38184.0",
         "39.6",
         "01",
         "047",
         "Alabama"
        ],
        [
         "21",
         "DeKalb County, Alabama",
         "42267.0",
         "71430.0",
         "39.6",
         "01",
         "049",
         "Alabama"
        ],
        [
         "22",
         "Escambia County, Alabama",
         "35558.0",
         "36775.0",
         "39.4",
         "01",
         "053",
         "Alabama"
        ],
        [
         "23",
         "Etowah County, Alabama",
         "44934.0",
         "102721.0",
         "41.3",
         "01",
         "055",
         "Alabama"
        ],
        [
         "24",
         "Franklin County, Alabama",
         "41174.0",
         "31587.0",
         "39.2",
         "01",
         "059",
         "Alabama"
        ],
        [
         "25",
         "Greene County, Alabama",
         "26688.0",
         "8221.0",
         "44.6",
         "01",
         "063",
         "Alabama"
        ],
        [
         "26",
         "Hale County, Alabama",
         "30793.0",
         "14754.0",
         "40.8",
         "01",
         "065",
         "Alabama"
        ],
        [
         "27",
         "Houston County, Alabama",
         "49069.0",
         "105319.0",
         "40.2",
         "01",
         "069",
         "Alabama"
        ],
        [
         "28",
         "Jackson County, Alabama",
         "42578.0",
         "51765.0",
         "43.0",
         "01",
         "071",
         "Alabama"
        ],
        [
         "29",
         "Lamar County, Alabama",
         "42688.0",
         "13854.0",
         "44.3",
         "01",
         "075",
         "Alabama"
        ],
        [
         "30",
         "Lauderdale County, Alabama",
         "48428.0",
         "92870.0",
         "41.3",
         "01",
         "077",
         "Alabama"
        ],
        [
         "31",
         "Lee County, Alabama",
         "52930.0",
         "163461.0",
         "32.4",
         "01",
         "081",
         "Alabama"
        ],
        [
         "32",
         "Lowndes County, Alabama",
         "33634.0",
         "9936.0",
         "42.5",
         "01",
         "085",
         "Alabama"
        ],
        [
         "33",
         "Macon County, Alabama",
         "35450.0",
         "18437.0",
         "38.7",
         "01",
         "087",
         "Alabama"
        ],
        [
         "34",
         "Marengo County, Alabama",
         "33029.0",
         "19138.0",
         "41.8",
         "01",
         "091",
         "Alabama"
        ],
        [
         "35",
         "Marion County, Alabama",
         "40978.0",
         "29818.0",
         "44.5",
         "01",
         "093",
         "Alabama"
        ],
        [
         "36",
         "Mobile County, Alabama",
         "49625.0",
         "413977.0",
         "38.1",
         "01",
         "097",
         "Alabama"
        ],
        [
         "37",
         "Monroe County, Alabama",
         "31969.0",
         "21006.0",
         "43.5",
         "01",
         "099",
         "Alabama"
        ],
        [
         "38",
         "Morgan County, Alabama",
         "52923.0",
         "119352.0",
         "40.5",
         "01",
         "103",
         "Alabama"
        ],
        [
         "39",
         "Pickens County, Alabama",
         "40362.0",
         "20049.0",
         "42.5",
         "01",
         "107",
         "Alabama"
        ],
        [
         "40",
         "Pike County, Alabama",
         "39218.0",
         "33274.0",
         "30.8",
         "01",
         "109",
         "Alabama"
        ],
        [
         "41",
         "Russell County, Alabama",
         "42208.0",
         "57938.0",
         "36.7",
         "01",
         "113",
         "Alabama"
        ],
        [
         "42",
         "St. Clair County, Alabama",
         "62531.0",
         "88929.0",
         "40.5",
         "01",
         "115",
         "Alabama"
        ],
        [
         "43",
         "Sumter County, Alabama",
         "26150.0",
         "12595.0",
         "35.7",
         "01",
         "119",
         "Alabama"
        ],
        [
         "44",
         "Tallapoosa County, Alabama",
         "48160.0",
         "40450.0",
         "45.0",
         "01",
         "123",
         "Alabama"
        ],
        [
         "45",
         "Tuscaloosa County, Alabama",
         "54283.0",
         "208854.0",
         "33.2",
         "01",
         "125",
         "Alabama"
        ],
        [
         "46",
         "Washington County, Alabama",
         "42331.0",
         "16336.0",
         "43.8",
         "01",
         "129",
         "Alabama"
        ],
        [
         "47",
         "Wilcox County, Alabama",
         "35063.0",
         "10552.0",
         "40.9",
         "01",
         "131",
         "Alabama"
        ],
        [
         "48",
         "Chambers County, Alabama",
         "43875.0",
         "33427.0",
         "41.9",
         "01",
         "017",
         "Alabama"
        ],
        [
         "49",
         "Covington County, Alabama",
         "42566.0",
         "37096.0",
         "43.3",
         "01",
         "039",
         "Alabama"
        ]
       ],
       "shape": {
        "columns": 7,
        "rows": 100
       }
      },
      "text/html": [
       "<div>\n",
       "<style scoped>\n",
       "    .dataframe tbody tr th:only-of-type {\n",
       "        vertical-align: middle;\n",
       "    }\n",
       "\n",
       "    .dataframe tbody tr th {\n",
       "        vertical-align: top;\n",
       "    }\n",
       "\n",
       "    .dataframe thead th {\n",
       "        text-align: right;\n",
       "    }\n",
       "</style>\n",
       "<table border=\"1\" class=\"dataframe\">\n",
       "  <thead>\n",
       "    <tr style=\"text-align: right;\">\n",
       "      <th></th>\n",
       "      <th>County Name</th>\n",
       "      <th>Median Income</th>\n",
       "      <th>Population</th>\n",
       "      <th>Median Age</th>\n",
       "      <th>State FIPS</th>\n",
       "      <th>County FIPS</th>\n",
       "      <th>State</th>\n",
       "    </tr>\n",
       "  </thead>\n",
       "  <tbody>\n",
       "    <tr>\n",
       "      <th>0</th>\n",
       "      <td>Autauga County, Alabama</td>\n",
       "      <td>57982.0</td>\n",
       "      <td>55639.0</td>\n",
       "      <td>38.6</td>\n",
       "      <td>01</td>\n",
       "      <td>001</td>\n",
       "      <td>Alabama</td>\n",
       "    </tr>\n",
       "    <tr>\n",
       "      <th>1</th>\n",
       "      <td>Baldwin County, Alabama</td>\n",
       "      <td>61756.0</td>\n",
       "      <td>218289.0</td>\n",
       "      <td>43.2</td>\n",
       "      <td>01</td>\n",
       "      <td>003</td>\n",
       "      <td>Alabama</td>\n",
       "    </tr>\n",
       "    <tr>\n",
       "      <th>2</th>\n",
       "      <td>Barbour County, Alabama</td>\n",
       "      <td>34990.0</td>\n",
       "      <td>25026.0</td>\n",
       "      <td>40.1</td>\n",
       "      <td>01</td>\n",
       "      <td>005</td>\n",
       "      <td>Alabama</td>\n",
       "    </tr>\n",
       "    <tr>\n",
       "      <th>3</th>\n",
       "      <td>Bibb County, Alabama</td>\n",
       "      <td>51721.0</td>\n",
       "      <td>22374.0</td>\n",
       "      <td>39.9</td>\n",
       "      <td>01</td>\n",
       "      <td>007</td>\n",
       "      <td>Alabama</td>\n",
       "    </tr>\n",
       "    <tr>\n",
       "      <th>4</th>\n",
       "      <td>Blount County, Alabama</td>\n",
       "      <td>48922.0</td>\n",
       "      <td>57755.0</td>\n",
       "      <td>41.0</td>\n",
       "      <td>01</td>\n",
       "      <td>009</td>\n",
       "      <td>Alabama</td>\n",
       "    </tr>\n",
       "    <tr>\n",
       "      <th>...</th>\n",
       "      <td>...</td>\n",
       "      <td>...</td>\n",
       "      <td>...</td>\n",
       "      <td>...</td>\n",
       "      <td>...</td>\n",
       "      <td>...</td>\n",
       "      <td>...</td>\n",
       "    </tr>\n",
       "    <tr>\n",
       "      <th>95</th>\n",
       "      <td>Prince of Wales-Hyder Census Area, Alaska</td>\n",
       "      <td>54018.0</td>\n",
       "      <td>6338.0</td>\n",
       "      <td>42.1</td>\n",
       "      <td>02</td>\n",
       "      <td>198</td>\n",
       "      <td>Alaska</td>\n",
       "    </tr>\n",
       "    <tr>\n",
       "      <th>96</th>\n",
       "      <td>Southeast Fairbanks Census Area, Alaska</td>\n",
       "      <td>66941.0</td>\n",
       "      <td>6911.0</td>\n",
       "      <td>36.8</td>\n",
       "      <td>02</td>\n",
       "      <td>240</td>\n",
       "      <td>Alaska</td>\n",
       "    </tr>\n",
       "    <tr>\n",
       "      <th>97</th>\n",
       "      <td>Apache County, Arizona</td>\n",
       "      <td>33967.0</td>\n",
       "      <td>71714.0</td>\n",
       "      <td>35.4</td>\n",
       "      <td>04</td>\n",
       "      <td>001</td>\n",
       "      <td>Arizona</td>\n",
       "    </tr>\n",
       "    <tr>\n",
       "      <th>98</th>\n",
       "      <td>Cochise County, Arizona</td>\n",
       "      <td>51505.0</td>\n",
       "      <td>126442.0</td>\n",
       "      <td>41.0</td>\n",
       "      <td>04</td>\n",
       "      <td>003</td>\n",
       "      <td>Arizona</td>\n",
       "    </tr>\n",
       "    <tr>\n",
       "      <th>99</th>\n",
       "      <td>Coconino County, Arizona</td>\n",
       "      <td>59000.0</td>\n",
       "      <td>142254.0</td>\n",
       "      <td>31.0</td>\n",
       "      <td>04</td>\n",
       "      <td>005</td>\n",
       "      <td>Arizona</td>\n",
       "    </tr>\n",
       "  </tbody>\n",
       "</table>\n",
       "<p>100 rows × 7 columns</p>\n",
       "</div>"
      ],
      "text/plain": [
       "                                  County Name  Median Income  Population  \\\n",
       "0                     Autauga County, Alabama        57982.0     55639.0   \n",
       "1                     Baldwin County, Alabama        61756.0    218289.0   \n",
       "2                     Barbour County, Alabama        34990.0     25026.0   \n",
       "3                        Bibb County, Alabama        51721.0     22374.0   \n",
       "4                      Blount County, Alabama        48922.0     57755.0   \n",
       "..                                        ...            ...         ...   \n",
       "95  Prince of Wales-Hyder Census Area, Alaska        54018.0      6338.0   \n",
       "96    Southeast Fairbanks Census Area, Alaska        66941.0      6911.0   \n",
       "97                     Apache County, Arizona        33967.0     71714.0   \n",
       "98                    Cochise County, Arizona        51505.0    126442.0   \n",
       "99                   Coconino County, Arizona        59000.0    142254.0   \n",
       "\n",
       "    Median Age State FIPS County FIPS    State  \n",
       "0         38.6         01         001  Alabama  \n",
       "1         43.2         01         003  Alabama  \n",
       "2         40.1         01         005  Alabama  \n",
       "3         39.9         01         007  Alabama  \n",
       "4         41.0         01         009  Alabama  \n",
       "..         ...        ...         ...      ...  \n",
       "95        42.1         02         198   Alaska  \n",
       "96        36.8         02         240   Alaska  \n",
       "97        35.4         04         001  Arizona  \n",
       "98        41.0         04         003  Arizona  \n",
       "99        31.0         04         005  Arizona  \n",
       "\n",
       "[100 rows x 7 columns]"
      ]
     },
     "execution_count": 150,
     "metadata": {},
     "output_type": "execute_result"
    }
   ],
   "source": [
    "print(county_df.shape)\n",
    "county_df.head(100)"
   ]
  },
  {
   "cell_type": "markdown",
   "metadata": {},
   "source": [
    "### Individual Contributions"
   ]
  },
  {
   "cell_type": "code",
   "execution_count": 151,
   "metadata": {},
   "outputs": [],
   "source": [
    "import zipcodes\n",
    "import re\n",
    "\n",
    "# https://code.activestate.com/recipes/577305-python-dictionary-of-us-states-and-territories/\n",
    "state_names = {\n",
    "    'AL': 'Alabama',\n",
    "    'AK': 'Alaska',\n",
    "    'AZ': 'Arizona',\n",
    "    'AR': 'Arkansas',\n",
    "    'CA': 'California',\n",
    "    'CO': 'Colorado',\n",
    "    'CT': 'Connecticut',\n",
    "    'DE': 'Delaware',\n",
    "    'FL': 'Florida',\n",
    "    'GA': 'Georgia',\n",
    "    'HI': 'Hawaii',\n",
    "    'ID': 'Idaho',\n",
    "    'IL': 'Illinois',\n",
    "    'IN': 'Indiana',\n",
    "    'IA': 'Iowa',\n",
    "    'KS': 'Kansas',\n",
    "    'KY': 'Kentucky',\n",
    "    'LA': 'Louisiana',\n",
    "    'ME': 'Maine',\n",
    "    'MD': 'Maryland',\n",
    "    'MA': 'Massachusetts',\n",
    "    'MI': 'Michigan',\n",
    "    'MN': 'Minnesota',\n",
    "    'MS': 'Mississippi',\n",
    "    'MO': 'Missouri',\n",
    "    'MT': 'Montana',\n",
    "    'NE': 'Nebraska',\n",
    "    'NV': 'Nevada',\n",
    "    'NH': 'New Hampshire',\n",
    "    'NJ': 'New Jersey',\n",
    "    'NM': 'New Mexico',\n",
    "    'NY': 'New York',\n",
    "    'NC': 'North Carolina',\n",
    "    'ND': 'North Dakota',\n",
    "    'OH': 'Ohio',\n",
    "    'OK': 'Oklahoma',\n",
    "    'OR': 'Oregon',\n",
    "    'PA': 'Pennsylvania',\n",
    "    'RI': 'Rhode Island',\n",
    "    'SC': 'South Carolina',\n",
    "    'SD': 'South Dakota',\n",
    "    'TN': 'Tennessee',\n",
    "    'TX': 'Texas',\n",
    "    'UT': 'Utah',\n",
    "    'VT': 'Vermont',\n",
    "    'VA': 'Virginia',\n",
    "    'WA': 'Washington',\n",
    "    'WV': 'West Virginia',\n",
    "    'WI': 'Wisconsin',\n",
    "    'WY': 'Wyoming',\n",
    "    \n",
    "    'AS': 'American Samoa',\n",
    "    'DC': 'District of Columbia',\n",
    "    'GU': 'Guam',\n",
    "    'MP': 'Northern Mariana Islands',\n",
    "    'PR': 'Puerto Rico',\n",
    "    'VI': 'U.S. Virgin Islands',\n",
    "    \n",
    "    'AA': 'Armed Forces Americas',\n",
    "    'AE': 'Armed Forces Europe',\n",
    "    'AP': 'Armed Forces Pacific'\n",
    "}\n",
    "\n",
    "def zip_to_state(zip_code):\n",
    "    if zip_code:\n",
    "        matches = zipcodes.matching(zip_code)\n",
    "        return matches[0]['state'] if matches else None\n",
    "    else:\n",
    "        return None\n",
    "\n",
    "# County Name, State\n",
    "def zip_to_county(zip_code):\n",
    "    matches = zipcodes.matching(zip_code)\n",
    "    if matches:\n",
    "        if matches[0]['county'] and (matches[0]['state'] in state_names):\n",
    "            return matches[0]['county'] + \", \" + state_names[matches[0]['state']]\n",
    "        else:\n",
    "            return None\n",
    "    else:\n",
    "        return None\n",
    "\n",
    "def clean_zip(zip_code):\n",
    "    if zip_code is None or pd.isna(zip_code):\n",
    "        return None\n",
    "    \n",
    "    zip_code = str(zip_code).strip()\n",
    "\n",
    "    if not re.fullmatch(r'\\d+', zip_code):\n",
    "        return None\n",
    "    \n",
    "    return zip_code[:5].zfill(5)\n"
   ]
  },
  {
   "cell_type": "markdown",
   "metadata": {},
   "source": [
    "#### Sampling Individual Contributions\n",
    "There were over 69 million campaign total campaign contributions for the 2020 election cycle, and to cope our current technical limitations, we use only a portion of these. Our data is restricted to the time period of 2020-09-02 to 2020-11-26, the time closest to the elections where we believe the most important political activity would occur."
   ]
  },
  {
   "cell_type": "code",
   "execution_count": 152,
   "metadata": {},
   "outputs": [],
   "source": [
    "header = [\n",
    "    \"CMTE_ID\",\n",
    "    \"AMNDT_IND\",\n",
    "    \"RPT_TP\",\n",
    "    \"TRANSACTION_PGI\",\n",
    "    \"IMAGE_NUM\",\n",
    "    \"TRANSACTION_TP\",\n",
    "    \"ENTITY_TP\",\n",
    "    \"NAME\",\n",
    "    \"CITY\",\n",
    "    \"STATE\",\n",
    "    \"ZIP_CODE\",\n",
    "    \"EMPLOYER\",\n",
    "    \"OCCUPATION\",\n",
    "    \"TRANSACTION_DT\",\n",
    "    \"TRANSACTION_AMT\",\n",
    "    \"OTHER_ID\",\n",
    "    \"TRAN_ID\",\n",
    "    \"FILE_NUM\",\n",
    "    \"MEMO_CD\",\n",
    "    \"MEMO_TEXT\",\n",
    "    \"SUB_ID\"\n",
    "]\n",
    "\n",
    "# data from https://www.fec.gov/data/browse-data/?tab=bulk-data, contributions by individuals\n",
    "files = [\n",
    "    \"by_date/itcont_2020_20200902_20200911.txt\", \n",
    "    \"by_date/itcont_2020_20200912_20200919.txt\",\n",
    "    \"by_date/itcont_2020_20200920_20200925.txt\",\n",
    "    \"by_date/itcont_2020_20200926_20200930.txt\",\n",
    "    \"by_date/itcont_2020_20200930_20201004.txt\",\n",
    "    \"by_date/itcont_2020_20201005_20201010.txt\",\n",
    "    \"by_date/itcont_2020_20201011_20201014.txt\",\n",
    "    \"by_date/itcont_2020_20201015_20201018.txt\",\n",
    "    \"by_date/itcont_2020_20201019_20201022.txt\",\n",
    "    \"by_date/itcont_2020_20201023_20201026.txt\",\n",
    "    \"by_date/itcont_2020_20201027_20201030.txt\",\n",
    "    \"by_date/itcont_2020_20201030_20201101.txt\",\n",
    "    \"by_date/itcont_2020_20201102_20201106.txt\",\n",
    "    \"by_date/itcont_2020_20201107_20201115.txt\",\n",
    "    \"by_date/itcont_2020_20201116_20201126.txt\"\n",
    "]\n",
    "\n",
    "# chunks = []\n",
    "# i = 1\n",
    "# for file in files:\n",
    "#     chunk = pd.read_csv(file, sep = '|', names = header, on_bad_lines = 'skip', usecols=['ZIP_CODE', 'TRANSACTION_AMT'])\n",
    "#     chunk = chunk.dropna(how = 'any')\n",
    "    \n",
    "#     # cleaning zip codes\n",
    "#     chunk = chunk[~chunk['ZIP_CODE'].isin([\"00000\", \"000.0\"])]\n",
    "#     chunk.loc[:, 'ZIP_CODE'] = chunk['ZIP_CODE'].apply(clean_zip)\n",
    "\n",
    "#     # cleaning transaction amounts\n",
    "#     chunk.loc[:, 'TRANSACTION_AMT'] = pd.to_numeric(chunk['TRANSACTION_AMT'], errors = 'coerce', downcast = 'integer')\n",
    "#     chunk = chunk.dropna(subset = ['TRANSACTION_AMT'])\n",
    "\n",
    "#     # grouping and summing by zip code\n",
    "#     grouped_df = chunk.groupby('ZIP_CODE').agg({'TRANSACTION_AMT': 'sum'}).reset_index()\n",
    "\n",
    "#     # adding county column\n",
    "#     grouped_df.loc[:, 'COUNTY'] = grouped_df['ZIP_CODE'].apply(zip_to_county)\n",
    "\n",
    "#     # final processing and exporting\n",
    "#     grouped_by_county_df = grouped_df.groupby('COUNTY').agg({'TRANSACTION_AMT' : 'sum'})\n",
    "    \n",
    "#     chunks.append(grouped_by_county_df)\n",
    "#     print(f\"{(i / 15):.4%}\")\n",
    "#     i += 1\n",
    "\n",
    "# sept_to_nov_df = pd.concat(chunks).groupby('COUNTY').agg({'TRANSACTION_AMT' : 'sum'})\n",
    "# sept_to_nov_df = sept_to_nov_df.rename(columns={'COUNTY' : 'County Name', 'TRANSACTION_AMT' : 'Contributions'})\n",
    "\n",
    "# contributions_df = pd.read_csv(\"individual_contributions.csv\")\n",
    "# print(contributions_df.shape)\n"
   ]
  },
  {
   "cell_type": "code",
   "execution_count": 153,
   "metadata": {},
   "outputs": [
    {
     "data": {
      "application/vnd.microsoft.datawrangler.viewer.v0+json": {
       "columns": [
        {
         "name": "index",
         "rawType": "int64",
         "type": "integer"
        },
        {
         "name": "County Name",
         "rawType": "object",
         "type": "string"
        },
        {
         "name": "Contributions",
         "rawType": "float64",
         "type": "float"
        }
       ],
       "ref": "18a4f04c-68b7-48b6-a60b-0f1cecb45deb",
       "rows": [
        [
         "0",
         "Abbeville County, South Carolina",
         "31868.0"
        ],
        [
         "1",
         "Acadia Parish, Louisiana",
         "52030.0"
        ],
        [
         "2",
         "Accomack County, Virginia",
         "139421.0"
        ],
        [
         "3",
         "Ada County, Idaho",
         "5564755.0"
        ],
        [
         "4",
         "Adair County, Iowa",
         "13036.0"
        ]
       ],
       "shape": {
        "columns": 2,
        "rows": 5
       }
      },
      "text/html": [
       "<div>\n",
       "<style scoped>\n",
       "    .dataframe tbody tr th:only-of-type {\n",
       "        vertical-align: middle;\n",
       "    }\n",
       "\n",
       "    .dataframe tbody tr th {\n",
       "        vertical-align: top;\n",
       "    }\n",
       "\n",
       "    .dataframe thead th {\n",
       "        text-align: right;\n",
       "    }\n",
       "</style>\n",
       "<table border=\"1\" class=\"dataframe\">\n",
       "  <thead>\n",
       "    <tr style=\"text-align: right;\">\n",
       "      <th></th>\n",
       "      <th>County Name</th>\n",
       "      <th>Contributions</th>\n",
       "    </tr>\n",
       "  </thead>\n",
       "  <tbody>\n",
       "    <tr>\n",
       "      <th>0</th>\n",
       "      <td>Abbeville County, South Carolina</td>\n",
       "      <td>31868.0</td>\n",
       "    </tr>\n",
       "    <tr>\n",
       "      <th>1</th>\n",
       "      <td>Acadia Parish, Louisiana</td>\n",
       "      <td>52030.0</td>\n",
       "    </tr>\n",
       "    <tr>\n",
       "      <th>2</th>\n",
       "      <td>Accomack County, Virginia</td>\n",
       "      <td>139421.0</td>\n",
       "    </tr>\n",
       "    <tr>\n",
       "      <th>3</th>\n",
       "      <td>Ada County, Idaho</td>\n",
       "      <td>5564755.0</td>\n",
       "    </tr>\n",
       "    <tr>\n",
       "      <th>4</th>\n",
       "      <td>Adair County, Iowa</td>\n",
       "      <td>13036.0</td>\n",
       "    </tr>\n",
       "  </tbody>\n",
       "</table>\n",
       "</div>"
      ],
      "text/plain": [
       "                        County Name  Contributions\n",
       "0  Abbeville County, South Carolina        31868.0\n",
       "1          Acadia Parish, Louisiana        52030.0\n",
       "2         Accomack County, Virginia       139421.0\n",
       "3                 Ada County, Idaho      5564755.0\n",
       "4                Adair County, Iowa        13036.0"
      ]
     },
     "execution_count": 153,
     "metadata": {},
     "output_type": "execute_result"
    }
   ],
   "source": [
    "contributions_df = pd.read_csv(\"sept_to_nov.csv\").rename(columns={'COUNTY' : 'County Name', 'TRANSACTION_AMT' : 'Contributions'})\n",
    "contributions_df.head()"
   ]
  },
  {
   "cell_type": "markdown",
   "metadata": {},
   "source": [
    "### MLPRegressor"
   ]
  },
  {
   "cell_type": "markdown",
   "metadata": {},
   "source": [
    "We opted to train our data on a MLPRegressor model over a Linear Regression as we expect for the relationship between the inputs and outputs to be slightly non-linear.\n",
    "The increased complexity gained from choosing MLPRegressor also allows for our model to better cope with the restricted data.\n",
    "\n",
    "Our data was scaled using the logistic and standard scaling as there were outliers that we needed to account for before training, fitting, and testing our model."
   ]
  },
  {
   "cell_type": "code",
   "execution_count": 154,
   "metadata": {},
   "outputs": [],
   "source": [
    "from sklearn.neural_network import MLPRegressor\n",
    "from sklearn.model_selection import train_test_split\n",
    "from sklearn.preprocessing import StandardScaler\n",
    "\n",
    "machine_learning_df = pd.merge(county_df[['County Name', 'Median Income', 'Median Age', 'Population']], contributions_df, on = 'County Name', how = 'inner')\n",
    "machine_learning_df = machine_learning_df[0 <= machine_learning_df[\"Contributions\"]]"
   ]
  },
  {
   "cell_type": "code",
   "execution_count": 155,
   "metadata": {},
   "outputs": [],
   "source": [
    "# scaling using inter-quartile range\n",
    "q1 = machine_learning_df[\"Contributions\"].quantile(0.25)\n",
    "q3 = machine_learning_df[\"Contributions\"].quantile(0.75)\n",
    "iqr = q3 - q1\n",
    "machine_learning_df = machine_learning_df[q1 - 1.5*iqr <= machine_learning_df[\"Contributions\"]]\n",
    "machine_learning_df = machine_learning_df[machine_learning_df[\"Contributions\"] <= q3 + 1.5*iqr ]\n"
   ]
  },
  {
   "cell_type": "code",
   "execution_count": 156,
   "metadata": {},
   "outputs": [
    {
     "name": "stderr",
     "output_type": "stream",
     "text": [
      "/home/samuel/.local/lib/python3.10/site-packages/pandas/core/internals/blocks.py:395: RuntimeWarning: invalid value encountered in log1p\n",
      "  result = func(self.values, **kwargs)\n"
     ]
    },
    {
     "data": {
      "image/png": "[encoded data removed]",
      "text/plain": [
       "<Figure size 640x480 with 1 Axes>"
      ]
     },
     "metadata": {},
     "output_type": "display_data"
    }
   ],
   "source": [
    "# taking the log to further account for outliers\n",
    "machine_learning_df = np.log1p(machine_learning_df[['Median Income', 'Median Age', 'Population', 'Contributions']])\n",
    "machine_learning_df = machine_learning_df.dropna(how = 'any')\n",
    "machine_learning_df.boxplot(column=['Contributions'])\n",
    "plt.show()"
   ]
  },
  {
   "cell_type": "code",
   "execution_count": null,
   "metadata": {},
   "outputs": [],
   "source": [
    "# train, test, split\n",
    "X = machine_learning_df[['Median Income', 'Median Age', 'Population']]\n",
    "y = machine_learning_df['Contributions']\n",
    "X_train, X_test, y_train, y_test = train_test_split(X, y, random_state = 42, test_size = 0.2, stratify=pd.qcut(y, q=5))"
   ]
  },
  {
   "cell_type": "code",
   "execution_count": 158,
   "metadata": {},
   "outputs": [],
   "source": [
    "# standard scaling\n",
    "scaler_X = StandardScaler().fit(X_train)    \n",
    "X_train_scaled = scaler_X.transform(X_train)\n",
    "X_test_scaled = scaler_X.transform(X_test)"
   ]
  },
  {
   "cell_type": "code",
   "execution_count": 159,
   "metadata": {},
   "outputs": [],
   "source": [
    "# standard scaling\n",
    "scaler_y = StandardScaler().fit(y_train.values.reshape(-1, 1))\n",
    "y_train_scaled = scaler_y.transform(y_train.values.reshape(-1, 1)).ravel()\n",
    "y_test_scaled = scaler_y.transform(y_test.values.reshape(-1, 1)).ravel()"
   ]
  },
  {
   "cell_type": "markdown",
   "metadata": {},
   "source": [
    "With a set seed, our model has a $R^2$ coefficient of determination of $0.747$, meaning that $74.7\\%$ of the variance in $Y$ can be explained by $X$. The alpha parameter controls the strength of the L2 regularization term, and this was increased from its base value of $0.0001$ to $0.1$ to decrease the amount of overfitting and thus generalize the model better."
   ]
  },
  {
   "cell_type": "code",
   "execution_count": null,
   "metadata": {},
   "outputs": [
    {
     "data": {
      "text/html": [
       "<style>#sk-container-id-3 {\n",
       "  /* Definition of color scheme common for light and dark mode */\n",
       "  --sklearn-color-text: #000;\n",
       "  --sklearn-color-text-muted: #666;\n",
       "  --sklearn-color-line: gray;\n",
       "  /* Definition of color scheme for unfitted estimators */\n",
       "  --sklearn-color-unfitted-level-0: #fff5e6;\n",
       "  --sklearn-color-unfitted-level-1: #f6e4d2;\n",
       "  --sklearn-color-unfitted-level-2: #ffe0b3;\n",
       "  --sklearn-color-unfitted-level-3: chocolate;\n",
       "  /* Definition of color scheme for fitted estimators */\n",
       "  --sklearn-color-fitted-level-0: #f0f8ff;\n",
       "  --sklearn-color-fitted-level-1: #d4ebff;\n",
       "  --sklearn-color-fitted-level-2: #b3dbfd;\n",
       "  --sklearn-color-fitted-level-3: cornflowerblue;\n",
       "\n",
       "  /* Specific color for light theme */\n",
       "  --sklearn-color-text-on-default-background: var(--sg-text-color, var(--theme-code-foreground, var(--jp-content-font-color1, black)));\n",
       "  --sklearn-color-background: var(--sg-background-color, var(--theme-background, var(--jp-layout-color0, white)));\n",
       "  --sklearn-color-border-box: var(--sg-text-color, var(--theme-code-foreground, var(--jp-content-font-color1, black)));\n",
       "  --sklearn-color-icon: #696969;\n",
       "\n",
       "  @media (prefers-color-scheme: dark) {\n",
       "    /* Redefinition of color scheme for dark theme */\n",
       "    --sklearn-color-text-on-default-background: var(--sg-text-color, var(--theme-code-foreground, var(--jp-content-font-color1, white)));\n",
       "    --sklearn-color-background: var(--sg-background-color, var(--theme-background, var(--jp-layout-color0, #111)));\n",
       "    --sklearn-color-border-box: var(--sg-text-color, var(--theme-code-foreground, var(--jp-content-font-color1, white)));\n",
       "    --sklearn-color-icon: #878787;\n",
       "  }\n",
       "}\n",
       "\n",
       "#sk-container-id-3 {\n",
       "  color: var(--sklearn-color-text);\n",
       "}\n",
       "\n",
       "#sk-container-id-3 pre {\n",
       "  padding: 0;\n",
       "}\n",
       "\n",
       "#sk-container-id-3 input.sk-hidden--visually {\n",
       "  border: 0;\n",
       "  clip: rect(1px 1px 1px 1px);\n",
       "  clip: rect(1px, 1px, 1px, 1px);\n",
       "  height: 1px;\n",
       "  margin: -1px;\n",
       "  overflow: hidden;\n",
       "  padding: 0;\n",
       "  position: absolute;\n",
       "  width: 1px;\n",
       "}\n",
       "\n",
       "#sk-container-id-3 div.sk-dashed-wrapped {\n",
       "  border: 1px dashed var(--sklearn-color-line);\n",
       "  margin: 0 0.4em 0.5em 0.4em;\n",
       "  box-sizing: border-box;\n",
       "  padding-bottom: 0.4em;\n",
       "  background-color: var(--sklearn-color-background);\n",
       "}\n",
       "\n",
       "#sk-container-id-3 div.sk-container {\n",
       "  /* jupyter's `normalize.less` sets `[hidden] { display: none; }`\n",
       "     but bootstrap.min.css set `[hidden] { display: none !important; }`\n",
       "     so we also need the `!important` here to be able to override the\n",
       "     default hidden behavior on the sphinx rendered scikit-learn.org.\n",
       "     See: https://github.com/scikit-learn/scikit-learn/issues/21755 */\n",
       "  display: inline-block !important;\n",
       "  position: relative;\n",
       "}\n",
       "\n",
       "#sk-container-id-3 div.sk-text-repr-fallback {\n",
       "  display: none;\n",
       "}\n",
       "\n",
       "div.sk-parallel-item,\n",
       "div.sk-serial,\n",
       "div.sk-item {\n",
       "  /* draw centered vertical line to link estimators */\n",
       "  background-image: linear-gradient(var(--sklearn-color-text-on-default-background), var(--sklearn-color-text-on-default-background));\n",
       "  background-size: 2px 100%;\n",
       "  background-repeat: no-repeat;\n",
       "  background-position: center center;\n",
       "}\n",
       "\n",
       "/* Parallel-specific style estimator block */\n",
       "\n",
       "#sk-container-id-3 div.sk-parallel-item::after {\n",
       "  content: \"\";\n",
       "  width: 100%;\n",
       "  border-bottom: 2px solid var(--sklearn-color-text-on-default-background);\n",
       "  flex-grow: 1;\n",
       "}\n",
       "\n",
       "#sk-container-id-3 div.sk-parallel {\n",
       "  display: flex;\n",
       "  align-items: stretch;\n",
       "  justify-content: center;\n",
       "  background-color: var(--sklearn-color-background);\n",
       "  position: relative;\n",
       "}\n",
       "\n",
       "#sk-container-id-3 div.sk-parallel-item {\n",
       "  display: flex;\n",
       "  flex-direction: column;\n",
       "}\n",
       "\n",
       "#sk-container-id-3 div.sk-parallel-item:first-child::after {\n",
       "  align-self: flex-end;\n",
       "  width: 50%;\n",
       "}\n",
       "\n",
       "#sk-container-id-3 div.sk-parallel-item:last-child::after {\n",
       "  align-self: flex-start;\n",
       "  width: 50%;\n",
       "}\n",
       "\n",
       "#sk-container-id-3 div.sk-parallel-item:only-child::after {\n",
       "  width: 0;\n",
       "}\n",
       "\n",
       "/* Serial-specific style estimator block */\n",
       "\n",
       "#sk-container-id-3 div.sk-serial {\n",
       "  display: flex;\n",
       "  flex-direction: column;\n",
       "  align-items: center;\n",
       "  background-color: var(--sklearn-color-background);\n",
       "  padding-right: 1em;\n",
       "  padding-left: 1em;\n",
       "}\n",
       "\n",
       "\n",
       "/* Toggleable style: style used for estimator/Pipeline/ColumnTransformer box that is\n",
       "clickable and can be expanded/collapsed.\n",
       "- Pipeline and ColumnTransformer use this feature and define the default style\n",
       "- Estimators will overwrite some part of the style using the `sk-estimator` class\n",
       "*/\n",
       "\n",
       "/* Pipeline and ColumnTransformer style (default) */\n",
       "\n",
       "#sk-container-id-3 div.sk-toggleable {\n",
       "  /* Default theme specific background. It is overwritten whether we have a\n",
       "  specific estimator or a Pipeline/ColumnTransformer */\n",
       "  background-color: var(--sklearn-color-background);\n",
       "}\n",
       "\n",
       "/* Toggleable label */\n",
       "#sk-container-id-3 label.sk-toggleable__label {\n",
       "  cursor: pointer;\n",
       "  display: flex;\n",
       "  width: 100%;\n",
       "  margin-bottom: 0;\n",
       "  padding: 0.5em;\n",
       "  box-sizing: border-box;\n",
       "  text-align: center;\n",
       "  align-items: start;\n",
       "  justify-content: space-between;\n",
       "  gap: 0.5em;\n",
       "}\n",
       "\n",
       "#sk-container-id-3 label.sk-toggleable__label .caption {\n",
       "  font-size: 0.6rem;\n",
       "  font-weight: lighter;\n",
       "  color: var(--sklearn-color-text-muted);\n",
       "}\n",
       "\n",
       "#sk-container-id-3 label.sk-toggleable__label-arrow:before {\n",
       "  /* Arrow on the left of the label */\n",
       "  content: \"▸\";\n",
       "  float: left;\n",
       "  margin-right: 0.25em;\n",
       "  color: var(--sklearn-color-icon);\n",
       "}\n",
       "\n",
       "#sk-container-id-3 label.sk-toggleable__label-arrow:hover:before {\n",
       "  color: var(--sklearn-color-text);\n",
       "}\n",
       "\n",
       "/* Toggleable content - dropdown */\n",
       "\n",
       "#sk-container-id-3 div.sk-toggleable__content {\n",
       "  display: none;\n",
       "  text-align: left;\n",
       "  /* unfitted */\n",
       "  background-color: var(--sklearn-color-unfitted-level-0);\n",
       "}\n",
       "\n",
       "#sk-container-id-3 div.sk-toggleable__content.fitted {\n",
       "  /* fitted */\n",
       "  background-color: var(--sklearn-color-fitted-level-0);\n",
       "}\n",
       "\n",
       "#sk-container-id-3 div.sk-toggleable__content pre {\n",
       "  margin: 0.2em;\n",
       "  border-radius: 0.25em;\n",
       "  color: var(--sklearn-color-text);\n",
       "  /* unfitted */\n",
       "  background-color: var(--sklearn-color-unfitted-level-0);\n",
       "}\n",
       "\n",
       "#sk-container-id-3 div.sk-toggleable__content.fitted pre {\n",
       "  /* unfitted */\n",
       "  background-color: var(--sklearn-color-fitted-level-0);\n",
       "}\n",
       "\n",
       "#sk-container-id-3 input.sk-toggleable__control:checked~div.sk-toggleable__content {\n",
       "  /* Expand drop-down */\n",
       "  display: block;\n",
       "  width: 100%;\n",
       "  overflow: visible;\n",
       "}\n",
       "\n",
       "#sk-container-id-3 input.sk-toggleable__control:checked~label.sk-toggleable__label-arrow:before {\n",
       "  content: \"▾\";\n",
       "}\n",
       "\n",
       "/* Pipeline/ColumnTransformer-specific style */\n",
       "\n",
       "#sk-container-id-3 div.sk-label input.sk-toggleable__control:checked~label.sk-toggleable__label {\n",
       "  color: var(--sklearn-color-text);\n",
       "  background-color: var(--sklearn-color-unfitted-level-2);\n",
       "}\n",
       "\n",
       "#sk-container-id-3 div.sk-label.fitted input.sk-toggleable__control:checked~label.sk-toggleable__label {\n",
       "  background-color: var(--sklearn-color-fitted-level-2);\n",
       "}\n",
       "\n",
       "/* Estimator-specific style */\n",
       "\n",
       "/* Colorize estimator box */\n",
       "#sk-container-id-3 div.sk-estimator input.sk-toggleable__control:checked~label.sk-toggleable__label {\n",
       "  /* unfitted */\n",
       "  background-color: var(--sklearn-color-unfitted-level-2);\n",
       "}\n",
       "\n",
       "#sk-container-id-3 div.sk-estimator.fitted input.sk-toggleable__control:checked~label.sk-toggleable__label {\n",
       "  /* fitted */\n",
       "  background-color: var(--sklearn-color-fitted-level-2);\n",
       "}\n",
       "\n",
       "#sk-container-id-3 div.sk-label label.sk-toggleable__label,\n",
       "#sk-container-id-3 div.sk-label label {\n",
       "  /* The background is the default theme color */\n",
       "  color: var(--sklearn-color-text-on-default-background);\n",
       "}\n",
       "\n",
       "/* On hover, darken the color of the background */\n",
       "#sk-container-id-3 div.sk-label:hover label.sk-toggleable__label {\n",
       "  color: var(--sklearn-color-text);\n",
       "  background-color: var(--sklearn-color-unfitted-level-2);\n",
       "}\n",
       "\n",
       "/* Label box, darken color on hover, fitted */\n",
       "#sk-container-id-3 div.sk-label.fitted:hover label.sk-toggleable__label.fitted {\n",
       "  color: var(--sklearn-color-text);\n",
       "  background-color: var(--sklearn-color-fitted-level-2);\n",
       "}\n",
       "\n",
       "/* Estimator label */\n",
       "\n",
       "#sk-container-id-3 div.sk-label label {\n",
       "  font-family: monospace;\n",
       "  font-weight: bold;\n",
       "  display: inline-block;\n",
       "  line-height: 1.2em;\n",
       "}\n",
       "\n",
       "#sk-container-id-3 div.sk-label-container {\n",
       "  text-align: center;\n",
       "}\n",
       "\n",
       "/* Estimator-specific */\n",
       "#sk-container-id-3 div.sk-estimator {\n",
       "  font-family: monospace;\n",
       "  border: 1px dotted var(--sklearn-color-border-box);\n",
       "  border-radius: 0.25em;\n",
       "  box-sizing: border-box;\n",
       "  margin-bottom: 0.5em;\n",
       "  /* unfitted */\n",
       "  background-color: var(--sklearn-color-unfitted-level-0);\n",
       "}\n",
       "\n",
       "#sk-container-id-3 div.sk-estimator.fitted {\n",
       "  /* fitted */\n",
       "  background-color: var(--sklearn-color-fitted-level-0);\n",
       "}\n",
       "\n",
       "/* on hover */\n",
       "#sk-container-id-3 div.sk-estimator:hover {\n",
       "  /* unfitted */\n",
       "  background-color: var(--sklearn-color-unfitted-level-2);\n",
       "}\n",
       "\n",
       "#sk-container-id-3 div.sk-estimator.fitted:hover {\n",
       "  /* fitted */\n",
       "  background-color: var(--sklearn-color-fitted-level-2);\n",
       "}\n",
       "\n",
       "/* Specification for estimator info (e.g. \"i\" and \"?\") */\n",
       "\n",
       "/* Common style for \"i\" and \"?\" */\n",
       "\n",
       ".sk-estimator-doc-link,\n",
       "a:link.sk-estimator-doc-link,\n",
       "a:visited.sk-estimator-doc-link {\n",
       "  float: right;\n",
       "  font-size: smaller;\n",
       "  line-height: 1em;\n",
       "  font-family: monospace;\n",
       "  background-color: var(--sklearn-color-background);\n",
       "  border-radius: 1em;\n",
       "  height: 1em;\n",
       "  width: 1em;\n",
       "  text-decoration: none !important;\n",
       "  margin-left: 0.5em;\n",
       "  text-align: center;\n",
       "  /* unfitted */\n",
       "  border: var(--sklearn-color-unfitted-level-1) 1pt solid;\n",
       "  color: var(--sklearn-color-unfitted-level-1);\n",
       "}\n",
       "\n",
       ".sk-estimator-doc-link.fitted,\n",
       "a:link.sk-estimator-doc-link.fitted,\n",
       "a:visited.sk-estimator-doc-link.fitted {\n",
       "  /* fitted */\n",
       "  border: var(--sklearn-color-fitted-level-1) 1pt solid;\n",
       "  color: var(--sklearn-color-fitted-level-1);\n",
       "}\n",
       "\n",
       "/* On hover */\n",
       "div.sk-estimator:hover .sk-estimator-doc-link:hover,\n",
       ".sk-estimator-doc-link:hover,\n",
       "div.sk-label-container:hover .sk-estimator-doc-link:hover,\n",
       ".sk-estimator-doc-link:hover {\n",
       "  /* unfitted */\n",
       "  background-color: var(--sklearn-color-unfitted-level-3);\n",
       "  color: var(--sklearn-color-background);\n",
       "  text-decoration: none;\n",
       "}\n",
       "\n",
       "div.sk-estimator.fitted:hover .sk-estimator-doc-link.fitted:hover,\n",
       ".sk-estimator-doc-link.fitted:hover,\n",
       "div.sk-label-container:hover .sk-estimator-doc-link.fitted:hover,\n",
       ".sk-estimator-doc-link.fitted:hover {\n",
       "  /* fitted */\n",
       "  background-color: var(--sklearn-color-fitted-level-3);\n",
       "  color: var(--sklearn-color-background);\n",
       "  text-decoration: none;\n",
       "}\n",
       "\n",
       "/* Span, style for the box shown on hovering the info icon */\n",
       ".sk-estimator-doc-link span {\n",
       "  display: none;\n",
       "  z-index: 9999;\n",
       "  position: relative;\n",
       "  font-weight: normal;\n",
       "  right: .2ex;\n",
       "  padding: .5ex;\n",
       "  margin: .5ex;\n",
       "  width: min-content;\n",
       "  min-width: 20ex;\n",
       "  max-width: 50ex;\n",
       "  color: var(--sklearn-color-text);\n",
       "  box-shadow: 2pt 2pt 4pt #999;\n",
       "  /* unfitted */\n",
       "  background: var(--sklearn-color-unfitted-level-0);\n",
       "  border: .5pt solid var(--sklearn-color-unfitted-level-3);\n",
       "}\n",
       "\n",
       ".sk-estimator-doc-link.fitted span {\n",
       "  /* fitted */\n",
       "  background: var(--sklearn-color-fitted-level-0);\n",
       "  border: var(--sklearn-color-fitted-level-3);\n",
       "}\n",
       "\n",
       ".sk-estimator-doc-link:hover span {\n",
       "  display: block;\n",
       "}\n",
       "\n",
       "/* \"?\"-specific style due to the `<a>` HTML tag */\n",
       "\n",
       "#sk-container-id-3 a.estimator_doc_link {\n",
       "  float: right;\n",
       "  font-size: 1rem;\n",
       "  line-height: 1em;\n",
       "  font-family: monospace;\n",
       "  background-color: var(--sklearn-color-background);\n",
       "  border-radius: 1rem;\n",
       "  height: 1rem;\n",
       "  width: 1rem;\n",
       "  text-decoration: none;\n",
       "  /* unfitted */\n",
       "  color: var(--sklearn-color-unfitted-level-1);\n",
       "  border: var(--sklearn-color-unfitted-level-1) 1pt solid;\n",
       "}\n",
       "\n",
       "#sk-container-id-3 a.estimator_doc_link.fitted {\n",
       "  /* fitted */\n",
       "  border: var(--sklearn-color-fitted-level-1) 1pt solid;\n",
       "  color: var(--sklearn-color-fitted-level-1);\n",
       "}\n",
       "\n",
       "/* On hover */\n",
       "#sk-container-id-3 a.estimator_doc_link:hover {\n",
       "  /* unfitted */\n",
       "  background-color: var(--sklearn-color-unfitted-level-3);\n",
       "  color: var(--sklearn-color-background);\n",
       "  text-decoration: none;\n",
       "}\n",
       "\n",
       "#sk-container-id-3 a.estimator_doc_link.fitted:hover {\n",
       "  /* fitted */\n",
       "  background-color: var(--sklearn-color-fitted-level-3);\n",
       "}\n",
       "\n",
       ".estimator-table summary {\n",
       "    padding: .5rem;\n",
       "    font-family: monospace;\n",
       "    cursor: pointer;\n",
       "}\n",
       "\n",
       ".estimator-table details[open] {\n",
       "    padding-left: 0.1rem;\n",
       "    padding-right: 0.1rem;\n",
       "    padding-bottom: 0.3rem;\n",
       "}\n",
       "\n",
       ".estimator-table .parameters-table {\n",
       "    margin-left: auto !important;\n",
       "    margin-right: auto !important;\n",
       "}\n",
       "\n",
       ".estimator-table .parameters-table tr:nth-child(odd) {\n",
       "    background-color: #fff;\n",
       "}\n",
       "\n",
       ".estimator-table .parameters-table tr:nth-child(even) {\n",
       "    background-color: #f6f6f6;\n",
       "}\n",
       "\n",
       ".estimator-table .parameters-table tr:hover {\n",
       "    background-color: #e0e0e0;\n",
       "}\n",
       "\n",
       ".estimator-table table td {\n",
       "    border: 1px solid rgba(106, 105, 104, 0.232);\n",
       "}\n",
       "\n",
       ".user-set td {\n",
       "    color:rgb(255, 94, 0);\n",
       "    text-align: left;\n",
       "}\n",
       "\n",
       ".user-set td.value pre {\n",
       "    color:rgb(255, 94, 0) !important;\n",
       "    background-color: transparent !important;\n",
       "}\n",
       "\n",
       ".default td {\n",
       "    color: black;\n",
       "    text-align: left;\n",
       "}\n",
       "\n",
       ".user-set td i,\n",
       ".default td i {\n",
       "    color: black;\n",
       "}\n",
       "\n",
       ".copy-paste-icon {\n",
       "    background-image: url(data:image/svg+xml;base64,PHN2ZyB4bWxucz0iaHR0cDovL3d3dy53My5vcmcvMjAwMC9zdmciIHZpZXdCb3g9IjAgMCA0NDggNTEyIj48IS0tIUZvbnQgQXdlc29tZSBGcmVlIDYuNy4yIGJ5IEBmb250YXdlc29tZSAtIGh0dHBzOi8vZm9udGF3ZXNvbWUuY29tIExpY2Vuc2UgLSBodHRwczovL2ZvbnRhd2Vzb21lLmNvbS9saWNlbnNlL2ZyZWUgQ29weXJpZ2h0IDIwMjUgRm9udGljb25zLCBJbmMuLS0+PHBhdGggZD0iTTIwOCAwTDMzMi4xIDBjMTIuNyAwIDI0LjkgNS4xIDMzLjkgMTQuMWw2Ny45IDY3LjljOSA5IDE0LjEgMjEuMiAxNC4xIDMzLjlMNDQ4IDMzNmMwIDI2LjUtMjEuNSA0OC00OCA0OGwtMTkyIDBjLTI2LjUgMC00OC0yMS41LTQ4LTQ4bDAtMjg4YzAtMjYuNSAyMS41LTQ4IDQ4LTQ4ek00OCAxMjhsODAgMCAwIDY0LTY0IDAgMCAyNTYgMTkyIDAgMC0zMiA2NCAwIDAgNDhjMCAyNi41LTIxLjUgNDgtNDggNDhMNDggNTEyYy0yNi41IDAtNDgtMjEuNS00OC00OEwwIDE3NmMwLTI2LjUgMjEuNS00OCA0OC00OHoiLz48L3N2Zz4=);\n",
       "    background-repeat: no-repeat;\n",
       "    background-size: 14px 14px;\n",
       "    background-position: 0;\n",
       "    display: inline-block;\n",
       "    width: 14px;\n",
       "    height: 14px;\n",
       "    cursor: pointer;\n",
       "}\n",
       "</style><body><div id=\"sk-container-id-3\" class=\"sk-top-container\"><div class=\"sk-text-repr-fallback\"><pre>MLPRegressor(alpha=0.1, hidden_layer_sizes=(128, 64, 32), max_iter=3000,\n",
       "             random_state=42)</pre><b>In a Jupyter environment, please rerun this cell to show the HTML representation or trust the notebook. <br />On GitHub, the HTML representation is unable to render, please try loading this page with nbviewer.org.</b></div><div class=\"sk-container\" hidden><div class=\"sk-item\"><div class=\"sk-estimator fitted sk-toggleable\"><input class=\"sk-toggleable__control sk-hidden--visually\" id=\"sk-estimator-id-3\" type=\"checkbox\" checked><label for=\"sk-estimator-id-3\" class=\"sk-toggleable__label fitted sk-toggleable__label-arrow\"><div><div>MLPRegressor</div></div><div><a class=\"sk-estimator-doc-link fitted\" rel=\"noreferrer\" target=\"_blank\" href=\"https://scikit-learn.org/1.7/modules/generated/sklearn.neural_network.MLPRegressor.html\">?<span>Documentation for MLPRegressor</span></a><span class=\"sk-estimator-doc-link fitted\">i<span>Fitted</span></span></div></label><div class=\"sk-toggleable__content fitted\" data-param-prefix=\"\">\n",
       "        <div class=\"estimator-table\">\n",
       "            <details>\n",
       "                <summary>Parameters</summary>\n",
       "                <table class=\"parameters-table\">\n",
       "                  <tbody>\n",
       "                    \n",
       "        <tr class=\"default\">\n",
       "            <td><i class=\"copy-paste-icon\"\n",
       "                 onclick=\"copyToClipboard('loss',\n",
       "                          this.parentElement.nextElementSibling)\"\n",
       "            ></i></td>\n",
       "            <td class=\"param\">loss&nbsp;</td>\n",
       "            <td class=\"value\">&#x27;squared_error&#x27;</td>\n",
       "        </tr>\n",
       "    \n",
       "\n",
       "        <tr class=\"user-set\">\n",
       "            <td><i class=\"copy-paste-icon\"\n",
       "                 onclick=\"copyToClipboard('hidden_layer_sizes',\n",
       "                          this.parentElement.nextElementSibling)\"\n",
       "            ></i></td>\n",
       "            <td class=\"param\">hidden_layer_sizes&nbsp;</td>\n",
       "            <td class=\"value\">(128, ...)</td>\n",
       "        </tr>\n",
       "    \n",
       "\n",
       "        <tr class=\"default\">\n",
       "            <td><i class=\"copy-paste-icon\"\n",
       "                 onclick=\"copyToClipboard('activation',\n",
       "                          this.parentElement.nextElementSibling)\"\n",
       "            ></i></td>\n",
       "            <td class=\"param\">activation&nbsp;</td>\n",
       "            <td class=\"value\">&#x27;relu&#x27;</td>\n",
       "        </tr>\n",
       "    \n",
       "\n",
       "        <tr class=\"default\">\n",
       "            <td><i class=\"copy-paste-icon\"\n",
       "                 onclick=\"copyToClipboard('solver',\n",
       "                          this.parentElement.nextElementSibling)\"\n",
       "            ></i></td>\n",
       "            <td class=\"param\">solver&nbsp;</td>\n",
       "            <td class=\"value\">&#x27;adam&#x27;</td>\n",
       "        </tr>\n",
       "    \n",
       "\n",
       "        <tr class=\"user-set\">\n",
       "            <td><i class=\"copy-paste-icon\"\n",
       "                 onclick=\"copyToClipboard('alpha',\n",
       "                          this.parentElement.nextElementSibling)\"\n",
       "            ></i></td>\n",
       "            <td class=\"param\">alpha&nbsp;</td>\n",
       "            <td class=\"value\">0.1</td>\n",
       "        </tr>\n",
       "    \n",
       "\n",
       "        <tr class=\"default\">\n",
       "            <td><i class=\"copy-paste-icon\"\n",
       "                 onclick=\"copyToClipboard('batch_size',\n",
       "                          this.parentElement.nextElementSibling)\"\n",
       "            ></i></td>\n",
       "            <td class=\"param\">batch_size&nbsp;</td>\n",
       "            <td class=\"value\">&#x27;auto&#x27;</td>\n",
       "        </tr>\n",
       "    \n",
       "\n",
       "        <tr class=\"default\">\n",
       "            <td><i class=\"copy-paste-icon\"\n",
       "                 onclick=\"copyToClipboard('learning_rate',\n",
       "                          this.parentElement.nextElementSibling)\"\n",
       "            ></i></td>\n",
       "            <td class=\"param\">learning_rate&nbsp;</td>\n",
       "            <td class=\"value\">&#x27;constant&#x27;</td>\n",
       "        </tr>\n",
       "    \n",
       "\n",
       "        <tr class=\"default\">\n",
       "            <td><i class=\"copy-paste-icon\"\n",
       "                 onclick=\"copyToClipboard('learning_rate_init',\n",
       "                          this.parentElement.nextElementSibling)\"\n",
       "            ></i></td>\n",
       "            <td class=\"param\">learning_rate_init&nbsp;</td>\n",
       "            <td class=\"value\">0.001</td>\n",
       "        </tr>\n",
       "    \n",
       "\n",
       "        <tr class=\"default\">\n",
       "            <td><i class=\"copy-paste-icon\"\n",
       "                 onclick=\"copyToClipboard('power_t',\n",
       "                          this.parentElement.nextElementSibling)\"\n",
       "            ></i></td>\n",
       "            <td class=\"param\">power_t&nbsp;</td>\n",
       "            <td class=\"value\">0.5</td>\n",
       "        </tr>\n",
       "    \n",
       "\n",
       "        <tr class=\"user-set\">\n",
       "            <td><i class=\"copy-paste-icon\"\n",
       "                 onclick=\"copyToClipboard('max_iter',\n",
       "                          this.parentElement.nextElementSibling)\"\n",
       "            ></i></td>\n",
       "            <td class=\"param\">max_iter&nbsp;</td>\n",
       "            <td class=\"value\">3000</td>\n",
       "        </tr>\n",
       "    \n",
       "\n",
       "        <tr class=\"default\">\n",
       "            <td><i class=\"copy-paste-icon\"\n",
       "                 onclick=\"copyToClipboard('shuffle',\n",
       "                          this.parentElement.nextElementSibling)\"\n",
       "            ></i></td>\n",
       "            <td class=\"param\">shuffle&nbsp;</td>\n",
       "            <td class=\"value\">True</td>\n",
       "        </tr>\n",
       "    \n",
       "\n",
       "        <tr class=\"user-set\">\n",
       "            <td><i class=\"copy-paste-icon\"\n",
       "                 onclick=\"copyToClipboard('random_state',\n",
       "                          this.parentElement.nextElementSibling)\"\n",
       "            ></i></td>\n",
       "            <td class=\"param\">random_state&nbsp;</td>\n",
       "            <td class=\"value\">42</td>\n",
       "        </tr>\n",
       "    \n",
       "\n",
       "        <tr class=\"default\">\n",
       "            <td><i class=\"copy-paste-icon\"\n",
       "                 onclick=\"copyToClipboard('tol',\n",
       "                          this.parentElement.nextElementSibling)\"\n",
       "            ></i></td>\n",
       "            <td class=\"param\">tol&nbsp;</td>\n",
       "            <td class=\"value\">0.0001</td>\n",
       "        </tr>\n",
       "    \n",
       "\n",
       "        <tr class=\"default\">\n",
       "            <td><i class=\"copy-paste-icon\"\n",
       "                 onclick=\"copyToClipboard('verbose',\n",
       "                          this.parentElement.nextElementSibling)\"\n",
       "            ></i></td>\n",
       "            <td class=\"param\">verbose&nbsp;</td>\n",
       "            <td class=\"value\">False</td>\n",
       "        </tr>\n",
       "    \n",
       "\n",
       "        <tr class=\"default\">\n",
       "            <td><i class=\"copy-paste-icon\"\n",
       "                 onclick=\"copyToClipboard('warm_start',\n",
       "                          this.parentElement.nextElementSibling)\"\n",
       "            ></i></td>\n",
       "            <td class=\"param\">warm_start&nbsp;</td>\n",
       "            <td class=\"value\">False</td>\n",
       "        </tr>\n",
       "    \n",
       "\n",
       "        <tr class=\"default\">\n",
       "            <td><i class=\"copy-paste-icon\"\n",
       "                 onclick=\"copyToClipboard('momentum',\n",
       "                          this.parentElement.nextElementSibling)\"\n",
       "            ></i></td>\n",
       "            <td class=\"param\">momentum&nbsp;</td>\n",
       "            <td class=\"value\">0.9</td>\n",
       "        </tr>\n",
       "    \n",
       "\n",
       "        <tr class=\"default\">\n",
       "            <td><i class=\"copy-paste-icon\"\n",
       "                 onclick=\"copyToClipboard('nesterovs_momentum',\n",
       "                          this.parentElement.nextElementSibling)\"\n",
       "            ></i></td>\n",
       "            <td class=\"param\">nesterovs_momentum&nbsp;</td>\n",
       "            <td class=\"value\">True</td>\n",
       "        </tr>\n",
       "    \n",
       "\n",
       "        <tr class=\"default\">\n",
       "            <td><i class=\"copy-paste-icon\"\n",
       "                 onclick=\"copyToClipboard('early_stopping',\n",
       "                          this.parentElement.nextElementSibling)\"\n",
       "            ></i></td>\n",
       "            <td class=\"param\">early_stopping&nbsp;</td>\n",
       "            <td class=\"value\">False</td>\n",
       "        </tr>\n",
       "    \n",
       "\n",
       "        <tr class=\"default\">\n",
       "            <td><i class=\"copy-paste-icon\"\n",
       "                 onclick=\"copyToClipboard('validation_fraction',\n",
       "                          this.parentElement.nextElementSibling)\"\n",
       "            ></i></td>\n",
       "            <td class=\"param\">validation_fraction&nbsp;</td>\n",
       "            <td class=\"value\">0.1</td>\n",
       "        </tr>\n",
       "    \n",
       "\n",
       "        <tr class=\"default\">\n",
       "            <td><i class=\"copy-paste-icon\"\n",
       "                 onclick=\"copyToClipboard('beta_1',\n",
       "                          this.parentElement.nextElementSibling)\"\n",
       "            ></i></td>\n",
       "            <td class=\"param\">beta_1&nbsp;</td>\n",
       "            <td class=\"value\">0.9</td>\n",
       "        </tr>\n",
       "    \n",
       "\n",
       "        <tr class=\"default\">\n",
       "            <td><i class=\"copy-paste-icon\"\n",
       "                 onclick=\"copyToClipboard('beta_2',\n",
       "                          this.parentElement.nextElementSibling)\"\n",
       "            ></i></td>\n",
       "            <td class=\"param\">beta_2&nbsp;</td>\n",
       "            <td class=\"value\">0.999</td>\n",
       "        </tr>\n",
       "    \n",
       "\n",
       "        <tr class=\"default\">\n",
       "            <td><i class=\"copy-paste-icon\"\n",
       "                 onclick=\"copyToClipboard('epsilon',\n",
       "                          this.parentElement.nextElementSibling)\"\n",
       "            ></i></td>\n",
       "            <td class=\"param\">epsilon&nbsp;</td>\n",
       "            <td class=\"value\">1e-08</td>\n",
       "        </tr>\n",
       "    \n",
       "\n",
       "        <tr class=\"default\">\n",
       "            <td><i class=\"copy-paste-icon\"\n",
       "                 onclick=\"copyToClipboard('n_iter_no_change',\n",
       "                          this.parentElement.nextElementSibling)\"\n",
       "            ></i></td>\n",
       "            <td class=\"param\">n_iter_no_change&nbsp;</td>\n",
       "            <td class=\"value\">10</td>\n",
       "        </tr>\n",
       "    \n",
       "\n",
       "        <tr class=\"default\">\n",
       "            <td><i class=\"copy-paste-icon\"\n",
       "                 onclick=\"copyToClipboard('max_fun',\n",
       "                          this.parentElement.nextElementSibling)\"\n",
       "            ></i></td>\n",
       "            <td class=\"param\">max_fun&nbsp;</td>\n",
       "            <td class=\"value\">15000</td>\n",
       "        </tr>\n",
       "    \n",
       "                  </tbody>\n",
       "                </table>\n",
       "            </details>\n",
       "        </div>\n",
       "    </div></div></div></div></div><script>function copyToClipboard(text, element) {\n",
       "    // Get the parameter prefix from the closest toggleable content\n",
       "    const toggleableContent = element.closest('.sk-toggleable__content');\n",
       "    const paramPrefix = toggleableContent ? toggleableContent.dataset.paramPrefix : '';\n",
       "    const fullParamName = paramPrefix ? `${paramPrefix}${text}` : text;\n",
       "\n",
       "    const originalStyle = element.style;\n",
       "    const computedStyle = window.getComputedStyle(element);\n",
       "    const originalWidth = computedStyle.width;\n",
       "    const originalHTML = element.innerHTML.replace('Copied!', '');\n",
       "\n",
       "    navigator.clipboard.writeText(fullParamName)\n",
       "        .then(() => {\n",
       "            element.style.width = originalWidth;\n",
       "            element.style.color = 'green';\n",
       "            element.innerHTML = \"Copied!\";\n",
       "\n",
       "            setTimeout(() => {\n",
       "                element.innerHTML = originalHTML;\n",
       "                element.style = originalStyle;\n",
       "            }, 2000);\n",
       "        })\n",
       "        .catch(err => {\n",
       "            console.error('Failed to copy:', err);\n",
       "            element.style.color = 'red';\n",
       "            element.innerHTML = \"Failed!\";\n",
       "            setTimeout(() => {\n",
       "                element.innerHTML = originalHTML;\n",
       "                element.style = originalStyle;\n",
       "            }, 2000);\n",
       "        });\n",
       "    return false;\n",
       "}\n",
       "\n",
       "document.querySelectorAll('.fa-regular.fa-copy').forEach(function(element) {\n",
       "    const toggleableContent = element.closest('.sk-toggleable__content');\n",
       "    const paramPrefix = toggleableContent ? toggleableContent.dataset.paramPrefix : '';\n",
       "    const paramName = element.parentElement.nextElementSibling.textContent.trim();\n",
       "    const fullParamName = paramPrefix ? `${paramPrefix}${paramName}` : paramName;\n",
       "\n",
       "    element.setAttribute('title', fullParamName);\n",
       "});\n",
       "</script></body>"
      ],
      "text/plain": [
       "MLPRegressor(alpha=0.1, hidden_layer_sizes=(128, 64, 32), max_iter=3000,\n",
       "             random_state=42)"
      ]
     },
     "execution_count": 160,
     "metadata": {},
     "output_type": "execute_result"
    }
   ],
   "source": [
    "# building and fitting model\n",
    "regressor = MLPRegressor( hidden_layer_sizes=(128, 64, 32), alpha=0.1, max_iter=3000, random_state=42)\n",
    "regressor.fit(X_train_scaled, y_train_scaled)"
   ]
  },
  {
   "cell_type": "code",
   "execution_count": 161,
   "metadata": {},
   "outputs": [
    {
     "name": "stdout",
     "output_type": "stream",
     "text": [
      "Mean Squared Error: 0.4861\n",
      "R-squared: 0.7515\n",
      "Root Mean Squared Error: 0.6972\n"
     ]
    }
   ],
   "source": [
    "from sklearn.metrics import mean_squared_error, root_mean_squared_error, r2_score\n",
    "\n",
    "# predicting\n",
    "y_pred_scaled = regressor.predict(X_test_scaled)\n",
    "y_pred = scaler_y.inverse_transform(y_pred_scaled.reshape(-1, 1)).ravel()\n",
    "\n",
    "# statistical tests\n",
    "mse = mean_squared_error(y_test, y_pred)\n",
    "r2 = r2_score(y_test, y_pred)\n",
    "rmse = root_mean_squared_error(y_test, y_pred)\n",
    "\n",
    "print(f\"Mean Squared Error: {mse:.4f}\")\n",
    "print(f\"R-squared: {r2:.4f}\")\n",
    "print(f\"Root Mean Squared Error: {rmse:.4f}\")"
   ]
  },
  {
   "cell_type": "code",
   "execution_count": 162,
   "metadata": {},
   "outputs": [
    {
     "data": {
      "image/png": "[encoded data removed]",
      "text/plain": [
       "<Figure size 640x480 with 1 Axes>"
      ]
     },
     "metadata": {},
     "output_type": "display_data"
    }
   ],
   "source": [
    "plt.scatter(y_test, y_pred, alpha=0.5)\n",
    "plt.plot([y_test.min(), y_test.max()], [y_test.min(), y_test.max()], 'k--')\n",
    "plt.xlabel('Actual Log(Contributions)')\n",
    "plt.ylabel('Predicted Log(Contributions)')\n",
    "plt.title('Actual vs Predicted Values')\n",
    "plt.show()"
   ]
  },
  {
   "cell_type": "code",
   "execution_count": 163,
   "metadata": {},
   "outputs": [
    {
     "name": "stdout",
     "output_type": "stream",
     "text": [
      "Train score (R²): 0.7635\n",
      "Test score (R²): 0.7515\n"
     ]
    }
   ],
   "source": [
    "print(f\"Train score (R²): {regressor.score(X_train_scaled, y_train_scaled):.4f}\")\n",
    "print(f\"Test score (R²): {regressor.score(X_test_scaled, y_test_scaled):.4f}\")"
   ]
  },
  {
   "cell_type": "code",
   "execution_count": null,
   "metadata": {},
   "outputs": [],
   "source": [
    "print(f\"Median Contribution: {machine_learning_df[\"Contributions\"].median()}\")"
   ]
  },
  {
   "cell_type": "markdown",
   "metadata": {},
   "source": [
    "### Model Analysis"
   ]
  },
  {
   "cell_type": "markdown",
   "metadata": {},
   "source": [
    "To assess the effectiveness of our predictive model, we trained a Multi-Layer Perceptron (MLP) regressor to estimate total campaign contributions at the county level, using only three input features:\n",
    "- Median income\n",
    "- Median age\n",
    "- Total population\n",
    "\n",
    "##### Performance Metrics\n",
    "\n",
    "| Metric | Value |\n",
    "|----------|----------|\n",
    "| Train $R^2$ Score | $0.7635$  |\n",
    "| Test $R^2$ Score  | $0.7515$ |\n",
    "| Root MSE  | $15,852.44 |\n",
    "\n",
    "<!-- - The **Train** $R^2$ of $0.7635$: the model captured a significant amount of variance in the training data — suggesting that it effectively learned from demographic patterns.\n",
    "\n",
    "- The **Test** $R^2$ of $0.7515$: the model explains about $50\\%$ of the variance in county-level contributions in unseen data, which is strong considering only three input features were used. -->\n",
    "\n",
    "<!-- - The Train $R^2$ shows the model is learning (not underfitting) and the Test $R^2$ is reasonably close (not overfitting)\n",
    "\n",
    "- The average total campaign contribution per county in our dataset is about $8,475 , while the **Root Mean Squared Error RMSE** of our model is about $15,848. This means the model's typical prediction error is nearly double the average contribution amount, suggesting that:\n",
    "    - Contribution values are highly variable, with some counties contributing *much more than others*.\n",
    "    - A small number of outlier counties with very high contributions may still be influencing the model's learning, even after outlier removal.\n",
    "\n",
    "Despite this, the model still demonstrates strong performance for a real-world financial prediction with only basic demographic inputs. Explaining 50% of the variance in political contributions using just income, age, and population is solid, especially given the complexity and noisiness of campaign finance data. With additional features such as education level, internet access, or political affiliation, this model could be further refined. Even in its current form, it serves as a valuable tool for identifying counties with high fundraising potential, providing insights for campaign strategists. -->\n"
   ]
  },
  {
   "cell_type": "markdown",
   "metadata": {},
   "source": [
    "## 5. Insights and Conclusions"
   ]
  },
  {
   "cell_type": "markdown",
   "metadata": {},
   "source": [
    "After reading through this project, an uninformed reader will gain some insight, primarily through the visualizations, of the relationships between the intersection of demographics like income, age, and population, and campaign contributions and election outcomes.\n",
    "\n",
    "A reader who does already know about the topic will be able to see visualizations as well as the outcomes of statistical tests such as the $R^2$ or the Pearson, which will likely align with their background knowledge. They may also gain some insight into the Data Science side of political information, as our process of data collection and exploratory data analysis are displayed."
   ]
  }
 ],
 "metadata": {
  "kernelspec": {
   "display_name": "Python 3",
   "language": "python",
   "name": "python3"
  },
  "language_info": {
   "codemirror_mode": {
    "name": "ipython",
    "version": 3
   },
   "file_extension": ".py",
   "mimetype": "text/x-python",
   "name": "python",
   "nbconvert_exporter": "python",
   "pygments_lexer": "ipython3",
   "version": "3.10.12"
  },
  "orig_nbformat": 4
 },
 "nbformat": 4,
 "nbformat_minor": 2
}
